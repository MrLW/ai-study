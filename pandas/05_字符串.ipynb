{
 "cells": [
  {
   "cell_type": "code",
   "execution_count": 55,
   "id": "85935ee2",
   "metadata": {},
   "outputs": [],
   "source": [
    "import pandas as pd\n",
    "df=pd.read_csv(\"./data/beijing_weather.csv\")"
   ]
  },
  {
   "cell_type": "code",
   "execution_count": 56,
   "id": "387d14ce",
   "metadata": {},
   "outputs": [
    {
     "data": {
      "text/plain": [
       "城市    object\n",
       "时间    object\n",
       "天气    object\n",
       "温度    object\n",
       "风向    object\n",
       "dtype: object"
      ]
     },
     "execution_count": 56,
     "metadata": {},
     "output_type": "execute_result"
    }
   ],
   "source": [
    "df.dtypes"
   ]
  },
  {
   "cell_type": "code",
   "execution_count": 60,
   "id": "5830a4bd",
   "metadata": {},
   "outputs": [],
   "source": [
    "# str的链式应用法\n",
    "# 注意: .loc 的方式列只能指定一个, 不能指定多个\n",
    "# df.loc[:,[\"高温\",\"低温\"]] = df[\"温度\"].str.replace(\"℃\",\"\").str.replace(\"C\",\"\").str.split(\"～\", expand=True)\n",
    "df[[\"高温\",\"低温\"]]=df[\"温度\"].str.replace(\"℃\",\"\").str.replace(\"C\",\"\").str.split(\"～\", expand=True)\n"
   ]
  },
  {
   "cell_type": "code",
   "execution_count": 61,
   "id": "2dd73fcc",
   "metadata": {},
   "outputs": [
    {
     "data": {
      "text/html": [
       "<div>\n",
       "<style scoped>\n",
       "    .dataframe tbody tr th:only-of-type {\n",
       "        vertical-align: middle;\n",
       "    }\n",
       "\n",
       "    .dataframe tbody tr th {\n",
       "        vertical-align: top;\n",
       "    }\n",
       "\n",
       "    .dataframe thead th {\n",
       "        text-align: right;\n",
       "    }\n",
       "</style>\n",
       "<table border=\"1\" class=\"dataframe\">\n",
       "  <thead>\n",
       "    <tr style=\"text-align: right;\">\n",
       "      <th></th>\n",
       "      <th>0</th>\n",
       "      <th>1</th>\n",
       "    </tr>\n",
       "  </thead>\n",
       "  <tbody>\n",
       "    <tr>\n",
       "      <th>0</th>\n",
       "      <td>37</td>\n",
       "      <td>23</td>\n",
       "    </tr>\n",
       "    <tr>\n",
       "      <th>1</th>\n",
       "      <td>39</td>\n",
       "      <td>25</td>\n",
       "    </tr>\n",
       "  </tbody>\n",
       "</table>\n",
       "</div>"
      ],
      "text/plain": [
       "    0   1\n",
       "0  37  23\n",
       "1  39  25"
      ]
     },
     "execution_count": 61,
     "metadata": {},
     "output_type": "execute_result"
    }
   ],
   "source": [
    "df[\"温度\"].str.replace(\"℃\",\"\").str.replace(\"C\",\"\").str.split(\"～\", expand=True).head(2)"
   ]
  },
  {
   "cell_type": "code",
   "execution_count": 62,
   "id": "c1b943de",
   "metadata": {},
   "outputs": [
    {
     "data": {
      "text/html": [
       "<div>\n",
       "<style scoped>\n",
       "    .dataframe tbody tr th:only-of-type {\n",
       "        vertical-align: middle;\n",
       "    }\n",
       "\n",
       "    .dataframe tbody tr th {\n",
       "        vertical-align: top;\n",
       "    }\n",
       "\n",
       "    .dataframe thead th {\n",
       "        text-align: right;\n",
       "    }\n",
       "</style>\n",
       "<table border=\"1\" class=\"dataframe\">\n",
       "  <thead>\n",
       "    <tr style=\"text-align: right;\">\n",
       "      <th></th>\n",
       "      <th>城市</th>\n",
       "      <th>时间</th>\n",
       "      <th>天气</th>\n",
       "      <th>温度</th>\n",
       "      <th>风向</th>\n",
       "      <th>高温</th>\n",
       "      <th>低温</th>\n",
       "    </tr>\n",
       "  </thead>\n",
       "  <tbody>\n",
       "    <tr>\n",
       "      <th>0</th>\n",
       "      <td>北京</td>\n",
       "      <td>2018/6/30</td>\n",
       "      <td>雷阵雨转多云</td>\n",
       "      <td>37℃～23℃</td>\n",
       "      <td>西南风转东南风 &lt;3级</td>\n",
       "      <td>37</td>\n",
       "      <td>23</td>\n",
       "    </tr>\n",
       "    <tr>\n",
       "      <th>1</th>\n",
       "      <td>北京</td>\n",
       "      <td>2018/6/29</td>\n",
       "      <td>多云</td>\n",
       "      <td>39℃～25℃</td>\n",
       "      <td>西南风转南风 3-4级转3-4级</td>\n",
       "      <td>39</td>\n",
       "      <td>25</td>\n",
       "    </tr>\n",
       "    <tr>\n",
       "      <th>2</th>\n",
       "      <td>北京</td>\n",
       "      <td>2018/6/28</td>\n",
       "      <td>晴</td>\n",
       "      <td>35℃～24℃</td>\n",
       "      <td>北风转西南风 3-4级转3-4级</td>\n",
       "      <td>35</td>\n",
       "      <td>24</td>\n",
       "    </tr>\n",
       "  </tbody>\n",
       "</table>\n",
       "</div>"
      ],
      "text/plain": [
       "   城市         时间      天气       温度                风向  高温  低温\n",
       "0  北京  2018/6/30  雷阵雨转多云  37℃～23℃       西南风转东南风 <3级  37  23\n",
       "1  北京  2018/6/29      多云  39℃～25℃  西南风转南风 3-4级转3-4级  39  25\n",
       "2  北京  2018/6/28       晴  35℃～24℃  北风转西南风 3-4级转3-4级  35  24"
      ]
     },
     "execution_count": 62,
     "metadata": {},
     "output_type": "execute_result"
    }
   ],
   "source": [
    "df.head(3)"
   ]
  },
  {
   "cell_type": "code",
   "execution_count": 82,
   "id": "ce21b784",
   "metadata": {},
   "outputs": [
    {
     "data": {
      "text/plain": [
       "0     37～23\n",
       "1     39～25\n",
       "2     35～24\n",
       "3     38～25\n",
       "4     36～25\n",
       "5     30～25\n",
       "6     35～25\n",
       "7     35～25\n",
       "8     31～22\n",
       "9     35～23\n",
       "10    36～21\n",
       "11    34～20\n",
       "12    32～21\n",
       "13    27～22\n",
       "14    29～21\n",
       "15    29～20\n",
       "16    30～19\n",
       "17    22～18\n",
       "18    31～18\n",
       "19    26～19\n",
       "20    25～17\n",
       "21    22～17\n",
       "22    31～20\n",
       "23    32～20\n",
       "24    32～25\n",
       "25    38～25\n",
       "26    34～21\n",
       "27    30～18\n",
       "28    35～21\n",
       "29    35～21\n",
       "Name: 温度, dtype: object"
      ]
     },
     "execution_count": 82,
     "metadata": {},
     "output_type": "execute_result"
    }
   ],
   "source": [
    "### 正则的使用\n",
    "df[\"温度\"].str.replace(\"[℃C]\",\"\",regex=True)"
   ]
  },
  {
   "cell_type": "code",
   "execution_count": null,
   "id": "6571fc57",
   "metadata": {},
   "outputs": [],
   "source": []
  },
  {
   "cell_type": "code",
   "execution_count": null,
   "id": "052c41bd",
   "metadata": {},
   "outputs": [],
   "source": []
  }
 ],
 "metadata": {
  "kernelspec": {
   "display_name": "Python 3 (ipykernel)",
   "language": "python",
   "name": "python3"
  },
  "language_info": {
   "codemirror_mode": {
    "name": "ipython",
    "version": 3
   },
   "file_extension": ".py",
   "mimetype": "text/x-python",
   "name": "python",
   "nbconvert_exporter": "python",
   "pygments_lexer": "ipython3",
   "version": "3.11.5"
  }
 },
 "nbformat": 4,
 "nbformat_minor": 5
}
