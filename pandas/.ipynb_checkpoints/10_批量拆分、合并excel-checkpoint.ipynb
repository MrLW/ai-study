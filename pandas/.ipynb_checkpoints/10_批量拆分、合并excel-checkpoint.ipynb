{
 "cells": [
  {
   "cell_type": "code",
   "execution_count": 1,
   "id": "b31cbdf5",
   "metadata": {},
   "outputs": [],
   "source": [
    "import os\n",
    "work_dir=\"./data/10_split\"\n",
    "split_dir=f\"{work_dir}/splits\"\n",
    "if not os.path.exists(split_dir):\n",
    "    os.makedirs(split_dir)"
   ]
  },
  {
   "cell_type": "code",
   "execution_count": 2,
   "id": "7931eaf3",
   "metadata": {},
   "outputs": [],
   "source": [
    "import pandas as pd\n",
    "df=pd.read_csv('./data/10_split/movies.csv')"
   ]
  },
  {
   "cell_type": "code",
   "execution_count": 3,
   "id": "a052c82d",
   "metadata": {},
   "outputs": [
    {
     "data": {
      "text/html": [
       "<div>\n",
       "<style scoped>\n",
       "    .dataframe tbody tr th:only-of-type {\n",
       "        vertical-align: middle;\n",
       "    }\n",
       "\n",
       "    .dataframe tbody tr th {\n",
       "        vertical-align: top;\n",
       "    }\n",
       "\n",
       "    .dataframe thead th {\n",
       "        text-align: right;\n",
       "    }\n",
       "</style>\n",
       "<table border=\"1\" class=\"dataframe\">\n",
       "  <thead>\n",
       "    <tr style=\"text-align: right;\">\n",
       "      <th></th>\n",
       "      <th>movieId</th>\n",
       "      <th>title</th>\n",
       "      <th>genres</th>\n",
       "    </tr>\n",
       "  </thead>\n",
       "  <tbody>\n",
       "    <tr>\n",
       "      <th>0</th>\n",
       "      <td>1</td>\n",
       "      <td>Toy Story (1995)</td>\n",
       "      <td>Adventure|Animation|Children|Comedy|Fantasy</td>\n",
       "    </tr>\n",
       "    <tr>\n",
       "      <th>1</th>\n",
       "      <td>2</td>\n",
       "      <td>Jumanji (1995)</td>\n",
       "      <td>Adventure|Children|Fantasy</td>\n",
       "    </tr>\n",
       "    <tr>\n",
       "      <th>2</th>\n",
       "      <td>3</td>\n",
       "      <td>Grumpier Old Men (1995)</td>\n",
       "      <td>Comedy|Romance</td>\n",
       "    </tr>\n",
       "    <tr>\n",
       "      <th>3</th>\n",
       "      <td>4</td>\n",
       "      <td>Waiting to Exhale (1995)</td>\n",
       "      <td>Comedy|Drama|Romance</td>\n",
       "    </tr>\n",
       "    <tr>\n",
       "      <th>4</th>\n",
       "      <td>5</td>\n",
       "      <td>Father of the Bride Part II (1995)</td>\n",
       "      <td>Comedy</td>\n",
       "    </tr>\n",
       "  </tbody>\n",
       "</table>\n",
       "</div>"
      ],
      "text/plain": [
       "   movieId  ...                                       genres\n",
       "0        1  ...  Adventure|Animation|Children|Comedy|Fantasy\n",
       "1        2  ...                   Adventure|Children|Fantasy\n",
       "2        3  ...                               Comedy|Romance\n",
       "3        4  ...                         Comedy|Drama|Romance\n",
       "4        5  ...                                       Comedy\n",
       "\n",
       "[5 rows x 3 columns]"
      ]
     },
     "execution_count": 3,
     "metadata": {},
     "output_type": "execute_result"
    }
   ],
   "source": [
    "df.head()"
   ]
  },
  {
   "cell_type": "code",
   "execution_count": 6,
   "id": "b61a18d0",
   "metadata": {},
   "outputs": [],
   "source": [
    "row_count=df.shape[0]"
   ]
  },
  {
   "cell_type": "code",
   "execution_count": 7,
   "id": "6bb1005b",
   "metadata": {},
   "outputs": [
    {
     "data": {
      "text/plain": [
       "62423"
      ]
     },
     "execution_count": 7,
     "metadata": {},
     "output_type": "execute_result"
    }
   ],
   "source": [
    "row_count"
   ]
  },
  {
   "cell_type": "markdown",
   "id": "c5cc02b8",
   "metadata": {},
   "source": [
    "#### 将excel文件拆分成100份小文件"
   ]
  },
  {
   "cell_type": "code",
   "execution_count": 8,
   "id": "e75e08e3",
   "metadata": {},
   "outputs": [],
   "source": [
    "size=row_count // 6\n",
    "usernames=[\"aa\",\"bb\",\"cc\",\"dd\",\"ee\",\"ff\"]\n",
    "if row_count % 6 != 0:\n",
    "    size+1\n"
   ]
  },
  {
   "cell_type": "code",
   "execution_count": 9,
   "id": "c4b4ce8a",
   "metadata": {},
   "outputs": [
    {
     "data": {
      "text/plain": [
       "10403"
      ]
     },
     "execution_count": 9,
     "metadata": {},
     "output_type": "execute_result"
    }
   ],
   "source": [
    "size"
   ]
  },
  {
   "cell_type": "code",
   "execution_count": 26,
   "id": "479d53fb",
   "metadata": {},
   "outputs": [],
   "source": [
    "df_subs=[]\n",
    "for idx,name in enumerate(usernames):\n",
    "    begin=idx*size\n",
    "    end=begin+size\n",
    "    df_sub=df.iloc[begin:end]\n",
    "    df_subs.append((idx,name,df_sub))\n"
   ]
  },
  {
   "cell_type": "code",
   "execution_count": 29,
   "id": "5e8b988b",
   "metadata": {},
   "outputs": [],
   "source": [
    "# df_subs\n",
    "for idx,name,df_sub in df_subs:\n",
    "    filename=f\"./data/10_split/splits/{idx}-{name}.xlsx\"\n",
    "    df_sub.to_excel(filename,index=False)\n"
   ]
  },
  {
   "cell_type": "markdown",
   "id": "b13593cf",
   "metadata": {},
   "source": [
    "#### 合并excel"
   ]
  },
  {
   "cell_type": "code",
   "execution_count": 30,
   "id": "0779588b",
   "metadata": {},
   "outputs": [
    {
     "name": "stdout",
     "output_type": "stream",
     "text": [
      "['0-aa.xlsx', '4-ee.xlsx', '3-dd.xlsx', '1-bb.xlsx', '2-cc.xlsx', '5-ff.xlsx']\n"
     ]
    }
   ],
   "source": [
    "files_dir='./data/10_split/splits/'\n",
    "files=os.listdir(files_dir)\n"
   ]
  },
  {
   "cell_type": "code",
   "execution_count": 41,
   "id": "1b227559",
   "metadata": {},
   "outputs": [],
   "source": [
    "df_list=[]\n",
    "for filename in files:\n",
    "    _,username=filename.replace(\".xlsx\",\"\").split(\"-\")\n",
    "    df = pd.read_excel(f\"{files_dir}/{filename}\")\n",
    "    # 为df新增列\n",
    "    df[\"username\"]=username\n",
    "    df_list.append(df)\n",
    "    "
   ]
  },
  {
   "cell_type": "code",
   "execution_count": 42,
   "id": "4d67b618",
   "metadata": {},
   "outputs": [],
   "source": [
    "df_merge = pd.concat(df_list, ignore_index=True)"
   ]
  },
  {
   "cell_type": "code",
   "execution_count": 43,
   "id": "f46bac04",
   "metadata": {},
   "outputs": [
    {
     "data": {
      "text/plain": [
       "(62418, 4)"
      ]
     },
     "execution_count": 43,
     "metadata": {},
     "output_type": "execute_result"
    }
   ],
   "source": [
    "df_merge.shape"
   ]
  },
  {
   "cell_type": "code",
   "execution_count": null,
   "id": "74e23ada",
   "metadata": {},
   "outputs": [],
   "source": [
    "df_merge.to_excel(f\"{files_dir}/movie_{merged}.xlsx\")"
   ]
  }
 ],
 "metadata": {
  "kernelspec": {
   "display_name": "Python 3 (ipykernel)",
   "language": "python",
   "name": "python3"
  },
  "language_info": {
   "codemirror_mode": {
    "name": "ipython",
    "version": 3
   },
   "file_extension": ".py",
   "mimetype": "text/x-python",
   "name": "python",
   "nbconvert_exporter": "python",
   "pygments_lexer": "ipython3",
   "version": "3.11.5"
  }
 },
 "nbformat": 4,
 "nbformat_minor": 5
}
