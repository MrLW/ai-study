{
 "cells": [
  {
   "cell_type": "markdown",
   "id": "938589f8",
   "metadata": {},
   "source": [
    "import pandas as pd"
   ]
  },
  {
   "cell_type": "code",
   "execution_count": null,
   "id": "670a6c25",
   "metadata": {},
   "outputs": [],
   "source": [
    "filepath=\"./data/movie.csv\"\n",
    "ratings=pd.read_csv(filepath) # 读取csv 文件"
   ]
  },
  {
   "cell_type": "code",
   "execution_count": 6,
   "id": "e2841909",
   "metadata": {},
   "outputs": [
    {
     "name": "stdout",
     "output_type": "stream",
     "text": [
      "   userId  movieId  rating\n",
      "0       1        1     0.5\n",
      "1       1        1     0.5\n",
      "2       1        1     0.5\n"
     ]
    }
   ],
   "source": [
    "print(ratings.head(3)) # 读取前3行数据"
   ]
  },
  {
   "cell_type": "code",
   "execution_count": 7,
   "id": "63b7a5c7",
   "metadata": {},
   "outputs": [
    {
     "name": "stdout",
     "output_type": "stream",
     "text": [
      "(24, 3)\n"
     ]
    }
   ],
   "source": [
    "print(ratings.shape) # 返回行数和列数"
   ]
  },
  {
   "cell_type": "code",
   "execution_count": 8,
   "id": "36aadab6",
   "metadata": {},
   "outputs": [
    {
     "name": "stdout",
     "output_type": "stream",
     "text": [
      "Index(['userId', 'movieId', 'rating'], dtype='object')\n"
     ]
    }
   ],
   "source": [
    "print(ratings.columns) # 返回列的名称"
   ]
  },
  {
   "cell_type": "code",
   "execution_count": 9,
   "id": "13487025",
   "metadata": {},
   "outputs": [
    {
     "name": "stdout",
     "output_type": "stream",
     "text": [
      "RangeIndex(start=0, stop=24, step=1)\n"
     ]
    }
   ],
   "source": [
    "print(ratings.index) # 返回索引"
   ]
  },
  {
   "cell_type": "code",
   "execution_count": null,
   "id": "9b4b6585",
   "metadata": {},
   "outputs": [],
   "source": []
  }
 ],
 "metadata": {
  "kernelspec": {
   "display_name": "Python 3 (ipykernel)",
   "language": "python",
   "name": "python3"
  },
  "language_info": {
   "codemirror_mode": {
    "name": "ipython",
    "version": 3
   },
   "file_extension": ".py",
   "mimetype": "text/x-python",
   "name": "python",
   "nbconvert_exporter": "python",
   "pygments_lexer": "ipython3",
   "version": "3.11.5"
  },
  "toc": {
   "base_numbering": 1,
   "nav_menu": {},
   "number_sections": true,
   "sideBar": true,
   "skip_h1_title": false,
   "title_cell": "Table of Contents",
   "title_sidebar": "Contents",
   "toc_cell": false,
   "toc_position": {},
   "toc_section_display": true,
   "toc_window_display": false
  }
 },
 "nbformat": 4,
 "nbformat_minor": 5
}
