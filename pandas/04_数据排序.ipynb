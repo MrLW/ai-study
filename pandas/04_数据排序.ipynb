{
 "cells": [
  {
   "cell_type": "code",
   "execution_count": 21,
   "id": "a1bd5e0f",
   "metadata": {},
   "outputs": [],
   "source": [
    "import pandas as pd\n",
    "df=pd.read_csv(\"./data/beijing_weather.csv\")"
   ]
  },
  {
   "cell_type": "code",
   "execution_count": 23,
   "id": "b91c49c3",
   "metadata": {},
   "outputs": [],
   "source": [
    "# df.loc[:,[\"高温\",\"低温\"]]=df[\"温度\"].\n",
    "df[\"温度\"] = df[\"温度\"].str.replace(\"℃\", \"\")\n",
    "df[\"温度\"] = df[\"温度\"].str.replace(\"C\", \"\")"
   ]
  },
  {
   "cell_type": "code",
   "execution_count": 25,
   "id": "aa50b47c",
   "metadata": {},
   "outputs": [
    {
     "data": {
      "text/html": [
       "<div>\n",
       "<style scoped>\n",
       "    .dataframe tbody tr th:only-of-type {\n",
       "        vertical-align: middle;\n",
       "    }\n",
       "\n",
       "    .dataframe tbody tr th {\n",
       "        vertical-align: top;\n",
       "    }\n",
       "\n",
       "    .dataframe thead th {\n",
       "        text-align: right;\n",
       "    }\n",
       "</style>\n",
       "<table border=\"1\" class=\"dataframe\">\n",
       "  <thead>\n",
       "    <tr style=\"text-align: right;\">\n",
       "      <th></th>\n",
       "      <th>城市</th>\n",
       "      <th>时间</th>\n",
       "      <th>天气</th>\n",
       "      <th>温度</th>\n",
       "      <th>风向</th>\n",
       "    </tr>\n",
       "  </thead>\n",
       "  <tbody>\n",
       "    <tr>\n",
       "      <th>0</th>\n",
       "      <td>北京</td>\n",
       "      <td>2018/6/30</td>\n",
       "      <td>雷阵雨转多云</td>\n",
       "      <td>37～23</td>\n",
       "      <td>西南风转东南风 &lt;3级</td>\n",
       "    </tr>\n",
       "  </tbody>\n",
       "</table>\n",
       "</div>"
      ],
      "text/plain": [
       "   城市         时间      天气     温度           风向\n",
       "0  北京  2018/6/30  雷阵雨转多云  37～23  西南风转东南风 <3级"
      ]
     },
     "execution_count": 25,
     "metadata": {},
     "output_type": "execute_result"
    }
   ],
   "source": [
    "df.head(1)"
   ]
  },
  {
   "cell_type": "code",
   "execution_count": 26,
   "id": "7376610f",
   "metadata": {},
   "outputs": [],
   "source": [
    "df[[\"高温\",\"低温\"]] = df[\"温度\"].str.split(\"～\", expand=True)"
   ]
  },
  {
   "cell_type": "code",
   "execution_count": 28,
   "id": "fa14825e",
   "metadata": {},
   "outputs": [],
   "source": [
    "df.drop([\"温度\"], axis=1, inplace=True)"
   ]
  },
  {
   "cell_type": "code",
   "execution_count": 29,
   "id": "896e6932",
   "metadata": {},
   "outputs": [
    {
     "data": {
      "text/html": [
       "<div>\n",
       "<style scoped>\n",
       "    .dataframe tbody tr th:only-of-type {\n",
       "        vertical-align: middle;\n",
       "    }\n",
       "\n",
       "    .dataframe tbody tr th {\n",
       "        vertical-align: top;\n",
       "    }\n",
       "\n",
       "    .dataframe thead th {\n",
       "        text-align: right;\n",
       "    }\n",
       "</style>\n",
       "<table border=\"1\" class=\"dataframe\">\n",
       "  <thead>\n",
       "    <tr style=\"text-align: right;\">\n",
       "      <th></th>\n",
       "      <th>城市</th>\n",
       "      <th>时间</th>\n",
       "      <th>天气</th>\n",
       "      <th>风向</th>\n",
       "      <th>高温</th>\n",
       "      <th>低温</th>\n",
       "    </tr>\n",
       "  </thead>\n",
       "  <tbody>\n",
       "    <tr>\n",
       "      <th>0</th>\n",
       "      <td>北京</td>\n",
       "      <td>2018/6/30</td>\n",
       "      <td>雷阵雨转多云</td>\n",
       "      <td>西南风转东南风 &lt;3级</td>\n",
       "      <td>37</td>\n",
       "      <td>23</td>\n",
       "    </tr>\n",
       "    <tr>\n",
       "      <th>1</th>\n",
       "      <td>北京</td>\n",
       "      <td>2018/6/29</td>\n",
       "      <td>多云</td>\n",
       "      <td>西南风转南风 3-4级转3-4级</td>\n",
       "      <td>39</td>\n",
       "      <td>25</td>\n",
       "    </tr>\n",
       "    <tr>\n",
       "      <th>2</th>\n",
       "      <td>北京</td>\n",
       "      <td>2018/6/28</td>\n",
       "      <td>晴</td>\n",
       "      <td>北风转西南风 3-4级转3-4级</td>\n",
       "      <td>35</td>\n",
       "      <td>24</td>\n",
       "    </tr>\n",
       "    <tr>\n",
       "      <th>3</th>\n",
       "      <td>北京</td>\n",
       "      <td>2018/6/27</td>\n",
       "      <td>多云转晴</td>\n",
       "      <td>西北风转微风 3-4级转3-4级</td>\n",
       "      <td>38</td>\n",
       "      <td>25</td>\n",
       "    </tr>\n",
       "  </tbody>\n",
       "</table>\n",
       "</div>"
      ],
      "text/plain": [
       "   城市         时间      天气                风向  高温  低温\n",
       "0  北京  2018/6/30  雷阵雨转多云       西南风转东南风 <3级  37  23\n",
       "1  北京  2018/6/29      多云  西南风转南风 3-4级转3-4级  39  25\n",
       "2  北京  2018/6/28       晴  北风转西南风 3-4级转3-4级  35  24\n",
       "3  北京  2018/6/27    多云转晴  西北风转微风 3-4级转3-4级  38  25"
      ]
     },
     "execution_count": 29,
     "metadata": {},
     "output_type": "execute_result"
    }
   ],
   "source": [
    "df.head(4)"
   ]
  },
  {
   "cell_type": "markdown",
   "id": "c2bb2db5",
   "metadata": {},
   "source": [
    "### Series 排序"
   ]
  },
  {
   "cell_type": "code",
   "execution_count": 31,
   "id": "9381ed40",
   "metadata": {},
   "outputs": [
    {
     "data": {
      "text/plain": [
       "17    22\n",
       "21    22\n",
       "Name: 高温, dtype: object"
      ]
     },
     "execution_count": 31,
     "metadata": {},
     "output_type": "execute_result"
    }
   ],
   "source": [
    "# 升序排列, 第一列为index\n",
    "df[\"高温\"].sort_values().head(2)"
   ]
  },
  {
   "cell_type": "code",
   "execution_count": 33,
   "id": "c2b1111d",
   "metadata": {},
   "outputs": [
    {
     "data": {
      "text/plain": [
       "1     39\n",
       "3     38\n",
       "25    38\n",
       "0     37\n",
       "4     36\n",
       "Name: 高温, dtype: object"
      ]
     },
     "execution_count": 33,
     "metadata": {},
     "output_type": "execute_result"
    }
   ],
   "source": [
    "df[\"高温\"].sort_values(ascending=False).head(5)"
   ]
  },
  {
   "cell_type": "markdown",
   "id": "d944445b",
   "metadata": {},
   "source": [
    "### DataFrame 排序"
   ]
  },
  {
   "cell_type": "code",
   "execution_count": 37,
   "id": "1ec86a98",
   "metadata": {},
   "outputs": [
    {
     "data": {
      "text/html": [
       "<div>\n",
       "<style scoped>\n",
       "    .dataframe tbody tr th:only-of-type {\n",
       "        vertical-align: middle;\n",
       "    }\n",
       "\n",
       "    .dataframe tbody tr th {\n",
       "        vertical-align: top;\n",
       "    }\n",
       "\n",
       "    .dataframe thead th {\n",
       "        text-align: right;\n",
       "    }\n",
       "</style>\n",
       "<table border=\"1\" class=\"dataframe\">\n",
       "  <thead>\n",
       "    <tr style=\"text-align: right;\">\n",
       "      <th></th>\n",
       "      <th>城市</th>\n",
       "      <th>时间</th>\n",
       "      <th>天气</th>\n",
       "      <th>风向</th>\n",
       "      <th>高温</th>\n",
       "      <th>低温</th>\n",
       "    </tr>\n",
       "  </thead>\n",
       "  <tbody>\n",
       "    <tr>\n",
       "      <th>1</th>\n",
       "      <td>北京</td>\n",
       "      <td>2018/6/29</td>\n",
       "      <td>多云</td>\n",
       "      <td>西南风转南风 3-4级转3-4级</td>\n",
       "      <td>39</td>\n",
       "      <td>25</td>\n",
       "    </tr>\n",
       "    <tr>\n",
       "      <th>3</th>\n",
       "      <td>北京</td>\n",
       "      <td>2018/6/27</td>\n",
       "      <td>多云转晴</td>\n",
       "      <td>西北风转微风 3-4级转3-4级</td>\n",
       "      <td>38</td>\n",
       "      <td>25</td>\n",
       "    </tr>\n",
       "    <tr>\n",
       "      <th>25</th>\n",
       "      <td>北京</td>\n",
       "      <td>2018/6/5</td>\n",
       "      <td>多云</td>\n",
       "      <td>西南风 3-4级转3-4级</td>\n",
       "      <td>38</td>\n",
       "      <td>25</td>\n",
       "    </tr>\n",
       "    <tr>\n",
       "      <th>0</th>\n",
       "      <td>北京</td>\n",
       "      <td>2018/6/30</td>\n",
       "      <td>雷阵雨转多云</td>\n",
       "      <td>西南风转东南风 &lt;3级</td>\n",
       "      <td>37</td>\n",
       "      <td>23</td>\n",
       "    </tr>\n",
       "    <tr>\n",
       "      <th>4</th>\n",
       "      <td>北京</td>\n",
       "      <td>2018/6/26</td>\n",
       "      <td>晴</td>\n",
       "      <td>西南风转南风 3-4级转3-4级</td>\n",
       "      <td>36</td>\n",
       "      <td>25</td>\n",
       "    </tr>\n",
       "  </tbody>\n",
       "</table>\n",
       "</div>"
      ],
      "text/plain": [
       "    城市         时间      天气                风向  高温  低温\n",
       "1   北京  2018/6/29      多云  西南风转南风 3-4级转3-4级  39  25\n",
       "3   北京  2018/6/27    多云转晴  西北风转微风 3-4级转3-4级  38  25\n",
       "25  北京   2018/6/5      多云     西南风 3-4级转3-4级  38  25\n",
       "0   北京  2018/6/30  雷阵雨转多云       西南风转东南风 <3级  37  23\n",
       "4   北京  2018/6/26       晴  西南风转南风 3-4级转3-4级  36  25"
      ]
     },
     "execution_count": 37,
     "metadata": {},
     "output_type": "execute_result"
    }
   ],
   "source": [
    "df.sort_values(by=\"高温\", ascending=False).head(5)"
   ]
  },
  {
   "cell_type": "code",
   "execution_count": 41,
   "id": "012babbe",
   "metadata": {},
   "outputs": [
    {
     "data": {
      "text/html": [
       "<div>\n",
       "<style scoped>\n",
       "    .dataframe tbody tr th:only-of-type {\n",
       "        vertical-align: middle;\n",
       "    }\n",
       "\n",
       "    .dataframe tbody tr th {\n",
       "        vertical-align: top;\n",
       "    }\n",
       "\n",
       "    .dataframe thead th {\n",
       "        text-align: right;\n",
       "    }\n",
       "</style>\n",
       "<table border=\"1\" class=\"dataframe\">\n",
       "  <thead>\n",
       "    <tr style=\"text-align: right;\">\n",
       "      <th></th>\n",
       "      <th>城市</th>\n",
       "      <th>时间</th>\n",
       "      <th>天气</th>\n",
       "      <th>风向</th>\n",
       "      <th>高温</th>\n",
       "      <th>低温</th>\n",
       "    </tr>\n",
       "  </thead>\n",
       "  <tbody>\n",
       "    <tr>\n",
       "      <th>1</th>\n",
       "      <td>北京</td>\n",
       "      <td>2018/6/29</td>\n",
       "      <td>多云</td>\n",
       "      <td>西南风转南风 3-4级转3-4级</td>\n",
       "      <td>39</td>\n",
       "      <td>25</td>\n",
       "    </tr>\n",
       "    <tr>\n",
       "      <th>3</th>\n",
       "      <td>北京</td>\n",
       "      <td>2018/6/27</td>\n",
       "      <td>多云转晴</td>\n",
       "      <td>西北风转微风 3-4级转3-4级</td>\n",
       "      <td>38</td>\n",
       "      <td>25</td>\n",
       "    </tr>\n",
       "    <tr>\n",
       "      <th>25</th>\n",
       "      <td>北京</td>\n",
       "      <td>2018/6/5</td>\n",
       "      <td>多云</td>\n",
       "      <td>西南风 3-4级转3-4级</td>\n",
       "      <td>38</td>\n",
       "      <td>25</td>\n",
       "    </tr>\n",
       "    <tr>\n",
       "      <th>0</th>\n",
       "      <td>北京</td>\n",
       "      <td>2018/6/30</td>\n",
       "      <td>雷阵雨转多云</td>\n",
       "      <td>西南风转东南风 &lt;3级</td>\n",
       "      <td>37</td>\n",
       "      <td>23</td>\n",
       "    </tr>\n",
       "    <tr>\n",
       "      <th>4</th>\n",
       "      <td>北京</td>\n",
       "      <td>2018/6/26</td>\n",
       "      <td>晴</td>\n",
       "      <td>西南风转南风 3-4级转3-4级</td>\n",
       "      <td>36</td>\n",
       "      <td>25</td>\n",
       "    </tr>\n",
       "    <tr>\n",
       "      <th>10</th>\n",
       "      <td>北京</td>\n",
       "      <td>2018/6/20</td>\n",
       "      <td>晴</td>\n",
       "      <td>西风转南风 3-4级转3-4级</td>\n",
       "      <td>36</td>\n",
       "      <td>21</td>\n",
       "    </tr>\n",
       "    <tr>\n",
       "      <th>6</th>\n",
       "      <td>北京</td>\n",
       "      <td>2018/6/24</td>\n",
       "      <td>阴转多云</td>\n",
       "      <td>西南风转南风 3-4级</td>\n",
       "      <td>35</td>\n",
       "      <td>25</td>\n",
       "    </tr>\n",
       "    <tr>\n",
       "      <th>7</th>\n",
       "      <td>北京</td>\n",
       "      <td>2018/6/23</td>\n",
       "      <td>晴</td>\n",
       "      <td>南风转西南风 3-4级转3-4级</td>\n",
       "      <td>35</td>\n",
       "      <td>25</td>\n",
       "    </tr>\n",
       "    <tr>\n",
       "      <th>2</th>\n",
       "      <td>北京</td>\n",
       "      <td>2018/6/28</td>\n",
       "      <td>晴</td>\n",
       "      <td>北风转西南风 3-4级转3-4级</td>\n",
       "      <td>35</td>\n",
       "      <td>24</td>\n",
       "    </tr>\n",
       "    <tr>\n",
       "      <th>9</th>\n",
       "      <td>北京</td>\n",
       "      <td>2018/6/21</td>\n",
       "      <td>多云</td>\n",
       "      <td>东北风转东南风 3-4级转3-4级</td>\n",
       "      <td>35</td>\n",
       "      <td>23</td>\n",
       "    </tr>\n",
       "  </tbody>\n",
       "</table>\n",
       "</div>"
      ],
      "text/plain": [
       "    城市         时间      天气                 风向  高温  低温\n",
       "1   北京  2018/6/29      多云   西南风转南风 3-4级转3-4级  39  25\n",
       "3   北京  2018/6/27    多云转晴   西北风转微风 3-4级转3-4级  38  25\n",
       "25  北京   2018/6/5      多云      西南风 3-4级转3-4级  38  25\n",
       "0   北京  2018/6/30  雷阵雨转多云        西南风转东南风 <3级  37  23\n",
       "4   北京  2018/6/26       晴   西南风转南风 3-4级转3-4级  36  25\n",
       "10  北京  2018/6/20       晴    西风转南风 3-4级转3-4级  36  21\n",
       "6   北京  2018/6/24    阴转多云        西南风转南风 3-4级  35  25\n",
       "7   北京  2018/6/23       晴   南风转西南风 3-4级转3-4级  35  25\n",
       "2   北京  2018/6/28       晴   北风转西南风 3-4级转3-4级  35  24\n",
       "9   北京  2018/6/21      多云  东北风转东南风 3-4级转3-4级  35  23"
      ]
     },
     "execution_count": 41,
     "metadata": {},
     "output_type": "execute_result"
    }
   ],
   "source": [
    "df.sort_values(by=[\"高温\",\"低温\"], ascending=[False,False]).head(10)"
   ]
  },
  {
   "cell_type": "code",
   "execution_count": null,
   "id": "dd44c53e",
   "metadata": {},
   "outputs": [],
   "source": []
  }
 ],
 "metadata": {
  "kernelspec": {
   "display_name": "Python 3 (ipykernel)",
   "language": "python",
   "name": "python3"
  },
  "language_info": {
   "codemirror_mode": {
    "name": "ipython",
    "version": 3
   },
   "file_extension": ".py",
   "mimetype": "text/x-python",
   "name": "python",
   "nbconvert_exporter": "python",
   "pygments_lexer": "ipython3",
   "version": "3.11.5"
  }
 },
 "nbformat": 4,
 "nbformat_minor": 5
}
