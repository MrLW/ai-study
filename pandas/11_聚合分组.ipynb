{
 "cells": [
  {
   "cell_type": "markdown",
   "id": "c38c9312",
   "metadata": {},
   "source": [
    "#### groupBy的使用\n",
    "\n",
    "1. groupBy可以对单个列和多个列进行统计\n",
    "2. groupBy分组列默认会变成索引，可以通过参数as_index=False取消默认配置\n",
    "3. 对于groupBy的结果值，其实是一组组(name,DataFrame)的元组, 因此我们可以通过get_group(name)来获取对应的DataFrame，对于多个列分组的情况，name将会是一个元组\n",
    "#### agg\n",
    "\n",
    "1. 聚合可以结合numpy库的多种函数来使用\n"
   ]
  },
  {
   "cell_type": "code",
   "execution_count": null,
   "id": "60c4f9a8",
   "metadata": {},
   "outputs": [],
   "source": [
    "import pandas as pd\n",
    "import numpy as np\n",
    "# TODO\n",
    "%matplotlib inline"
   ]
  },
  {
   "cell_type": "code",
   "execution_count": 45,
   "id": "ef55e6c7",
   "metadata": {},
   "outputs": [],
   "source": [
    "df=pd.DataFrame({\n",
    "    \"A\":[\"a\",\"aa\",\"aa\",\"aa\",\"aaaaa\"],\n",
    "    \"B\":[\"b\",\"bb\", \"bb\", \"bbbb\",\"bbbbb\"],\n",
    "    \"C\": np.random.randn(5),\n",
    "    \"D\": np.random.randn(5)\n",
    "})"
   ]
  },
  {
   "cell_type": "code",
   "execution_count": 11,
   "id": "951ad96a",
   "metadata": {},
   "outputs": [
    {
     "data": {
      "text/html": [
       "<div>\n",
       "<style scoped>\n",
       "    .dataframe tbody tr th:only-of-type {\n",
       "        vertical-align: middle;\n",
       "    }\n",
       "\n",
       "    .dataframe tbody tr th {\n",
       "        vertical-align: top;\n",
       "    }\n",
       "\n",
       "    .dataframe thead th {\n",
       "        text-align: right;\n",
       "    }\n",
       "</style>\n",
       "<table border=\"1\" class=\"dataframe\">\n",
       "  <thead>\n",
       "    <tr style=\"text-align: right;\">\n",
       "      <th></th>\n",
       "      <th>A</th>\n",
       "      <th>B</th>\n",
       "      <th>C</th>\n",
       "      <th>D</th>\n",
       "    </tr>\n",
       "  </thead>\n",
       "  <tbody>\n",
       "    <tr>\n",
       "      <th>0</th>\n",
       "      <td>a</td>\n",
       "      <td>b</td>\n",
       "      <td>0.404962</td>\n",
       "      <td>0.949007</td>\n",
       "    </tr>\n",
       "    <tr>\n",
       "      <th>1</th>\n",
       "      <td>aa</td>\n",
       "      <td>bb</td>\n",
       "      <td>0.098587</td>\n",
       "      <td>-0.420942</td>\n",
       "    </tr>\n",
       "    <tr>\n",
       "      <th>2</th>\n",
       "      <td>aa</td>\n",
       "      <td>bb</td>\n",
       "      <td>0.794986</td>\n",
       "      <td>2.097131</td>\n",
       "    </tr>\n",
       "    <tr>\n",
       "      <th>3</th>\n",
       "      <td>aa</td>\n",
       "      <td>bbbb</td>\n",
       "      <td>1.171146</td>\n",
       "      <td>-0.332080</td>\n",
       "    </tr>\n",
       "    <tr>\n",
       "      <th>4</th>\n",
       "      <td>aaaaa</td>\n",
       "      <td>bbbbb</td>\n",
       "      <td>1.210573</td>\n",
       "      <td>0.610010</td>\n",
       "    </tr>\n",
       "  </tbody>\n",
       "</table>\n",
       "</div>"
      ],
      "text/plain": [
       "       A      B         C         D\n",
       "0      a      b  0.404962  0.949007\n",
       "1     aa     bb  0.098587 -0.420942\n",
       "2     aa     bb  0.794986  2.097131\n",
       "3     aa   bbbb  1.171146 -0.332080\n",
       "4  aaaaa  bbbbb  1.210573  0.610010"
      ]
     },
     "execution_count": 11,
     "metadata": {},
     "output_type": "execute_result"
    }
   ],
   "source": [
    "df"
   ]
  },
  {
   "cell_type": "code",
   "execution_count": 12,
   "id": "e8b8880e",
   "metadata": {},
   "outputs": [
    {
     "data": {
      "text/html": [
       "<div>\n",
       "<style scoped>\n",
       "    .dataframe tbody tr th:only-of-type {\n",
       "        vertical-align: middle;\n",
       "    }\n",
       "\n",
       "    .dataframe tbody tr th {\n",
       "        vertical-align: top;\n",
       "    }\n",
       "\n",
       "    .dataframe thead th {\n",
       "        text-align: right;\n",
       "    }\n",
       "</style>\n",
       "<table border=\"1\" class=\"dataframe\">\n",
       "  <thead>\n",
       "    <tr style=\"text-align: right;\">\n",
       "      <th></th>\n",
       "      <th>B</th>\n",
       "      <th>C</th>\n",
       "      <th>D</th>\n",
       "    </tr>\n",
       "    <tr>\n",
       "      <th>A</th>\n",
       "      <th></th>\n",
       "      <th></th>\n",
       "      <th></th>\n",
       "    </tr>\n",
       "  </thead>\n",
       "  <tbody>\n",
       "    <tr>\n",
       "      <th>a</th>\n",
       "      <td>b</td>\n",
       "      <td>0.404962</td>\n",
       "      <td>0.949007</td>\n",
       "    </tr>\n",
       "    <tr>\n",
       "      <th>aa</th>\n",
       "      <td>bbbbbbbb</td>\n",
       "      <td>2.064718</td>\n",
       "      <td>1.344110</td>\n",
       "    </tr>\n",
       "    <tr>\n",
       "      <th>aaaaa</th>\n",
       "      <td>bbbbb</td>\n",
       "      <td>1.210573</td>\n",
       "      <td>0.610010</td>\n",
       "    </tr>\n",
       "  </tbody>\n",
       "</table>\n",
       "</div>"
      ],
      "text/plain": [
       "              B         C         D\n",
       "A                                  \n",
       "a             b  0.404962  0.949007\n",
       "aa     bbbbbbbb  2.064718  1.344110\n",
       "aaaaa     bbbbb  1.210573  0.610010"
      ]
     },
     "execution_count": 12,
     "metadata": {},
     "output_type": "execute_result"
    }
   ],
   "source": [
    "# 单个groupBy 分组\n",
    "df.groupby([\"A\"]).sum()"
   ]
  },
  {
   "cell_type": "code",
   "execution_count": 13,
   "id": "81e03ae2",
   "metadata": {},
   "outputs": [
    {
     "data": {
      "text/html": [
       "<div>\n",
       "<style scoped>\n",
       "    .dataframe tbody tr th:only-of-type {\n",
       "        vertical-align: middle;\n",
       "    }\n",
       "\n",
       "    .dataframe tbody tr th {\n",
       "        vertical-align: top;\n",
       "    }\n",
       "\n",
       "    .dataframe thead th {\n",
       "        text-align: right;\n",
       "    }\n",
       "</style>\n",
       "<table border=\"1\" class=\"dataframe\">\n",
       "  <thead>\n",
       "    <tr style=\"text-align: right;\">\n",
       "      <th></th>\n",
       "      <th></th>\n",
       "      <th>C</th>\n",
       "      <th>D</th>\n",
       "    </tr>\n",
       "    <tr>\n",
       "      <th>A</th>\n",
       "      <th>B</th>\n",
       "      <th></th>\n",
       "      <th></th>\n",
       "    </tr>\n",
       "  </thead>\n",
       "  <tbody>\n",
       "    <tr>\n",
       "      <th>a</th>\n",
       "      <th>b</th>\n",
       "      <td>0.404962</td>\n",
       "      <td>0.949007</td>\n",
       "    </tr>\n",
       "    <tr>\n",
       "      <th rowspan=\"2\" valign=\"top\">aa</th>\n",
       "      <th>bb</th>\n",
       "      <td>0.446786</td>\n",
       "      <td>0.838095</td>\n",
       "    </tr>\n",
       "    <tr>\n",
       "      <th>bbbb</th>\n",
       "      <td>1.171146</td>\n",
       "      <td>-0.332080</td>\n",
       "    </tr>\n",
       "    <tr>\n",
       "      <th>aaaaa</th>\n",
       "      <th>bbbbb</th>\n",
       "      <td>1.210573</td>\n",
       "      <td>0.610010</td>\n",
       "    </tr>\n",
       "  </tbody>\n",
       "</table>\n",
       "</div>"
      ],
      "text/plain": [
       "                    C         D\n",
       "A     B                        \n",
       "a     b      0.404962  0.949007\n",
       "aa    bb     0.446786  0.838095\n",
       "      bbbb   1.171146 -0.332080\n",
       "aaaaa bbbbb  1.210573  0.610010"
      ]
     },
     "execution_count": 13,
     "metadata": {},
     "output_type": "execute_result"
    }
   ],
   "source": [
    "# 多列的分组\n",
    "df.groupby([\"A\",\"B\"]).mean()"
   ]
  },
  {
   "cell_type": "code",
   "execution_count": 14,
   "id": "636c3402",
   "metadata": {},
   "outputs": [
    {
     "data": {
      "text/html": [
       "<div>\n",
       "<style scoped>\n",
       "    .dataframe tbody tr th:only-of-type {\n",
       "        vertical-align: middle;\n",
       "    }\n",
       "\n",
       "    .dataframe tbody tr th {\n",
       "        vertical-align: top;\n",
       "    }\n",
       "\n",
       "    .dataframe thead th {\n",
       "        text-align: right;\n",
       "    }\n",
       "</style>\n",
       "<table border=\"1\" class=\"dataframe\">\n",
       "  <thead>\n",
       "    <tr style=\"text-align: right;\">\n",
       "      <th></th>\n",
       "      <th>A</th>\n",
       "      <th>B</th>\n",
       "      <th>C</th>\n",
       "      <th>D</th>\n",
       "    </tr>\n",
       "  </thead>\n",
       "  <tbody>\n",
       "    <tr>\n",
       "      <th>0</th>\n",
       "      <td>a</td>\n",
       "      <td>b</td>\n",
       "      <td>0.404962</td>\n",
       "      <td>0.949007</td>\n",
       "    </tr>\n",
       "    <tr>\n",
       "      <th>1</th>\n",
       "      <td>aa</td>\n",
       "      <td>bb</td>\n",
       "      <td>0.446786</td>\n",
       "      <td>0.838095</td>\n",
       "    </tr>\n",
       "    <tr>\n",
       "      <th>2</th>\n",
       "      <td>aa</td>\n",
       "      <td>bbbb</td>\n",
       "      <td>1.171146</td>\n",
       "      <td>-0.332080</td>\n",
       "    </tr>\n",
       "    <tr>\n",
       "      <th>3</th>\n",
       "      <td>aaaaa</td>\n",
       "      <td>bbbbb</td>\n",
       "      <td>1.210573</td>\n",
       "      <td>0.610010</td>\n",
       "    </tr>\n",
       "  </tbody>\n",
       "</table>\n",
       "</div>"
      ],
      "text/plain": [
       "       A      B         C         D\n",
       "0      a      b  0.404962  0.949007\n",
       "1     aa     bb  0.446786  0.838095\n",
       "2     aa   bbbb  1.171146 -0.332080\n",
       "3  aaaaa  bbbbb  1.210573  0.610010"
      ]
     },
     "execution_count": 14,
     "metadata": {},
     "output_type": "execute_result"
    }
   ],
   "source": [
    "# 此时A、B变成了索引\n",
    "df.groupby([\"A\",\"B\"], as_index=False).mean()"
   ]
  },
  {
   "cell_type": "code",
   "execution_count": 18,
   "id": "5e8d20fc",
   "metadata": {},
   "outputs": [
    {
     "data": {
      "text/html": [
       "<div>\n",
       "<style scoped>\n",
       "    .dataframe tbody tr th:only-of-type {\n",
       "        vertical-align: middle;\n",
       "    }\n",
       "\n",
       "    .dataframe tbody tr th {\n",
       "        vertical-align: top;\n",
       "    }\n",
       "\n",
       "    .dataframe thead tr th {\n",
       "        text-align: left;\n",
       "    }\n",
       "\n",
       "    .dataframe thead tr:last-of-type th {\n",
       "        text-align: right;\n",
       "    }\n",
       "</style>\n",
       "<table border=\"1\" class=\"dataframe\">\n",
       "  <thead>\n",
       "    <tr>\n",
       "      <th></th>\n",
       "      <th></th>\n",
       "      <th colspan=\"2\" halign=\"left\">C</th>\n",
       "      <th colspan=\"2\" halign=\"left\">D</th>\n",
       "    </tr>\n",
       "    <tr>\n",
       "      <th></th>\n",
       "      <th></th>\n",
       "      <th>sum</th>\n",
       "      <th>mean</th>\n",
       "      <th>sum</th>\n",
       "      <th>mean</th>\n",
       "    </tr>\n",
       "    <tr>\n",
       "      <th>A</th>\n",
       "      <th>B</th>\n",
       "      <th></th>\n",
       "      <th></th>\n",
       "      <th></th>\n",
       "      <th></th>\n",
       "    </tr>\n",
       "  </thead>\n",
       "  <tbody>\n",
       "    <tr>\n",
       "      <th>a</th>\n",
       "      <th>b</th>\n",
       "      <td>0.404962</td>\n",
       "      <td>0.404962</td>\n",
       "      <td>0.949007</td>\n",
       "      <td>0.949007</td>\n",
       "    </tr>\n",
       "    <tr>\n",
       "      <th rowspan=\"2\" valign=\"top\">aa</th>\n",
       "      <th>bb</th>\n",
       "      <td>0.893572</td>\n",
       "      <td>0.446786</td>\n",
       "      <td>1.676189</td>\n",
       "      <td>0.838095</td>\n",
       "    </tr>\n",
       "    <tr>\n",
       "      <th>bbbb</th>\n",
       "      <td>1.171146</td>\n",
       "      <td>1.171146</td>\n",
       "      <td>-0.332080</td>\n",
       "      <td>-0.332080</td>\n",
       "    </tr>\n",
       "    <tr>\n",
       "      <th>aaaaa</th>\n",
       "      <th>bbbbb</th>\n",
       "      <td>1.210573</td>\n",
       "      <td>1.210573</td>\n",
       "      <td>0.610010</td>\n",
       "      <td>0.610010</td>\n",
       "    </tr>\n",
       "  </tbody>\n",
       "</table>\n",
       "</div>"
      ],
      "text/plain": [
       "                    C                   D          \n",
       "                  sum      mean       sum      mean\n",
       "A     B                                            \n",
       "a     b      0.404962  0.404962  0.949007  0.949007\n",
       "aa    bb     0.893572  0.446786  1.676189  0.838095\n",
       "      bbbb   1.171146  1.171146 -0.332080 -0.332080\n",
       "aaaaa bbbbb  1.210573  1.210573  0.610010  0.610010"
      ]
     },
     "execution_count": 18,
     "metadata": {},
     "output_type": "execute_result"
    }
   ],
   "source": [
    "# 对于group 可以对其进行多个聚合函数\n",
    "df.groupby([\"A\",\"B\"]).agg([np.sum, np.mean])"
   ]
  },
  {
   "cell_type": "code",
   "execution_count": 39,
   "id": "06f7f47b",
   "metadata": {},
   "outputs": [
    {
     "data": {
      "text/html": [
       "<div>\n",
       "<style scoped>\n",
       "    .dataframe tbody tr th:only-of-type {\n",
       "        vertical-align: middle;\n",
       "    }\n",
       "\n",
       "    .dataframe tbody tr th {\n",
       "        vertical-align: top;\n",
       "    }\n",
       "\n",
       "    .dataframe thead th {\n",
       "        text-align: right;\n",
       "    }\n",
       "</style>\n",
       "<table border=\"1\" class=\"dataframe\">\n",
       "  <thead>\n",
       "    <tr style=\"text-align: right;\">\n",
       "      <th></th>\n",
       "      <th></th>\n",
       "      <th>C</th>\n",
       "      <th>D</th>\n",
       "    </tr>\n",
       "    <tr>\n",
       "      <th>A</th>\n",
       "      <th>B</th>\n",
       "      <th></th>\n",
       "      <th></th>\n",
       "    </tr>\n",
       "  </thead>\n",
       "  <tbody>\n",
       "    <tr>\n",
       "      <th>a</th>\n",
       "      <th>b</th>\n",
       "      <td>0.404962</td>\n",
       "      <td>0.949007</td>\n",
       "    </tr>\n",
       "    <tr>\n",
       "      <th rowspan=\"2\" valign=\"top\">aa</th>\n",
       "      <th>bb</th>\n",
       "      <td>0.893572</td>\n",
       "      <td>0.838095</td>\n",
       "    </tr>\n",
       "    <tr>\n",
       "      <th>bbbb</th>\n",
       "      <td>1.171146</td>\n",
       "      <td>-0.332080</td>\n",
       "    </tr>\n",
       "    <tr>\n",
       "      <th>aaaaa</th>\n",
       "      <th>bbbbb</th>\n",
       "      <td>1.210573</td>\n",
       "      <td>0.610010</td>\n",
       "    </tr>\n",
       "  </tbody>\n",
       "</table>\n",
       "</div>"
      ],
      "text/plain": [
       "                    C         D\n",
       "A     B                        \n",
       "a     b      0.404962  0.949007\n",
       "aa    bb     0.893572  0.838095\n",
       "      bbbb   1.171146 -0.332080\n",
       "aaaaa bbbbb  1.210573  0.610010"
      ]
     },
     "execution_count": 39,
     "metadata": {},
     "output_type": "execute_result"
    }
   ],
   "source": [
    "# 此处如果重命名的话, 只能修改其column的名称\n",
    "df.groupby([\"A\",\"B\"]).agg({\"C\": np.sum, \"D\": np.mean})"
   ]
  },
  {
   "cell_type": "code",
   "execution_count": 47,
   "id": "9fa985a6",
   "metadata": {},
   "outputs": [
    {
     "name": "stdout",
     "output_type": "stream",
     "text": [
      "name: a\n",
      "   A  B         C         D\n",
      "0  a  b -0.637994 -0.896174\n",
      "name: aa\n",
      "    A     B         C         D\n",
      "1  aa    bb  0.980236  1.290300\n",
      "2  aa    bb -0.285424  0.071083\n",
      "3  aa  bbbb -1.640489 -0.275743\n",
      "name: aaaaa\n",
      "       A      B         C         D\n",
      "4  aaaaa  bbbbb -0.594658 -0.642336\n"
     ]
    }
   ],
   "source": [
    "group=df.groupby(\"A\")\n",
    "for name,d in group:\n",
    "    print(\"name:\",name)\n",
    "    print(d)"
   ]
  },
  {
   "cell_type": "code",
   "execution_count": 48,
   "id": "c3f84593",
   "metadata": {},
   "outputs": [
    {
     "data": {
      "text/html": [
       "<div>\n",
       "<style scoped>\n",
       "    .dataframe tbody tr th:only-of-type {\n",
       "        vertical-align: middle;\n",
       "    }\n",
       "\n",
       "    .dataframe tbody tr th {\n",
       "        vertical-align: top;\n",
       "    }\n",
       "\n",
       "    .dataframe thead th {\n",
       "        text-align: right;\n",
       "    }\n",
       "</style>\n",
       "<table border=\"1\" class=\"dataframe\">\n",
       "  <thead>\n",
       "    <tr style=\"text-align: right;\">\n",
       "      <th></th>\n",
       "      <th>A</th>\n",
       "      <th>B</th>\n",
       "      <th>C</th>\n",
       "      <th>D</th>\n",
       "    </tr>\n",
       "  </thead>\n",
       "  <tbody>\n",
       "    <tr>\n",
       "      <th>0</th>\n",
       "      <td>a</td>\n",
       "      <td>b</td>\n",
       "      <td>-0.637994</td>\n",
       "      <td>-0.896174</td>\n",
       "    </tr>\n",
       "  </tbody>\n",
       "</table>\n",
       "</div>"
      ],
      "text/plain": [
       "   A  B         C         D\n",
       "0  a  b -0.637994 -0.896174"
      ]
     },
     "execution_count": 48,
     "metadata": {},
     "output_type": "execute_result"
    }
   ],
   "source": [
    "group.get_group(\"a\")"
   ]
  },
  {
   "cell_type": "code",
   "execution_count": 49,
   "id": "34782032",
   "metadata": {},
   "outputs": [
    {
     "data": {
      "text/html": [
       "<div>\n",
       "<style scoped>\n",
       "    .dataframe tbody tr th:only-of-type {\n",
       "        vertical-align: middle;\n",
       "    }\n",
       "\n",
       "    .dataframe tbody tr th {\n",
       "        vertical-align: top;\n",
       "    }\n",
       "\n",
       "    .dataframe thead th {\n",
       "        text-align: right;\n",
       "    }\n",
       "</style>\n",
       "<table border=\"1\" class=\"dataframe\">\n",
       "  <thead>\n",
       "    <tr style=\"text-align: right;\">\n",
       "      <th></th>\n",
       "      <th>A</th>\n",
       "      <th>B</th>\n",
       "      <th>C</th>\n",
       "      <th>D</th>\n",
       "    </tr>\n",
       "  </thead>\n",
       "  <tbody>\n",
       "    <tr>\n",
       "      <th>1</th>\n",
       "      <td>aa</td>\n",
       "      <td>bb</td>\n",
       "      <td>0.980236</td>\n",
       "      <td>1.290300</td>\n",
       "    </tr>\n",
       "    <tr>\n",
       "      <th>2</th>\n",
       "      <td>aa</td>\n",
       "      <td>bb</td>\n",
       "      <td>-0.285424</td>\n",
       "      <td>0.071083</td>\n",
       "    </tr>\n",
       "    <tr>\n",
       "      <th>3</th>\n",
       "      <td>aa</td>\n",
       "      <td>bbbb</td>\n",
       "      <td>-1.640489</td>\n",
       "      <td>-0.275743</td>\n",
       "    </tr>\n",
       "  </tbody>\n",
       "</table>\n",
       "</div>"
      ],
      "text/plain": [
       "    A     B         C         D\n",
       "1  aa    bb  0.980236  1.290300\n",
       "2  aa    bb -0.285424  0.071083\n",
       "3  aa  bbbb -1.640489 -0.275743"
      ]
     },
     "execution_count": 49,
     "metadata": {},
     "output_type": "execute_result"
    }
   ],
   "source": [
    "group.get_group(\"aa\")"
   ]
  },
  {
   "cell_type": "code",
   "execution_count": 50,
   "id": "e11c82d4",
   "metadata": {},
   "outputs": [
    {
     "name": "stdout",
     "output_type": "stream",
     "text": [
      "('a', 'b')\n",
      "   A  B         C         D\n",
      "0  a  b -0.637994 -0.896174\n",
      "('aa', 'bb')\n",
      "    A   B         C         D\n",
      "1  aa  bb  0.980236  1.290300\n",
      "2  aa  bb -0.285424  0.071083\n",
      "('aa', 'bbbb')\n",
      "    A     B         C         D\n",
      "3  aa  bbbb -1.640489 -0.275743\n",
      "('aaaaa', 'bbbbb')\n",
      "       A      B         C         D\n",
      "4  aaaaa  bbbbb -0.594658 -0.642336\n"
     ]
    }
   ],
   "source": [
    "# 对多个列的分组\n",
    "group2=df.groupby([\"A\",\"B\"])\n",
    "for name2,g2 in group2:\n",
    "    print(name2)\n",
    "    print(g2)"
   ]
  },
  {
   "cell_type": "code",
   "execution_count": 51,
   "id": "d64d3180",
   "metadata": {},
   "outputs": [
    {
     "data": {
      "text/html": [
       "<div>\n",
       "<style scoped>\n",
       "    .dataframe tbody tr th:only-of-type {\n",
       "        vertical-align: middle;\n",
       "    }\n",
       "\n",
       "    .dataframe tbody tr th {\n",
       "        vertical-align: top;\n",
       "    }\n",
       "\n",
       "    .dataframe thead th {\n",
       "        text-align: right;\n",
       "    }\n",
       "</style>\n",
       "<table border=\"1\" class=\"dataframe\">\n",
       "  <thead>\n",
       "    <tr style=\"text-align: right;\">\n",
       "      <th></th>\n",
       "      <th>A</th>\n",
       "      <th>B</th>\n",
       "      <th>C</th>\n",
       "      <th>D</th>\n",
       "    </tr>\n",
       "  </thead>\n",
       "  <tbody>\n",
       "    <tr>\n",
       "      <th>0</th>\n",
       "      <td>a</td>\n",
       "      <td>b</td>\n",
       "      <td>-0.637994</td>\n",
       "      <td>-0.896174</td>\n",
       "    </tr>\n",
       "  </tbody>\n",
       "</table>\n",
       "</div>"
      ],
      "text/plain": [
       "   A  B         C         D\n",
       "0  a  b -0.637994 -0.896174"
      ]
     },
     "execution_count": 51,
     "metadata": {},
     "output_type": "execute_result"
    }
   ],
   "source": [
    "# 查看某个分组的信息\n",
    "group2.get_group(('a', 'b'))"
   ]
  },
  {
   "cell_type": "markdown",
   "id": "199c43fa",
   "metadata": {},
   "source": [
    "#### 图标数据"
   ]
  },
  {
   "cell_type": "code",
   "execution_count": 52,
   "id": "2a6d2020",
   "metadata": {},
   "outputs": [],
   "source": [
    "df=pd.read_csv('./data/beijing_weather.csv')"
   ]
  },
  {
   "cell_type": "code",
   "execution_count": 94,
   "id": "9b765355",
   "metadata": {},
   "outputs": [],
   "source": [
    "# df[[\"maxTemp\",\"minTemp\"]]=df[\"温度\"].str.replace(\"[C℃]\",\"\", regex=True).str.split(\"～\")\n",
    "df[[\"maxTemp\",\"minTemp\"]]=df[\"温度\"].str.replace(\"[C℃]\",\"\", regex=True).str.split(\"～\",expand=True)\n",
    "df[\"maxTemp\"]=df[\"maxTemp\"].astype('int32')\n",
    "df[\"minTemp\"]=df[\"minTemp\"].astype('int32')"
   ]
  },
  {
   "cell_type": "code",
   "execution_count": 98,
   "id": "1a6b2452",
   "metadata": {},
   "outputs": [
    {
     "data": {
      "text/html": [
       "<div>\n",
       "<style scoped>\n",
       "    .dataframe tbody tr th:only-of-type {\n",
       "        vertical-align: middle;\n",
       "    }\n",
       "\n",
       "    .dataframe tbody tr th {\n",
       "        vertical-align: top;\n",
       "    }\n",
       "\n",
       "    .dataframe thead th {\n",
       "        text-align: right;\n",
       "    }\n",
       "</style>\n",
       "<table border=\"1\" class=\"dataframe\">\n",
       "  <thead>\n",
       "    <tr style=\"text-align: right;\">\n",
       "      <th></th>\n",
       "      <th>城市</th>\n",
       "      <th>时间</th>\n",
       "      <th>天气</th>\n",
       "      <th>温度</th>\n",
       "      <th>风向</th>\n",
       "      <th>maxTemp</th>\n",
       "      <th>minTemp</th>\n",
       "      <th>月份</th>\n",
       "    </tr>\n",
       "  </thead>\n",
       "  <tbody>\n",
       "    <tr>\n",
       "      <th>0</th>\n",
       "      <td>北京</td>\n",
       "      <td>2018/6/30</td>\n",
       "      <td>雷阵雨转多云</td>\n",
       "      <td>37℃～23℃</td>\n",
       "      <td>西南风转东南风 &lt;3级</td>\n",
       "      <td>37</td>\n",
       "      <td>23</td>\n",
       "      <td>2018-6</td>\n",
       "    </tr>\n",
       "    <tr>\n",
       "      <th>1</th>\n",
       "      <td>北京</td>\n",
       "      <td>2018/6/29</td>\n",
       "      <td>多云</td>\n",
       "      <td>39℃～25℃</td>\n",
       "      <td>西南风转南风 3-4级转3-4级</td>\n",
       "      <td>39</td>\n",
       "      <td>25</td>\n",
       "      <td>2018-6</td>\n",
       "    </tr>\n",
       "    <tr>\n",
       "      <th>2</th>\n",
       "      <td>北京</td>\n",
       "      <td>2018/6/28</td>\n",
       "      <td>晴</td>\n",
       "      <td>35℃～24℃</td>\n",
       "      <td>北风转西南风 3-4级转3-4级</td>\n",
       "      <td>35</td>\n",
       "      <td>24</td>\n",
       "      <td>2018-6</td>\n",
       "    </tr>\n",
       "    <tr>\n",
       "      <th>3</th>\n",
       "      <td>北京</td>\n",
       "      <td>2018/6/27</td>\n",
       "      <td>多云转晴</td>\n",
       "      <td>38℃～25℃</td>\n",
       "      <td>西北风转微风 3-4级转3-4级</td>\n",
       "      <td>38</td>\n",
       "      <td>25</td>\n",
       "      <td>2018-6</td>\n",
       "    </tr>\n",
       "    <tr>\n",
       "      <th>4</th>\n",
       "      <td>北京</td>\n",
       "      <td>2018/6/26</td>\n",
       "      <td>晴</td>\n",
       "      <td>36℃～25℃</td>\n",
       "      <td>西南风转南风 3-4级转3-4级</td>\n",
       "      <td>36</td>\n",
       "      <td>25</td>\n",
       "      <td>2018-6</td>\n",
       "    </tr>\n",
       "  </tbody>\n",
       "</table>\n",
       "</div>"
      ],
      "text/plain": [
       "   城市         时间      天气       温度                风向  maxTemp  minTemp      月份\n",
       "0  北京  2018/6/30  雷阵雨转多云  37℃～23℃       西南风转东南风 <3级       37       23  2018-6\n",
       "1  北京  2018/6/29      多云  39℃～25℃  西南风转南风 3-4级转3-4级       39       25  2018-6\n",
       "2  北京  2018/6/28       晴  35℃～24℃  北风转西南风 3-4级转3-4级       35       24  2018-6\n",
       "3  北京  2018/6/27    多云转晴  38℃～25℃  西北风转微风 3-4级转3-4级       38       25  2018-6\n",
       "4  北京  2018/6/26       晴  36℃～25℃  西南风转南风 3-4级转3-4级       36       25  2018-6"
      ]
     },
     "execution_count": 98,
     "metadata": {},
     "output_type": "execute_result"
    }
   ],
   "source": [
    "df.head()"
   ]
  },
  {
   "cell_type": "code",
   "execution_count": 99,
   "id": "c1b0d0c4",
   "metadata": {},
   "outputs": [],
   "source": [
    "def get_month(df):\n",
    "    r = df[\"时间\"].split(\"/\")\n",
    "    return f\"{r[0]}-{r[1]}\"\n",
    "df[\"月份\"] = df.apply(get_month, axis=1)"
   ]
  },
  {
   "cell_type": "code",
   "execution_count": 100,
   "id": "b8f8b74e",
   "metadata": {},
   "outputs": [],
   "source": [
    "data=df.groupby(\"maxTemp\")[\"minTemp\"].max()"
   ]
  },
  {
   "cell_type": "code",
   "execution_count": 101,
   "id": "82384946",
   "metadata": {},
   "outputs": [
    {
     "data": {
      "text/plain": [
       "maxTemp\n",
       "22    18\n",
       "25    17\n",
       "26    19\n",
       "Name: minTemp, dtype: int32"
      ]
     },
     "execution_count": 101,
     "metadata": {},
     "output_type": "execute_result"
    }
   ],
   "source": [
    "data.head(3)"
   ]
  },
  {
   "cell_type": "code",
   "execution_count": 102,
   "id": "ee3c4ec3",
   "metadata": {},
   "outputs": [
    {
     "data": {
      "text/plain": [
       "<Axes: xlabel='maxTemp'>"
      ]
     },
     "execution_count": 102,
     "metadata": {},
     "output_type": "execute_result"
    },
    {
     "data": {
      "image/png": "[encoded data removed]",
      "text/plain": [
       "<Figure size 640x480 with 1 Axes>"
      ]
     },
     "metadata": {},
     "output_type": "display_data"
    }
   ],
   "source": [
    "data.plot()"
   ]
  },
  {
   "cell_type": "code",
   "execution_count": null,
   "id": "ace7c13c",
   "metadata": {},
   "outputs": [],
   "source": []
  }
 ],
 "metadata": {
  "kernelspec": {
   "display_name": "Python 3 (ipykernel)",
   "language": "python",
   "name": "python3"
  },
  "language_info": {
   "codemirror_mode": {
    "name": "ipython",
    "version": 3
   },
   "file_extension": ".py",
   "mimetype": "text/x-python",
   "name": "python",
   "nbconvert_exporter": "python",
   "pygments_lexer": "ipython3",
   "version": "3.11.5"
  }
 },
 "nbformat": 4,
 "nbformat_minor": 5
}
