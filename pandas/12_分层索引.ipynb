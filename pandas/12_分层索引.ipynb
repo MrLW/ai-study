{
 "cells": [
  {
   "cell_type": "markdown",
   "id": "290ec09c",
   "metadata": {},
   "source": [
    "#### 分层索引\n",
    "\n",
    "##### 1. 是什么？\n",
    "分层就是索引数量大于1的索引\n"
   ]
  },
  {
   "cell_type": "code",
   "execution_count": 10,
   "id": "1c72e449",
   "metadata": {},
   "outputs": [],
   "source": [
    "import pandas as pd\n",
    "import numpy as np\n",
    "%matplotlib inline"
   ]
  },
  {
   "cell_type": "code",
   "execution_count": 11,
   "id": "a83d01a4",
   "metadata": {},
   "outputs": [],
   "source": [
    "stocks=pd.read_excel(\"./data/stocks/stock.xlsx\")"
   ]
  },
  {
   "cell_type": "code",
   "execution_count": 12,
   "id": "d535950b",
   "metadata": {},
   "outputs": [
    {
     "data": {
      "text/plain": [
       "<pandas.core.groupby.generic.DataFrameGroupBy object at 0x131439850>"
      ]
     },
     "execution_count": 12,
     "metadata": {},
     "output_type": "execute_result"
    }
   ],
   "source": [
    "stocks.groupby([\"公司\"])"
   ]
  },
  {
   "cell_type": "code",
   "execution_count": 27,
   "id": "3ba1bd8e",
   "metadata": {},
   "outputs": [
    {
     "data": {
      "text/plain": [
       "RangeIndex(start=0, stop=12, step=1)"
      ]
     },
     "execution_count": 27,
     "metadata": {},
     "output_type": "execute_result"
    }
   ],
   "source": [
    "# int 索引\n",
    "stocks.index"
   ]
  },
  {
   "cell_type": "code",
   "execution_count": 28,
   "id": "6712d815",
   "metadata": {},
   "outputs": [
    {
     "data": {
      "text/plain": [
       "109.5175"
      ]
     },
     "execution_count": 28,
     "metadata": {},
     "output_type": "execute_result"
    }
   ],
   "source": [
    "stocks[\"收盘\"].mean()"
   ]
  },
  {
   "cell_type": "markdown",
   "id": "ed837fcc",
   "metadata": {},
   "source": [
    "**Series的分层索引**"
   ]
  },
  {
   "cell_type": "code",
   "execution_count": 29,
   "id": "f7234cf1",
   "metadata": {},
   "outputs": [],
   "source": [
    "ser=stocks.groupby([\"公司\",\"日期\"])[\"收盘\"].mean()"
   ]
  },
  {
   "cell_type": "code",
   "execution_count": 21,
   "id": "1d9c0135",
   "metadata": {},
   "outputs": [
    {
     "data": {
      "text/plain": [
       "pandas.core.series.Series"
      ]
     },
     "execution_count": 21,
     "metadata": {},
     "output_type": "execute_result"
    }
   ],
   "source": [
    "type(ser)"
   ]
  },
  {
   "cell_type": "code",
   "execution_count": 22,
   "id": "500da332",
   "metadata": {},
   "outputs": [
    {
     "data": {
      "text/plain": [
       "MultiIndex([('拼多多', '2023-12-04'),\n",
       "            ('拼多多', '2023-12-05'),\n",
       "            ('拼多多', '2023-12-06'),\n",
       "            ('拼多多', '2023-12-07'),\n",
       "            ( '百度', '2023-12-04'),\n",
       "            ( '百度', '2023-12-05'),\n",
       "            ( '百度', '2023-12-06'),\n",
       "            ( '百度', '2023-12-07'),\n",
       "            ( '阿里', '2023-12-04'),\n",
       "            ( '阿里', '2023-12-05'),\n",
       "            ( '阿里', '2023-12-06'),\n",
       "            ( '阿里', '2023-12-07')],\n",
       "           names=['公司', '日期'])"
      ]
     },
     "execution_count": 22,
     "metadata": {},
     "output_type": "execute_result"
    }
   ],
   "source": [
    "ser.index"
   ]
  },
  {
   "cell_type": "code",
   "execution_count": 23,
   "id": "1a38af69",
   "metadata": {},
   "outputs": [
    {
     "data": {
      "text/html": [
       "<div>\n",
       "<style scoped>\n",
       "    .dataframe tbody tr th:only-of-type {\n",
       "        vertical-align: middle;\n",
       "    }\n",
       "\n",
       "    .dataframe tbody tr th {\n",
       "        vertical-align: top;\n",
       "    }\n",
       "\n",
       "    .dataframe thead th {\n",
       "        text-align: right;\n",
       "    }\n",
       "</style>\n",
       "<table border=\"1\" class=\"dataframe\">\n",
       "  <thead>\n",
       "    <tr style=\"text-align: right;\">\n",
       "      <th>日期</th>\n",
       "      <th>2023-12-04</th>\n",
       "      <th>2023-12-05</th>\n",
       "      <th>2023-12-06</th>\n",
       "      <th>2023-12-07</th>\n",
       "    </tr>\n",
       "    <tr>\n",
       "      <th>公司</th>\n",
       "      <th></th>\n",
       "      <th></th>\n",
       "      <th></th>\n",
       "      <th></th>\n",
       "    </tr>\n",
       "  </thead>\n",
       "  <tbody>\n",
       "    <tr>\n",
       "      <th>拼多多</th>\n",
       "      <td>142.83</td>\n",
       "      <td>143.46</td>\n",
       "      <td>141.99</td>\n",
       "      <td>140.29</td>\n",
       "    </tr>\n",
       "    <tr>\n",
       "      <th>百度</th>\n",
       "      <td>113.70</td>\n",
       "      <td>113.55</td>\n",
       "      <td>113.38</td>\n",
       "      <td>115.78</td>\n",
       "    </tr>\n",
       "    <tr>\n",
       "      <th>阿里</th>\n",
       "      <td>73.03</td>\n",
       "      <td>72.38</td>\n",
       "      <td>71.49</td>\n",
       "      <td>72.33</td>\n",
       "    </tr>\n",
       "  </tbody>\n",
       "</table>\n",
       "</div>"
      ],
      "text/plain": [
       "日期   2023-12-04  2023-12-05  2023-12-06  2023-12-07\n",
       "公司                                                 \n",
       "拼多多      142.83      143.46      141.99      140.29\n",
       "百度       113.70      113.55      113.38      115.78\n",
       "阿里        73.03       72.38       71.49       72.33"
      ]
     },
     "execution_count": 23,
     "metadata": {},
     "output_type": "execute_result"
    }
   ],
   "source": [
    "# 将分层索引变成列，此时Series会变成DataFrame\n",
    "ser.unstack()"
   ]
  },
  {
   "cell_type": "code",
   "execution_count": 24,
   "id": "6104d425",
   "metadata": {},
   "outputs": [
    {
     "data": {
      "text/plain": [
       "MultiIndex([('拼多多', '2023-12-04'),\n",
       "            ('拼多多', '2023-12-05'),\n",
       "            ('拼多多', '2023-12-06'),\n",
       "            ('拼多多', '2023-12-07'),\n",
       "            ( '百度', '2023-12-04'),\n",
       "            ( '百度', '2023-12-05'),\n",
       "            ( '百度', '2023-12-06'),\n",
       "            ( '百度', '2023-12-07'),\n",
       "            ( '阿里', '2023-12-04'),\n",
       "            ( '阿里', '2023-12-05'),\n",
       "            ( '阿里', '2023-12-06'),\n",
       "            ( '阿里', '2023-12-07')],\n",
       "           names=['公司', '日期'])"
      ]
     },
     "execution_count": 24,
     "metadata": {},
     "output_type": "execute_result"
    }
   ],
   "source": [
    "ser.index"
   ]
  },
  {
   "cell_type": "code",
   "execution_count": 25,
   "id": "d91116fa",
   "metadata": {},
   "outputs": [
    {
     "data": {
      "text/html": [
       "<div>\n",
       "<style scoped>\n",
       "    .dataframe tbody tr th:only-of-type {\n",
       "        vertical-align: middle;\n",
       "    }\n",
       "\n",
       "    .dataframe tbody tr th {\n",
       "        vertical-align: top;\n",
       "    }\n",
       "\n",
       "    .dataframe thead th {\n",
       "        text-align: right;\n",
       "    }\n",
       "</style>\n",
       "<table border=\"1\" class=\"dataframe\">\n",
       "  <thead>\n",
       "    <tr style=\"text-align: right;\">\n",
       "      <th></th>\n",
       "      <th>公司</th>\n",
       "      <th>日期</th>\n",
       "      <th>收盘</th>\n",
       "    </tr>\n",
       "  </thead>\n",
       "  <tbody>\n",
       "    <tr>\n",
       "      <th>0</th>\n",
       "      <td>拼多多</td>\n",
       "      <td>2023-12-04</td>\n",
       "      <td>142.83</td>\n",
       "    </tr>\n",
       "    <tr>\n",
       "      <th>1</th>\n",
       "      <td>拼多多</td>\n",
       "      <td>2023-12-05</td>\n",
       "      <td>143.46</td>\n",
       "    </tr>\n",
       "    <tr>\n",
       "      <th>2</th>\n",
       "      <td>拼多多</td>\n",
       "      <td>2023-12-06</td>\n",
       "      <td>141.99</td>\n",
       "    </tr>\n",
       "    <tr>\n",
       "      <th>3</th>\n",
       "      <td>拼多多</td>\n",
       "      <td>2023-12-07</td>\n",
       "      <td>140.29</td>\n",
       "    </tr>\n",
       "    <tr>\n",
       "      <th>4</th>\n",
       "      <td>百度</td>\n",
       "      <td>2023-12-04</td>\n",
       "      <td>113.70</td>\n",
       "    </tr>\n",
       "    <tr>\n",
       "      <th>5</th>\n",
       "      <td>百度</td>\n",
       "      <td>2023-12-05</td>\n",
       "      <td>113.55</td>\n",
       "    </tr>\n",
       "    <tr>\n",
       "      <th>6</th>\n",
       "      <td>百度</td>\n",
       "      <td>2023-12-06</td>\n",
       "      <td>113.38</td>\n",
       "    </tr>\n",
       "    <tr>\n",
       "      <th>7</th>\n",
       "      <td>百度</td>\n",
       "      <td>2023-12-07</td>\n",
       "      <td>115.78</td>\n",
       "    </tr>\n",
       "    <tr>\n",
       "      <th>8</th>\n",
       "      <td>阿里</td>\n",
       "      <td>2023-12-04</td>\n",
       "      <td>73.03</td>\n",
       "    </tr>\n",
       "    <tr>\n",
       "      <th>9</th>\n",
       "      <td>阿里</td>\n",
       "      <td>2023-12-05</td>\n",
       "      <td>72.38</td>\n",
       "    </tr>\n",
       "    <tr>\n",
       "      <th>10</th>\n",
       "      <td>阿里</td>\n",
       "      <td>2023-12-06</td>\n",
       "      <td>71.49</td>\n",
       "    </tr>\n",
       "    <tr>\n",
       "      <th>11</th>\n",
       "      <td>阿里</td>\n",
       "      <td>2023-12-07</td>\n",
       "      <td>72.33</td>\n",
       "    </tr>\n",
       "  </tbody>\n",
       "</table>\n",
       "</div>"
      ],
      "text/plain": [
       "     公司         日期      收盘\n",
       "0   拼多多 2023-12-04  142.83\n",
       "1   拼多多 2023-12-05  143.46\n",
       "2   拼多多 2023-12-06  141.99\n",
       "3   拼多多 2023-12-07  140.29\n",
       "4    百度 2023-12-04  113.70\n",
       "5    百度 2023-12-05  113.55\n",
       "6    百度 2023-12-06  113.38\n",
       "7    百度 2023-12-07  115.78\n",
       "8    阿里 2023-12-04   73.03\n",
       "9    阿里 2023-12-05   72.38\n",
       "10   阿里 2023-12-06   71.49\n",
       "11   阿里 2023-12-07   72.33"
      ]
     },
     "execution_count": 25,
     "metadata": {},
     "output_type": "execute_result"
    }
   ],
   "source": [
    "ser.reset_index()"
   ]
  },
  {
   "cell_type": "code",
   "execution_count": null,
   "id": "dd1636e8",
   "metadata": {},
   "outputs": [],
   "source": []
  }
 ],
 "metadata": {
  "kernelspec": {
   "display_name": "Python 3 (ipykernel)",
   "language": "python",
   "name": "python3"
  },
  "language_info": {
   "codemirror_mode": {
    "name": "ipython",
    "version": 3
   },
   "file_extension": ".py",
   "mimetype": "text/x-python",
   "name": "python",
   "nbconvert_exporter": "python",
   "pygments_lexer": "ipython3",
   "version": "3.11.5"
  }
 },
 "nbformat": 4,
 "nbformat_minor": 5
}
