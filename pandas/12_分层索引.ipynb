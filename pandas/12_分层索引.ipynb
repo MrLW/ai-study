{
 "cells": [
  {
   "cell_type": "markdown",
   "id": "290ec09c",
   "metadata": {},
   "source": [
    "## 分层索引\n",
    "\n",
    "#### 1. what\n",
    "分层就是索引数量大于1的索引. 我们可以通过`DataFraome.set_index([\"index1\",\"index2\"], inplace=True)` 来创建一个DataFrame的分层索引 **或者** `DataFrame.groupby([\"index1\",\"index2\"])[\"col1\"].mean()` 得到一个Series 的分层索引.\n",
    "\n",
    "### 2. where\n",
    "\n",
    "* 优化查询速度\n",
    "* todo\n",
    "\n",
    "### 3. how\n",
    "**Series的使用**\n",
    "\n",
    "\n",
    "**DataFrame的使用**\n"
   ]
  },
  {
   "cell_type": "code",
   "execution_count": 27,
   "id": "1c72e449",
   "metadata": {},
   "outputs": [],
   "source": [
    "import pandas as pd\n",
    "import numpy as np\n",
    "%matplotlib inline"
   ]
  },
  {
   "cell_type": "code",
   "execution_count": 28,
   "id": "a83d01a4",
   "metadata": {},
   "outputs": [],
   "source": [
    "stocks=pd.read_excel(\"./data/stocks/stock.xlsx\")"
   ]
  },
  {
   "cell_type": "code",
   "execution_count": 29,
   "id": "d535950b",
   "metadata": {},
   "outputs": [
    {
     "data": {
      "text/plain": [
       "<pandas.core.groupby.generic.DataFrameGroupBy object at 0x1259c8190>"
      ]
     },
     "execution_count": 29,
     "metadata": {},
     "output_type": "execute_result"
    }
   ],
   "source": [
    "stocks.groupby([\"公司\",\"日期\"])"
   ]
  },
  {
   "cell_type": "code",
   "execution_count": 31,
   "id": "3ba1bd8e",
   "metadata": {},
   "outputs": [
    {
     "data": {
      "text/plain": [
       "RangeIndex(start=0, stop=12, step=1)"
      ]
     },
     "execution_count": 31,
     "metadata": {},
     "output_type": "execute_result"
    }
   ],
   "source": [
    "# int 索引\n",
    "stocks.index"
   ]
  },
  {
   "cell_type": "code",
   "execution_count": 32,
   "id": "6712d815",
   "metadata": {},
   "outputs": [
    {
     "data": {
      "text/plain": [
       "109.5175"
      ]
     },
     "execution_count": 32,
     "metadata": {},
     "output_type": "execute_result"
    }
   ],
   "source": [
    "stocks[\"收盘\"].mean()"
   ]
  },
  {
   "cell_type": "markdown",
   "id": "ed837fcc",
   "metadata": {},
   "source": [
    "**Series的分层索引**"
   ]
  },
  {
   "cell_type": "code",
   "execution_count": 52,
   "id": "f7234cf1",
   "metadata": {},
   "outputs": [],
   "source": [
    "ser=stocks.groupby([\"公司\",\"日期\"])[\"收盘\"].mean()"
   ]
  },
  {
   "cell_type": "code",
   "execution_count": 53,
   "id": "1d9c0135",
   "metadata": {},
   "outputs": [
    {
     "data": {
      "text/plain": [
       "pandas.core.series.Series"
      ]
     },
     "execution_count": 53,
     "metadata": {},
     "output_type": "execute_result"
    }
   ],
   "source": [
    "type(ser)"
   ]
  },
  {
   "cell_type": "code",
   "execution_count": 54,
   "id": "500da332",
   "metadata": {},
   "outputs": [
    {
     "data": {
      "text/plain": [
       "公司   日期        \n",
       "拼多多  2023-12-04    142.83\n",
       "     2023-12-05    143.46\n",
       "     2023-12-06    141.99\n",
       "     2023-12-07    140.29\n",
       "百度   2023-12-04    113.70\n",
       "     2023-12-05    113.55\n",
       "     2023-12-06    113.38\n",
       "     2023-12-07    115.78\n",
       "阿里   2023-12-04     73.03\n",
       "     2023-12-05     72.38\n",
       "     2023-12-06     71.49\n",
       "     2023-12-07     72.33\n",
       "Name: 收盘, dtype: float64"
      ]
     },
     "execution_count": 54,
     "metadata": {},
     "output_type": "execute_result"
    }
   ],
   "source": [
    "ser"
   ]
  },
  {
   "cell_type": "code",
   "execution_count": 10,
   "id": "1a38af69",
   "metadata": {},
   "outputs": [
    {
     "data": {
      "text/html": [
       "<div>\n",
       "<style scoped>\n",
       "    .dataframe tbody tr th:only-of-type {\n",
       "        vertical-align: middle;\n",
       "    }\n",
       "\n",
       "    .dataframe tbody tr th {\n",
       "        vertical-align: top;\n",
       "    }\n",
       "\n",
       "    .dataframe thead th {\n",
       "        text-align: right;\n",
       "    }\n",
       "</style>\n",
       "<table border=\"1\" class=\"dataframe\">\n",
       "  <thead>\n",
       "    <tr style=\"text-align: right;\">\n",
       "      <th>日期</th>\n",
       "      <th>2023-12-04</th>\n",
       "      <th>2023-12-05</th>\n",
       "      <th>2023-12-06</th>\n",
       "      <th>2023-12-07</th>\n",
       "    </tr>\n",
       "    <tr>\n",
       "      <th>公司</th>\n",
       "      <th></th>\n",
       "      <th></th>\n",
       "      <th></th>\n",
       "      <th></th>\n",
       "    </tr>\n",
       "  </thead>\n",
       "  <tbody>\n",
       "    <tr>\n",
       "      <th>拼多多</th>\n",
       "      <td>142.83</td>\n",
       "      <td>143.46</td>\n",
       "      <td>141.99</td>\n",
       "      <td>140.29</td>\n",
       "    </tr>\n",
       "    <tr>\n",
       "      <th>百度</th>\n",
       "      <td>113.70</td>\n",
       "      <td>113.55</td>\n",
       "      <td>113.38</td>\n",
       "      <td>115.78</td>\n",
       "    </tr>\n",
       "    <tr>\n",
       "      <th>阿里</th>\n",
       "      <td>73.03</td>\n",
       "      <td>72.38</td>\n",
       "      <td>71.49</td>\n",
       "      <td>72.33</td>\n",
       "    </tr>\n",
       "  </tbody>\n",
       "</table>\n",
       "</div>"
      ],
      "text/plain": [
       "日期   2023-12-04  2023-12-05  2023-12-06  2023-12-07\n",
       "公司                                                 \n",
       "拼多多      142.83      143.46      141.99      140.29\n",
       "百度       113.70      113.55      113.38      115.78\n",
       "阿里        73.03       72.38       71.49       72.33"
      ]
     },
     "execution_count": 10,
     "metadata": {},
     "output_type": "execute_result"
    }
   ],
   "source": [
    "# 将分层索引变成列，此时Series会变成DataFrame\n",
    "ser.unstack()"
   ]
  },
  {
   "cell_type": "code",
   "execution_count": 11,
   "id": "6104d425",
   "metadata": {},
   "outputs": [
    {
     "data": {
      "text/plain": [
       "MultiIndex([('拼多多', '2023-12-04'),\n",
       "            ('拼多多', '2023-12-05'),\n",
       "            ('拼多多', '2023-12-06'),\n",
       "            ('拼多多', '2023-12-07'),\n",
       "            ( '百度', '2023-12-04'),\n",
       "            ( '百度', '2023-12-05'),\n",
       "            ( '百度', '2023-12-06'),\n",
       "            ( '百度', '2023-12-07'),\n",
       "            ( '阿里', '2023-12-04'),\n",
       "            ( '阿里', '2023-12-05'),\n",
       "            ( '阿里', '2023-12-06'),\n",
       "            ( '阿里', '2023-12-07')],\n",
       "           names=['公司', '日期'])"
      ]
     },
     "execution_count": 11,
     "metadata": {},
     "output_type": "execute_result"
    }
   ],
   "source": [
    "ser.index"
   ]
  },
  {
   "cell_type": "code",
   "execution_count": 12,
   "id": "d91116fa",
   "metadata": {},
   "outputs": [
    {
     "data": {
      "text/html": [
       "<div>\n",
       "<style scoped>\n",
       "    .dataframe tbody tr th:only-of-type {\n",
       "        vertical-align: middle;\n",
       "    }\n",
       "\n",
       "    .dataframe tbody tr th {\n",
       "        vertical-align: top;\n",
       "    }\n",
       "\n",
       "    .dataframe thead th {\n",
       "        text-align: right;\n",
       "    }\n",
       "</style>\n",
       "<table border=\"1\" class=\"dataframe\">\n",
       "  <thead>\n",
       "    <tr style=\"text-align: right;\">\n",
       "      <th></th>\n",
       "      <th>公司</th>\n",
       "      <th>日期</th>\n",
       "      <th>收盘</th>\n",
       "    </tr>\n",
       "  </thead>\n",
       "  <tbody>\n",
       "    <tr>\n",
       "      <th>0</th>\n",
       "      <td>拼多多</td>\n",
       "      <td>2023-12-04</td>\n",
       "      <td>142.83</td>\n",
       "    </tr>\n",
       "    <tr>\n",
       "      <th>1</th>\n",
       "      <td>拼多多</td>\n",
       "      <td>2023-12-05</td>\n",
       "      <td>143.46</td>\n",
       "    </tr>\n",
       "    <tr>\n",
       "      <th>2</th>\n",
       "      <td>拼多多</td>\n",
       "      <td>2023-12-06</td>\n",
       "      <td>141.99</td>\n",
       "    </tr>\n",
       "    <tr>\n",
       "      <th>3</th>\n",
       "      <td>拼多多</td>\n",
       "      <td>2023-12-07</td>\n",
       "      <td>140.29</td>\n",
       "    </tr>\n",
       "    <tr>\n",
       "      <th>4</th>\n",
       "      <td>百度</td>\n",
       "      <td>2023-12-04</td>\n",
       "      <td>113.70</td>\n",
       "    </tr>\n",
       "    <tr>\n",
       "      <th>5</th>\n",
       "      <td>百度</td>\n",
       "      <td>2023-12-05</td>\n",
       "      <td>113.55</td>\n",
       "    </tr>\n",
       "    <tr>\n",
       "      <th>6</th>\n",
       "      <td>百度</td>\n",
       "      <td>2023-12-06</td>\n",
       "      <td>113.38</td>\n",
       "    </tr>\n",
       "    <tr>\n",
       "      <th>7</th>\n",
       "      <td>百度</td>\n",
       "      <td>2023-12-07</td>\n",
       "      <td>115.78</td>\n",
       "    </tr>\n",
       "    <tr>\n",
       "      <th>8</th>\n",
       "      <td>阿里</td>\n",
       "      <td>2023-12-04</td>\n",
       "      <td>73.03</td>\n",
       "    </tr>\n",
       "    <tr>\n",
       "      <th>9</th>\n",
       "      <td>阿里</td>\n",
       "      <td>2023-12-05</td>\n",
       "      <td>72.38</td>\n",
       "    </tr>\n",
       "    <tr>\n",
       "      <th>10</th>\n",
       "      <td>阿里</td>\n",
       "      <td>2023-12-06</td>\n",
       "      <td>71.49</td>\n",
       "    </tr>\n",
       "    <tr>\n",
       "      <th>11</th>\n",
       "      <td>阿里</td>\n",
       "      <td>2023-12-07</td>\n",
       "      <td>72.33</td>\n",
       "    </tr>\n",
       "  </tbody>\n",
       "</table>\n",
       "</div>"
      ],
      "text/plain": [
       "     公司         日期      收盘\n",
       "0   拼多多 2023-12-04  142.83\n",
       "1   拼多多 2023-12-05  143.46\n",
       "2   拼多多 2023-12-06  141.99\n",
       "3   拼多多 2023-12-07  140.29\n",
       "4    百度 2023-12-04  113.70\n",
       "5    百度 2023-12-05  113.55\n",
       "6    百度 2023-12-06  113.38\n",
       "7    百度 2023-12-07  115.78\n",
       "8    阿里 2023-12-04   73.03\n",
       "9    阿里 2023-12-05   72.38\n",
       "10   阿里 2023-12-06   71.49\n",
       "11   阿里 2023-12-07   72.33"
      ]
     },
     "execution_count": 12,
     "metadata": {},
     "output_type": "execute_result"
    }
   ],
   "source": [
    "ser.reset_index()"
   ]
  },
  {
   "cell_type": "markdown",
   "id": "1e8fff6c",
   "metadata": {},
   "source": [
    "#### 多级索引下查找数据\n"
   ]
  },
  {
   "cell_type": "code",
   "execution_count": 14,
   "id": "c0fc19e4",
   "metadata": {},
   "outputs": [
    {
     "data": {
      "text/plain": [
       "日期\n",
       "2023-12-04    142.83\n",
       "2023-12-05    143.46\n",
       "2023-12-06    141.99\n",
       "2023-12-07    140.29\n",
       "Name: 收盘, dtype: float64"
      ]
     },
     "execution_count": 14,
     "metadata": {},
     "output_type": "execute_result"
    }
   ],
   "source": [
    "ser.loc[\"拼多多\"]"
   ]
  },
  {
   "cell_type": "code",
   "execution_count": 15,
   "id": "81c2a83c",
   "metadata": {},
   "outputs": [
    {
     "data": {
      "text/plain": [
       "142.83"
      ]
     },
     "execution_count": 15,
     "metadata": {},
     "output_type": "execute_result"
    }
   ],
   "source": [
    "ser.loc[(\"拼多多\",\"2023-12-04\")]"
   ]
  },
  {
   "cell_type": "code",
   "execution_count": 17,
   "id": "9aa93e0e",
   "metadata": {},
   "outputs": [
    {
     "data": {
      "text/plain": [
       "公司\n",
       "拼多多    142.83\n",
       "百度     113.70\n",
       "阿里      73.03\n",
       "Name: 收盘, dtype: float64"
      ]
     },
     "execution_count": 17,
     "metadata": {},
     "output_type": "execute_result"
    }
   ],
   "source": [
    "ser.loc[:, \"2023-12-04\"]"
   ]
  },
  {
   "cell_type": "markdown",
   "id": "526c420e",
   "metadata": {},
   "source": [
    "#### DataFrame的多层索引"
   ]
  },
  {
   "cell_type": "code",
   "execution_count": 19,
   "id": "3f689d12",
   "metadata": {},
   "outputs": [],
   "source": [
    "stocks.set_index([\"公司\", \"日期\"], inplace=True)"
   ]
  },
  {
   "cell_type": "code",
   "execution_count": 20,
   "id": "4b0c2b36",
   "metadata": {},
   "outputs": [
    {
     "data": {
      "text/html": [
       "<div>\n",
       "<style scoped>\n",
       "    .dataframe tbody tr th:only-of-type {\n",
       "        vertical-align: middle;\n",
       "    }\n",
       "\n",
       "    .dataframe tbody tr th {\n",
       "        vertical-align: top;\n",
       "    }\n",
       "\n",
       "    .dataframe thead th {\n",
       "        text-align: right;\n",
       "    }\n",
       "</style>\n",
       "<table border=\"1\" class=\"dataframe\">\n",
       "  <thead>\n",
       "    <tr style=\"text-align: right;\">\n",
       "      <th></th>\n",
       "      <th></th>\n",
       "      <th>收盘</th>\n",
       "      <th>开盘</th>\n",
       "      <th>高</th>\n",
       "      <th>低</th>\n",
       "      <th>交易量</th>\n",
       "      <th>涨跌幅</th>\n",
       "    </tr>\n",
       "    <tr>\n",
       "      <th>公司</th>\n",
       "      <th>日期</th>\n",
       "      <th></th>\n",
       "      <th></th>\n",
       "      <th></th>\n",
       "      <th></th>\n",
       "      <th></th>\n",
       "      <th></th>\n",
       "    </tr>\n",
       "  </thead>\n",
       "  <tbody>\n",
       "    <tr>\n",
       "      <th rowspan=\"4\" valign=\"top\">阿里</th>\n",
       "      <th>2023-12-07</th>\n",
       "      <td>72.33</td>\n",
       "      <td>71.54</td>\n",
       "      <td>72.37</td>\n",
       "      <td>71.44</td>\n",
       "      <td>18.33M</td>\n",
       "      <td>0.0117</td>\n",
       "    </tr>\n",
       "    <tr>\n",
       "      <th>2023-12-06</th>\n",
       "      <td>71.49</td>\n",
       "      <td>72.36</td>\n",
       "      <td>72.95</td>\n",
       "      <td>71.49</td>\n",
       "      <td>29.66M</td>\n",
       "      <td>-0.0123</td>\n",
       "    </tr>\n",
       "    <tr>\n",
       "      <th>2023-12-05</th>\n",
       "      <td>72.38</td>\n",
       "      <td>72.04</td>\n",
       "      <td>72.70</td>\n",
       "      <td>71.92</td>\n",
       "      <td>18.96M</td>\n",
       "      <td>-0.0089</td>\n",
       "    </tr>\n",
       "    <tr>\n",
       "      <th>2023-12-04</th>\n",
       "      <td>73.03</td>\n",
       "      <td>72.67</td>\n",
       "      <td>73.58</td>\n",
       "      <td>72.48</td>\n",
       "      <td>20.96M</td>\n",
       "      <td>-0.0130</td>\n",
       "    </tr>\n",
       "    <tr>\n",
       "      <th rowspan=\"4\" valign=\"top\">百度</th>\n",
       "      <th>2023-12-07</th>\n",
       "      <td>115.78</td>\n",
       "      <td>114.41</td>\n",
       "      <td>116.21</td>\n",
       "      <td>114.22</td>\n",
       "      <td>2.65M</td>\n",
       "      <td>0.0212</td>\n",
       "    </tr>\n",
       "    <tr>\n",
       "      <th>2023-12-06</th>\n",
       "      <td>113.38</td>\n",
       "      <td>115.25</td>\n",
       "      <td>115.67</td>\n",
       "      <td>113.32</td>\n",
       "      <td>2.06M</td>\n",
       "      <td>-0.0015</td>\n",
       "    </tr>\n",
       "    <tr>\n",
       "      <th>2023-12-05</th>\n",
       "      <td>113.55</td>\n",
       "      <td>111.88</td>\n",
       "      <td>114.68</td>\n",
       "      <td>111.73</td>\n",
       "      <td>2.26M</td>\n",
       "      <td>-0.0013</td>\n",
       "    </tr>\n",
       "    <tr>\n",
       "      <th>2023-12-04</th>\n",
       "      <td>113.70</td>\n",
       "      <td>114.77</td>\n",
       "      <td>114.77</td>\n",
       "      <td>112.41</td>\n",
       "      <td>3.90M</td>\n",
       "      <td>-0.0263</td>\n",
       "    </tr>\n",
       "    <tr>\n",
       "      <th rowspan=\"4\" valign=\"top\">拼多多</th>\n",
       "      <th>2023-12-07</th>\n",
       "      <td>140.29</td>\n",
       "      <td>141.99</td>\n",
       "      <td>142.55</td>\n",
       "      <td>139.05</td>\n",
       "      <td>6.41M</td>\n",
       "      <td>-0.0120</td>\n",
       "    </tr>\n",
       "    <tr>\n",
       "      <th>2023-12-06</th>\n",
       "      <td>141.99</td>\n",
       "      <td>143.87</td>\n",
       "      <td>145.43</td>\n",
       "      <td>141.69</td>\n",
       "      <td>6.01M</td>\n",
       "      <td>-0.0102</td>\n",
       "    </tr>\n",
       "    <tr>\n",
       "      <th>2023-12-05</th>\n",
       "      <td>143.46</td>\n",
       "      <td>138.66</td>\n",
       "      <td>143.53</td>\n",
       "      <td>138.12</td>\n",
       "      <td>6.75M</td>\n",
       "      <td>0.0044</td>\n",
       "    </tr>\n",
       "    <tr>\n",
       "      <th>2023-12-04</th>\n",
       "      <td>142.83</td>\n",
       "      <td>141.35</td>\n",
       "      <td>143.39</td>\n",
       "      <td>139.95</td>\n",
       "      <td>9.29M</td>\n",
       "      <td>-0.0168</td>\n",
       "    </tr>\n",
       "  </tbody>\n",
       "</table>\n",
       "</div>"
      ],
      "text/plain": [
       "                    收盘      开盘       高       低     交易量     涨跌幅\n",
       "公司  日期                                                        \n",
       "阿里  2023-12-07   72.33   71.54   72.37   71.44  18.33M  0.0117\n",
       "    2023-12-06   71.49   72.36   72.95   71.49  29.66M -0.0123\n",
       "    2023-12-05   72.38   72.04   72.70   71.92  18.96M -0.0089\n",
       "    2023-12-04   73.03   72.67   73.58   72.48  20.96M -0.0130\n",
       "百度  2023-12-07  115.78  114.41  116.21  114.22   2.65M  0.0212\n",
       "    2023-12-06  113.38  115.25  115.67  113.32   2.06M -0.0015\n",
       "    2023-12-05  113.55  111.88  114.68  111.73   2.26M -0.0013\n",
       "    2023-12-04  113.70  114.77  114.77  112.41   3.90M -0.0263\n",
       "拼多多 2023-12-07  140.29  141.99  142.55  139.05   6.41M -0.0120\n",
       "    2023-12-06  141.99  143.87  145.43  141.69   6.01M -0.0102\n",
       "    2023-12-05  143.46  138.66  143.53  138.12   6.75M  0.0044\n",
       "    2023-12-04  142.83  141.35  143.39  139.95   9.29M -0.0168"
      ]
     },
     "execution_count": 20,
     "metadata": {},
     "output_type": "execute_result"
    }
   ],
   "source": [
    "stocks"
   ]
  },
  {
   "cell_type": "code",
   "execution_count": 23,
   "id": "f0e43bf8",
   "metadata": {},
   "outputs": [
    {
     "data": {
      "text/plain": [
       "收盘      72.33\n",
       "开盘      71.54\n",
       "高       72.37\n",
       "低       71.44\n",
       "交易量    18.33M\n",
       "涨跌幅    0.0117\n",
       "Name: (阿里, 2023-12-07 00:00:00), dtype: object"
      ]
     },
     "execution_count": 23,
     "metadata": {},
     "output_type": "execute_result"
    }
   ],
   "source": [
    "stocks.loc[(\"阿里\",\"2023-12-07\")]"
   ]
  },
  {
   "cell_type": "code",
   "execution_count": 24,
   "id": "b9292a18",
   "metadata": {},
   "outputs": [
    {
     "data": {
      "text/html": [
       "<div>\n",
       "<style scoped>\n",
       "    .dataframe tbody tr th:only-of-type {\n",
       "        vertical-align: middle;\n",
       "    }\n",
       "\n",
       "    .dataframe tbody tr th {\n",
       "        vertical-align: top;\n",
       "    }\n",
       "\n",
       "    .dataframe thead th {\n",
       "        text-align: right;\n",
       "    }\n",
       "</style>\n",
       "<table border=\"1\" class=\"dataframe\">\n",
       "  <thead>\n",
       "    <tr style=\"text-align: right;\">\n",
       "      <th></th>\n",
       "      <th></th>\n",
       "      <th>收盘</th>\n",
       "      <th>开盘</th>\n",
       "      <th>高</th>\n",
       "      <th>低</th>\n",
       "      <th>交易量</th>\n",
       "      <th>涨跌幅</th>\n",
       "    </tr>\n",
       "    <tr>\n",
       "      <th>公司</th>\n",
       "      <th>日期</th>\n",
       "      <th></th>\n",
       "      <th></th>\n",
       "      <th></th>\n",
       "      <th></th>\n",
       "      <th></th>\n",
       "      <th></th>\n",
       "    </tr>\n",
       "  </thead>\n",
       "  <tbody>\n",
       "    <tr>\n",
       "      <th rowspan=\"4\" valign=\"top\">阿里</th>\n",
       "      <th>2023-12-07</th>\n",
       "      <td>72.33</td>\n",
       "      <td>71.54</td>\n",
       "      <td>72.37</td>\n",
       "      <td>71.44</td>\n",
       "      <td>18.33M</td>\n",
       "      <td>0.0117</td>\n",
       "    </tr>\n",
       "    <tr>\n",
       "      <th>2023-12-06</th>\n",
       "      <td>71.49</td>\n",
       "      <td>72.36</td>\n",
       "      <td>72.95</td>\n",
       "      <td>71.49</td>\n",
       "      <td>29.66M</td>\n",
       "      <td>-0.0123</td>\n",
       "    </tr>\n",
       "    <tr>\n",
       "      <th>2023-12-05</th>\n",
       "      <td>72.38</td>\n",
       "      <td>72.04</td>\n",
       "      <td>72.70</td>\n",
       "      <td>71.92</td>\n",
       "      <td>18.96M</td>\n",
       "      <td>-0.0089</td>\n",
       "    </tr>\n",
       "    <tr>\n",
       "      <th>2023-12-04</th>\n",
       "      <td>73.03</td>\n",
       "      <td>72.67</td>\n",
       "      <td>73.58</td>\n",
       "      <td>72.48</td>\n",
       "      <td>20.96M</td>\n",
       "      <td>-0.0130</td>\n",
       "    </tr>\n",
       "    <tr>\n",
       "      <th rowspan=\"4\" valign=\"top\">百度</th>\n",
       "      <th>2023-12-07</th>\n",
       "      <td>115.78</td>\n",
       "      <td>114.41</td>\n",
       "      <td>116.21</td>\n",
       "      <td>114.22</td>\n",
       "      <td>2.65M</td>\n",
       "      <td>0.0212</td>\n",
       "    </tr>\n",
       "    <tr>\n",
       "      <th>2023-12-06</th>\n",
       "      <td>113.38</td>\n",
       "      <td>115.25</td>\n",
       "      <td>115.67</td>\n",
       "      <td>113.32</td>\n",
       "      <td>2.06M</td>\n",
       "      <td>-0.0015</td>\n",
       "    </tr>\n",
       "    <tr>\n",
       "      <th>2023-12-05</th>\n",
       "      <td>113.55</td>\n",
       "      <td>111.88</td>\n",
       "      <td>114.68</td>\n",
       "      <td>111.73</td>\n",
       "      <td>2.26M</td>\n",
       "      <td>-0.0013</td>\n",
       "    </tr>\n",
       "    <tr>\n",
       "      <th>2023-12-04</th>\n",
       "      <td>113.70</td>\n",
       "      <td>114.77</td>\n",
       "      <td>114.77</td>\n",
       "      <td>112.41</td>\n",
       "      <td>3.90M</td>\n",
       "      <td>-0.0263</td>\n",
       "    </tr>\n",
       "  </tbody>\n",
       "</table>\n",
       "</div>"
      ],
      "text/plain": [
       "                   收盘      开盘       高       低     交易量     涨跌幅\n",
       "公司 日期                                                        \n",
       "阿里 2023-12-07   72.33   71.54   72.37   71.44  18.33M  0.0117\n",
       "   2023-12-06   71.49   72.36   72.95   71.49  29.66M -0.0123\n",
       "   2023-12-05   72.38   72.04   72.70   71.92  18.96M -0.0089\n",
       "   2023-12-04   73.03   72.67   73.58   72.48  20.96M -0.0130\n",
       "百度 2023-12-07  115.78  114.41  116.21  114.22   2.65M  0.0212\n",
       "   2023-12-06  113.38  115.25  115.67  113.32   2.06M -0.0015\n",
       "   2023-12-05  113.55  111.88  114.68  111.73   2.26M -0.0013\n",
       "   2023-12-04  113.70  114.77  114.77  112.41   3.90M -0.0263"
      ]
     },
     "execution_count": 24,
     "metadata": {},
     "output_type": "execute_result"
    }
   ],
   "source": [
    "stocks.loc[[\"阿里\",\"百度\"]]"
   ]
  },
  {
   "cell_type": "code",
   "execution_count": 25,
   "id": "350a65cb",
   "metadata": {},
   "outputs": [
    {
     "data": {
      "text/html": [
       "<div>\n",
       "<style scoped>\n",
       "    .dataframe tbody tr th:only-of-type {\n",
       "        vertical-align: middle;\n",
       "    }\n",
       "\n",
       "    .dataframe tbody tr th {\n",
       "        vertical-align: top;\n",
       "    }\n",
       "\n",
       "    .dataframe thead th {\n",
       "        text-align: right;\n",
       "    }\n",
       "</style>\n",
       "<table border=\"1\" class=\"dataframe\">\n",
       "  <thead>\n",
       "    <tr style=\"text-align: right;\">\n",
       "      <th></th>\n",
       "      <th></th>\n",
       "      <th>收盘</th>\n",
       "      <th>开盘</th>\n",
       "      <th>高</th>\n",
       "      <th>低</th>\n",
       "      <th>交易量</th>\n",
       "      <th>涨跌幅</th>\n",
       "    </tr>\n",
       "    <tr>\n",
       "      <th>公司</th>\n",
       "      <th>日期</th>\n",
       "      <th></th>\n",
       "      <th></th>\n",
       "      <th></th>\n",
       "      <th></th>\n",
       "      <th></th>\n",
       "      <th></th>\n",
       "    </tr>\n",
       "  </thead>\n",
       "  <tbody>\n",
       "    <tr>\n",
       "      <th>阿里</th>\n",
       "      <th>2023-12-07</th>\n",
       "      <td>72.33</td>\n",
       "      <td>71.54</td>\n",
       "      <td>72.37</td>\n",
       "      <td>71.44</td>\n",
       "      <td>18.33M</td>\n",
       "      <td>0.0117</td>\n",
       "    </tr>\n",
       "    <tr>\n",
       "      <th>百度</th>\n",
       "      <th>2023-12-07</th>\n",
       "      <td>115.78</td>\n",
       "      <td>114.41</td>\n",
       "      <td>116.21</td>\n",
       "      <td>114.22</td>\n",
       "      <td>2.65M</td>\n",
       "      <td>0.0212</td>\n",
       "    </tr>\n",
       "    <tr>\n",
       "      <th>拼多多</th>\n",
       "      <th>2023-12-07</th>\n",
       "      <td>140.29</td>\n",
       "      <td>141.99</td>\n",
       "      <td>142.55</td>\n",
       "      <td>139.05</td>\n",
       "      <td>6.41M</td>\n",
       "      <td>-0.0120</td>\n",
       "    </tr>\n",
       "    <tr>\n",
       "      <th>阿里</th>\n",
       "      <th>2023-12-06</th>\n",
       "      <td>71.49</td>\n",
       "      <td>72.36</td>\n",
       "      <td>72.95</td>\n",
       "      <td>71.49</td>\n",
       "      <td>29.66M</td>\n",
       "      <td>-0.0123</td>\n",
       "    </tr>\n",
       "    <tr>\n",
       "      <th>百度</th>\n",
       "      <th>2023-12-06</th>\n",
       "      <td>113.38</td>\n",
       "      <td>115.25</td>\n",
       "      <td>115.67</td>\n",
       "      <td>113.32</td>\n",
       "      <td>2.06M</td>\n",
       "      <td>-0.0015</td>\n",
       "    </tr>\n",
       "    <tr>\n",
       "      <th>拼多多</th>\n",
       "      <th>2023-12-06</th>\n",
       "      <td>141.99</td>\n",
       "      <td>143.87</td>\n",
       "      <td>145.43</td>\n",
       "      <td>141.69</td>\n",
       "      <td>6.01M</td>\n",
       "      <td>-0.0102</td>\n",
       "    </tr>\n",
       "  </tbody>\n",
       "</table>\n",
       "</div>"
      ],
      "text/plain": [
       "                    收盘      开盘       高       低     交易量     涨跌幅\n",
       "公司  日期                                                        \n",
       "阿里  2023-12-07   72.33   71.54   72.37   71.44  18.33M  0.0117\n",
       "百度  2023-12-07  115.78  114.41  116.21  114.22   2.65M  0.0212\n",
       "拼多多 2023-12-07  140.29  141.99  142.55  139.05   6.41M -0.0120\n",
       "阿里  2023-12-06   71.49   72.36   72.95   71.49  29.66M -0.0123\n",
       "百度  2023-12-06  113.38  115.25  115.67  113.32   2.06M -0.0015\n",
       "拼多多 2023-12-06  141.99  143.87  145.43  141.69   6.01M -0.0102"
      ]
     },
     "execution_count": 25,
     "metadata": {},
     "output_type": "execute_result"
    }
   ],
   "source": [
    "# 一级索引获取所有值, 二级索引为列表\n",
    "# 所有制可以用slice(None)来表示\n",
    "stocks.loc[(slice(None), [\"2023-12-07\",\"2023-12-06\"]), :]"
   ]
  },
  {
   "cell_type": "code",
   "execution_count": 26,
   "id": "60788fff",
   "metadata": {},
   "outputs": [
    {
     "data": {
      "text/html": [
       "<div>\n",
       "<style scoped>\n",
       "    .dataframe tbody tr th:only-of-type {\n",
       "        vertical-align: middle;\n",
       "    }\n",
       "\n",
       "    .dataframe tbody tr th {\n",
       "        vertical-align: top;\n",
       "    }\n",
       "\n",
       "    .dataframe thead th {\n",
       "        text-align: right;\n",
       "    }\n",
       "</style>\n",
       "<table border=\"1\" class=\"dataframe\">\n",
       "  <thead>\n",
       "    <tr style=\"text-align: right;\">\n",
       "      <th></th>\n",
       "      <th></th>\n",
       "      <th>收盘</th>\n",
       "      <th>开盘</th>\n",
       "      <th>高</th>\n",
       "      <th>低</th>\n",
       "      <th>交易量</th>\n",
       "      <th>涨跌幅</th>\n",
       "    </tr>\n",
       "    <tr>\n",
       "      <th>公司</th>\n",
       "      <th>日期</th>\n",
       "      <th></th>\n",
       "      <th></th>\n",
       "      <th></th>\n",
       "      <th></th>\n",
       "      <th></th>\n",
       "      <th></th>\n",
       "    </tr>\n",
       "  </thead>\n",
       "  <tbody>\n",
       "    <tr>\n",
       "      <th rowspan=\"4\" valign=\"top\">阿里</th>\n",
       "      <th>2023-12-07</th>\n",
       "      <td>72.33</td>\n",
       "      <td>71.54</td>\n",
       "      <td>72.37</td>\n",
       "      <td>71.44</td>\n",
       "      <td>18.33M</td>\n",
       "      <td>0.0117</td>\n",
       "    </tr>\n",
       "    <tr>\n",
       "      <th>2023-12-06</th>\n",
       "      <td>71.49</td>\n",
       "      <td>72.36</td>\n",
       "      <td>72.95</td>\n",
       "      <td>71.49</td>\n",
       "      <td>29.66M</td>\n",
       "      <td>-0.0123</td>\n",
       "    </tr>\n",
       "    <tr>\n",
       "      <th>2023-12-05</th>\n",
       "      <td>72.38</td>\n",
       "      <td>72.04</td>\n",
       "      <td>72.70</td>\n",
       "      <td>71.92</td>\n",
       "      <td>18.96M</td>\n",
       "      <td>-0.0089</td>\n",
       "    </tr>\n",
       "    <tr>\n",
       "      <th>2023-12-04</th>\n",
       "      <td>73.03</td>\n",
       "      <td>72.67</td>\n",
       "      <td>73.58</td>\n",
       "      <td>72.48</td>\n",
       "      <td>20.96M</td>\n",
       "      <td>-0.0130</td>\n",
       "    </tr>\n",
       "    <tr>\n",
       "      <th rowspan=\"4\" valign=\"top\">百度</th>\n",
       "      <th>2023-12-07</th>\n",
       "      <td>115.78</td>\n",
       "      <td>114.41</td>\n",
       "      <td>116.21</td>\n",
       "      <td>114.22</td>\n",
       "      <td>2.65M</td>\n",
       "      <td>0.0212</td>\n",
       "    </tr>\n",
       "    <tr>\n",
       "      <th>2023-12-06</th>\n",
       "      <td>113.38</td>\n",
       "      <td>115.25</td>\n",
       "      <td>115.67</td>\n",
       "      <td>113.32</td>\n",
       "      <td>2.06M</td>\n",
       "      <td>-0.0015</td>\n",
       "    </tr>\n",
       "    <tr>\n",
       "      <th>2023-12-05</th>\n",
       "      <td>113.55</td>\n",
       "      <td>111.88</td>\n",
       "      <td>114.68</td>\n",
       "      <td>111.73</td>\n",
       "      <td>2.26M</td>\n",
       "      <td>-0.0013</td>\n",
       "    </tr>\n",
       "    <tr>\n",
       "      <th>2023-12-04</th>\n",
       "      <td>113.70</td>\n",
       "      <td>114.77</td>\n",
       "      <td>114.77</td>\n",
       "      <td>112.41</td>\n",
       "      <td>3.90M</td>\n",
       "      <td>-0.0263</td>\n",
       "    </tr>\n",
       "    <tr>\n",
       "      <th rowspan=\"4\" valign=\"top\">拼多多</th>\n",
       "      <th>2023-12-07</th>\n",
       "      <td>140.29</td>\n",
       "      <td>141.99</td>\n",
       "      <td>142.55</td>\n",
       "      <td>139.05</td>\n",
       "      <td>6.41M</td>\n",
       "      <td>-0.0120</td>\n",
       "    </tr>\n",
       "    <tr>\n",
       "      <th>2023-12-06</th>\n",
       "      <td>141.99</td>\n",
       "      <td>143.87</td>\n",
       "      <td>145.43</td>\n",
       "      <td>141.69</td>\n",
       "      <td>6.01M</td>\n",
       "      <td>-0.0102</td>\n",
       "    </tr>\n",
       "    <tr>\n",
       "      <th>2023-12-05</th>\n",
       "      <td>143.46</td>\n",
       "      <td>138.66</td>\n",
       "      <td>143.53</td>\n",
       "      <td>138.12</td>\n",
       "      <td>6.75M</td>\n",
       "      <td>0.0044</td>\n",
       "    </tr>\n",
       "    <tr>\n",
       "      <th>2023-12-04</th>\n",
       "      <td>142.83</td>\n",
       "      <td>141.35</td>\n",
       "      <td>143.39</td>\n",
       "      <td>139.95</td>\n",
       "      <td>9.29M</td>\n",
       "      <td>-0.0168</td>\n",
       "    </tr>\n",
       "  </tbody>\n",
       "</table>\n",
       "</div>"
      ],
      "text/plain": [
       "                    收盘      开盘       高       低     交易量     涨跌幅\n",
       "公司  日期                                                        \n",
       "阿里  2023-12-07   72.33   71.54   72.37   71.44  18.33M  0.0117\n",
       "    2023-12-06   71.49   72.36   72.95   71.49  29.66M -0.0123\n",
       "    2023-12-05   72.38   72.04   72.70   71.92  18.96M -0.0089\n",
       "    2023-12-04   73.03   72.67   73.58   72.48  20.96M -0.0130\n",
       "百度  2023-12-07  115.78  114.41  116.21  114.22   2.65M  0.0212\n",
       "    2023-12-06  113.38  115.25  115.67  113.32   2.06M -0.0015\n",
       "    2023-12-05  113.55  111.88  114.68  111.73   2.26M -0.0013\n",
       "    2023-12-04  113.70  114.77  114.77  112.41   3.90M -0.0263\n",
       "拼多多 2023-12-07  140.29  141.99  142.55  139.05   6.41M -0.0120\n",
       "    2023-12-06  141.99  143.87  145.43  141.69   6.01M -0.0102\n",
       "    2023-12-05  143.46  138.66  143.53  138.12   6.75M  0.0044\n",
       "    2023-12-04  142.83  141.35  143.39  139.95   9.29M -0.0168"
      ]
     },
     "execution_count": 26,
     "metadata": {},
     "output_type": "execute_result"
    }
   ],
   "source": [
    "stocks.loc[(slice(None), slice(None)), :]"
   ]
  },
  {
   "cell_type": "code",
   "execution_count": null,
   "id": "f67777ee",
   "metadata": {},
   "outputs": [],
   "source": []
  }
 ],
 "metadata": {
  "kernelspec": {
   "display_name": "Python 3 (ipykernel)",
   "language": "python",
   "name": "python3"
  },
  "language_info": {
   "codemirror_mode": {
    "name": "ipython",
    "version": 3
   },
   "file_extension": ".py",
   "mimetype": "text/x-python",
   "name": "python",
   "nbconvert_exporter": "python",
   "pygments_lexer": "ipython3",
   "version": "3.11.5"
  }
 },
 "nbformat": 4,
 "nbformat_minor": 5
}
