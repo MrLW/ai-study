{
 "cells": [
  {
   "cell_type": "code",
   "execution_count": 2,
   "id": "f3cd7fc3",
   "metadata": {},
   "outputs": [],
   "source": [
    "import pandas as pd\n",
    "df=pd.read_csv('./data/beijing_weather.csv')"
   ]
  },
  {
   "cell_type": "code",
   "execution_count": 6,
   "id": "d48826a6",
   "metadata": {},
   "outputs": [],
   "source": [
    "df[\"温度\"]=df[\"温度\"].str.replace(\"[℃C]\",\"\", regex=True)"
   ]
  },
  {
   "cell_type": "code",
   "execution_count": 9,
   "id": "66a6ebcc",
   "metadata": {},
   "outputs": [],
   "source": [
    "df[[\"高温\",\"低温\"]]=df[\"温度\"].str.split(\"～\", expand=True)\n",
    "df[\"高温\"] = df[\"高温\"].map(lambda x: int(x))"
   ]
  },
  {
   "cell_type": "code",
   "execution_count": 13,
   "id": "bbce69b2",
   "metadata": {},
   "outputs": [],
   "source": [
    "df[\"低温\"] = df[\"低温\"].map(lambda x: int(x))\n",
    "df[\"高温\"] = df[\"高温\"].map(lambda x: int(x))"
   ]
  },
  {
   "cell_type": "code",
   "execution_count": 14,
   "id": "537c32d5",
   "metadata": {},
   "outputs": [
    {
     "data": {
      "text/plain": [
       "城市    object\n",
       "时间    object\n",
       "天气    object\n",
       "温度    object\n",
       "风向    object\n",
       "高温     int64\n",
       "低温     int64\n",
       "dtype: object"
      ]
     },
     "execution_count": 14,
     "metadata": {},
     "output_type": "execute_result"
    }
   ],
   "source": [
    "df.dtypes"
   ]
  },
  {
   "cell_type": "code",
   "execution_count": 15,
   "id": "fc5b1ced",
   "metadata": {},
   "outputs": [],
   "source": [
    "# 同时添加温差和平均温度\n",
    "def my_fun(row):\n",
    "    return row[\"高温\"] - row[\"低温\"], (row[\"高温\"] + row[\"低温\"]) / 2\n",
    "df[[\"diff\",\"avg\"]] = df.apply(my_fun, axis=1, result_type=\"expand\")"
   ]
  },
  {
   "cell_type": "code",
   "execution_count": 17,
   "id": "92d85644",
   "metadata": {},
   "outputs": [
    {
     "data": {
      "text/html": [
       "<div>\n",
       "<style scoped>\n",
       "    .dataframe tbody tr th:only-of-type {\n",
       "        vertical-align: middle;\n",
       "    }\n",
       "\n",
       "    .dataframe tbody tr th {\n",
       "        vertical-align: top;\n",
       "    }\n",
       "\n",
       "    .dataframe thead th {\n",
       "        text-align: right;\n",
       "    }\n",
       "</style>\n",
       "<table border=\"1\" class=\"dataframe\">\n",
       "  <thead>\n",
       "    <tr style=\"text-align: right;\">\n",
       "      <th></th>\n",
       "      <th>城市</th>\n",
       "      <th>时间</th>\n",
       "      <th>天气</th>\n",
       "      <th>温度</th>\n",
       "      <th>风向</th>\n",
       "      <th>高温</th>\n",
       "      <th>低温</th>\n",
       "      <th>diff</th>\n",
       "      <th>avg</th>\n",
       "    </tr>\n",
       "  </thead>\n",
       "  <tbody>\n",
       "    <tr>\n",
       "      <th>0</th>\n",
       "      <td>北京</td>\n",
       "      <td>2018/6/30</td>\n",
       "      <td>雷阵雨转多云</td>\n",
       "      <td>37～23</td>\n",
       "      <td>西南风转东南风 &lt;3级</td>\n",
       "      <td>37</td>\n",
       "      <td>23</td>\n",
       "      <td>14.0</td>\n",
       "      <td>30.0</td>\n",
       "    </tr>\n",
       "    <tr>\n",
       "      <th>1</th>\n",
       "      <td>北京</td>\n",
       "      <td>2018/6/29</td>\n",
       "      <td>多云</td>\n",
       "      <td>39～25</td>\n",
       "      <td>西南风转南风 3-4级转3-4级</td>\n",
       "      <td>39</td>\n",
       "      <td>25</td>\n",
       "      <td>14.0</td>\n",
       "      <td>32.0</td>\n",
       "    </tr>\n",
       "    <tr>\n",
       "      <th>2</th>\n",
       "      <td>北京</td>\n",
       "      <td>2018/6/28</td>\n",
       "      <td>晴</td>\n",
       "      <td>35～24</td>\n",
       "      <td>北风转西南风 3-4级转3-4级</td>\n",
       "      <td>35</td>\n",
       "      <td>24</td>\n",
       "      <td>11.0</td>\n",
       "      <td>29.5</td>\n",
       "    </tr>\n",
       "    <tr>\n",
       "      <th>3</th>\n",
       "      <td>北京</td>\n",
       "      <td>2018/6/27</td>\n",
       "      <td>多云转晴</td>\n",
       "      <td>38～25</td>\n",
       "      <td>西北风转微风 3-4级转3-4级</td>\n",
       "      <td>38</td>\n",
       "      <td>25</td>\n",
       "      <td>13.0</td>\n",
       "      <td>31.5</td>\n",
       "    </tr>\n",
       "    <tr>\n",
       "      <th>4</th>\n",
       "      <td>北京</td>\n",
       "      <td>2018/6/26</td>\n",
       "      <td>晴</td>\n",
       "      <td>36～25</td>\n",
       "      <td>西南风转南风 3-4级转3-4级</td>\n",
       "      <td>36</td>\n",
       "      <td>25</td>\n",
       "      <td>11.0</td>\n",
       "      <td>30.5</td>\n",
       "    </tr>\n",
       "  </tbody>\n",
       "</table>\n",
       "</div>"
      ],
      "text/plain": [
       "   城市         时间      天气     温度                风向  高温  低温  diff   avg\n",
       "0  北京  2018/6/30  雷阵雨转多云  37～23       西南风转东南风 <3级  37  23  14.0  30.0\n",
       "1  北京  2018/6/29      多云  39～25  西南风转南风 3-4级转3-4级  39  25  14.0  32.0\n",
       "2  北京  2018/6/28       晴  35～24  北风转西南风 3-4级转3-4级  35  24  11.0  29.5\n",
       "3  北京  2018/6/27    多云转晴  38～25  西北风转微风 3-4级转3-4级  38  25  13.0  31.5\n",
       "4  北京  2018/6/26       晴  36～25  西南风转南风 3-4级转3-4级  36  25  11.0  30.5"
      ]
     },
     "execution_count": 17,
     "metadata": {},
     "output_type": "execute_result"
    }
   ],
   "source": [
    "df.head()"
   ]
  },
  {
   "cell_type": "code",
   "execution_count": null,
   "id": "121a51b6",
   "metadata": {},
   "outputs": [],
   "source": []
  }
 ],
 "metadata": {
  "kernelspec": {
   "display_name": "Python 3 (ipykernel)",
   "language": "python",
   "name": "python3"
  },
  "language_info": {
   "codemirror_mode": {
    "name": "ipython",
    "version": 3
   },
   "file_extension": ".py",
   "mimetype": "text/x-python",
   "name": "python",
   "nbconvert_exporter": "python",
   "pygments_lexer": "ipython3",
   "version": "3.11.5"
  }
 },
 "nbformat": 4,
 "nbformat_minor": 5
}
