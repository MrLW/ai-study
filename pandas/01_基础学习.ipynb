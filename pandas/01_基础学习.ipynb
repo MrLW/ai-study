{
 "cells": [
  {
   "cell_type": "markdown",
   "id": "4260780e",
   "metadata": {},
   "source": [
    "### 读取csv文件"
   ]
  },
  {
   "cell_type": "code",
   "execution_count": null,
   "id": "87ae65b8",
   "metadata": {},
   "outputs": [],
   "source": [
    "import pandas as pd"
   ]
  },
  {
   "cell_type": "code",
   "execution_count": 7,
   "id": "670a6c25",
   "metadata": {},
   "outputs": [],
   "source": [
    "filepath=\"./data/movie.csv\"\n",
    "ratings=pd.read_csv(filepath) # 读取csv 文件"
   ]
  },
  {
   "cell_type": "code",
   "execution_count": 8,
   "id": "e2841909",
   "metadata": {},
   "outputs": [
    {
     "data": {
      "text/html": [
       "<div>\n",
       "<style scoped>\n",
       "    .dataframe tbody tr th:only-of-type {\n",
       "        vertical-align: middle;\n",
       "    }\n",
       "\n",
       "    .dataframe tbody tr th {\n",
       "        vertical-align: top;\n",
       "    }\n",
       "\n",
       "    .dataframe thead th {\n",
       "        text-align: right;\n",
       "    }\n",
       "</style>\n",
       "<table border=\"1\" class=\"dataframe\">\n",
       "  <thead>\n",
       "    <tr style=\"text-align: right;\">\n",
       "      <th></th>\n",
       "      <th>userId</th>\n",
       "      <th>movieId</th>\n",
       "      <th>rating</th>\n",
       "    </tr>\n",
       "  </thead>\n",
       "  <tbody>\n",
       "    <tr>\n",
       "      <th>0</th>\n",
       "      <td>1</td>\n",
       "      <td>1</td>\n",
       "      <td>0.5</td>\n",
       "    </tr>\n",
       "    <tr>\n",
       "      <th>1</th>\n",
       "      <td>1</td>\n",
       "      <td>1</td>\n",
       "      <td>0.5</td>\n",
       "    </tr>\n",
       "    <tr>\n",
       "      <th>2</th>\n",
       "      <td>1</td>\n",
       "      <td>1</td>\n",
       "      <td>0.5</td>\n",
       "    </tr>\n",
       "  </tbody>\n",
       "</table>\n",
       "</div>"
      ],
      "text/plain": [
       "   userId  movieId  rating\n",
       "0       1        1     0.5\n",
       "1       1        1     0.5\n",
       "2       1        1     0.5"
      ]
     },
     "execution_count": 8,
     "metadata": {},
     "output_type": "execute_result"
    }
   ],
   "source": [
    "ratings.head(3)# 读取前3行数据"
   ]
  },
  {
   "cell_type": "code",
   "execution_count": 9,
   "id": "63b7a5c7",
   "metadata": {},
   "outputs": [
    {
     "data": {
      "text/plain": [
       "(24, 3)"
      ]
     },
     "execution_count": 9,
     "metadata": {},
     "output_type": "execute_result"
    }
   ],
   "source": [
    "ratings.shape # 返回行数和列数"
   ]
  },
  {
   "cell_type": "code",
   "execution_count": 10,
   "id": "36aadab6",
   "metadata": {},
   "outputs": [
    {
     "data": {
      "text/plain": [
       "Index(['userId', 'movieId', 'rating'], dtype='object')"
      ]
     },
     "execution_count": 10,
     "metadata": {},
     "output_type": "execute_result"
    }
   ],
   "source": [
    "ratings.columns # 返回列的名称"
   ]
  },
  {
   "cell_type": "code",
   "execution_count": 11,
   "id": "13487025",
   "metadata": {},
   "outputs": [
    {
     "data": {
      "text/plain": [
       "RangeIndex(start=0, stop=24, step=1)"
      ]
     },
     "execution_count": 11,
     "metadata": {},
     "output_type": "execute_result"
    }
   ],
   "source": [
    "# 返回索引\n",
    "ratings.index "
   ]
  },
  {
   "cell_type": "code",
   "execution_count": 12,
   "id": "9b4b6585",
   "metadata": {},
   "outputs": [
    {
     "data": {
      "text/plain": [
       "userId       int64\n",
       "movieId      int64\n",
       "rating     float64\n",
       "dtype: object"
      ]
     },
     "execution_count": 12,
     "metadata": {},
     "output_type": "execute_result"
    }
   ],
   "source": [
    "# 查看数据类型\n",
    "ratings.dtypes"
   ]
  },
  {
   "cell_type": "markdown",
   "id": "7bda2d67",
   "metadata": {},
   "source": [
    "### 读取txt文件"
   ]
  },
  {
   "cell_type": "code",
   "execution_count": 13,
   "id": "a4382da2",
   "metadata": {},
   "outputs": [],
   "source": [
    "filepath=\"./data/web.txt\""
   ]
  },
  {
   "cell_type": "code",
   "execution_count": 25,
   "id": "a56b6d49",
   "metadata": {},
   "outputs": [],
   "source": [
    "webuv = pd.read_csv(filepath, sep=\" \", header=None, names=[\"date\", \"uid\", \"uv\"])"
   ]
  },
  {
   "cell_type": "code",
   "execution_count": 26,
   "id": "f0492441",
   "metadata": {},
   "outputs": [
    {
     "data": {
      "text/html": [
       "<div>\n",
       "<style scoped>\n",
       "    .dataframe tbody tr th:only-of-type {\n",
       "        vertical-align: middle;\n",
       "    }\n",
       "\n",
       "    .dataframe tbody tr th {\n",
       "        vertical-align: top;\n",
       "    }\n",
       "\n",
       "    .dataframe thead th {\n",
       "        text-align: right;\n",
       "    }\n",
       "</style>\n",
       "<table border=\"1\" class=\"dataframe\">\n",
       "  <thead>\n",
       "    <tr style=\"text-align: right;\">\n",
       "      <th></th>\n",
       "      <th>date</th>\n",
       "      <th>uid</th>\n",
       "      <th>uv</th>\n",
       "    </tr>\n",
       "  </thead>\n",
       "  <tbody>\n",
       "    <tr>\n",
       "      <th>0</th>\n",
       "      <td>2020-01-01</td>\n",
       "      <td>1</td>\n",
       "      <td>11</td>\n",
       "    </tr>\n",
       "    <tr>\n",
       "      <th>1</th>\n",
       "      <td>2020-02-01</td>\n",
       "      <td>1</td>\n",
       "      <td>11</td>\n",
       "    </tr>\n",
       "    <tr>\n",
       "      <th>2</th>\n",
       "      <td>2020-03-01</td>\n",
       "      <td>1</td>\n",
       "      <td>11</td>\n",
       "    </tr>\n",
       "    <tr>\n",
       "      <th>3</th>\n",
       "      <td>2020-03-21</td>\n",
       "      <td>1</td>\n",
       "      <td>11</td>\n",
       "    </tr>\n",
       "    <tr>\n",
       "      <th>4</th>\n",
       "      <td>2020-01-31</td>\n",
       "      <td>1</td>\n",
       "      <td>11</td>\n",
       "    </tr>\n",
       "    <tr>\n",
       "      <th>5</th>\n",
       "      <td>2020-02-11</td>\n",
       "      <td>1</td>\n",
       "      <td>11</td>\n",
       "    </tr>\n",
       "    <tr>\n",
       "      <th>6</th>\n",
       "      <td>2020-08-03</td>\n",
       "      <td>1</td>\n",
       "      <td>11</td>\n",
       "    </tr>\n",
       "    <tr>\n",
       "      <th>7</th>\n",
       "      <td>2020-11-16</td>\n",
       "      <td>1</td>\n",
       "      <td>11</td>\n",
       "    </tr>\n",
       "    <tr>\n",
       "      <th>8</th>\n",
       "      <td>2020-08-30</td>\n",
       "      <td>1</td>\n",
       "      <td>11</td>\n",
       "    </tr>\n",
       "    <tr>\n",
       "      <th>9</th>\n",
       "      <td>2020-09-21</td>\n",
       "      <td>1</td>\n",
       "      <td>11</td>\n",
       "    </tr>\n",
       "  </tbody>\n",
       "</table>\n",
       "</div>"
      ],
      "text/plain": [
       "         date  uid  uv\n",
       "0  2020-01-01    1  11\n",
       "1  2020-02-01    1  11\n",
       "2  2020-03-01    1  11\n",
       "3  2020-03-21    1  11\n",
       "4  2020-01-31    1  11\n",
       "5  2020-02-11    1  11\n",
       "6  2020-08-03    1  11\n",
       "7  2020-11-16    1  11\n",
       "8  2020-08-30    1  11\n",
       "9  2020-09-21    1  11"
      ]
     },
     "execution_count": 26,
     "metadata": {},
     "output_type": "execute_result"
    }
   ],
   "source": [
    "webuv"
   ]
  },
  {
   "cell_type": "markdown",
   "id": "19d36d6e",
   "metadata": {},
   "source": [
    "### 读取Excel"
   ]
  },
  {
   "cell_type": "code",
   "execution_count": 27,
   "id": "c15d7db2",
   "metadata": {},
   "outputs": [
    {
     "data": {
      "text/html": [
       "<div>\n",
       "<style scoped>\n",
       "    .dataframe tbody tr th:only-of-type {\n",
       "        vertical-align: middle;\n",
       "    }\n",
       "\n",
       "    .dataframe tbody tr th {\n",
       "        vertical-align: top;\n",
       "    }\n",
       "\n",
       "    .dataframe thead th {\n",
       "        text-align: right;\n",
       "    }\n",
       "</style>\n",
       "<table border=\"1\" class=\"dataframe\">\n",
       "  <thead>\n",
       "    <tr style=\"text-align: right;\">\n",
       "      <th></th>\n",
       "      <th>日期</th>\n",
       "      <th>用户</th>\n",
       "      <th>访问量</th>\n",
       "    </tr>\n",
       "  </thead>\n",
       "  <tbody>\n",
       "    <tr>\n",
       "      <th>0</th>\n",
       "      <td>2020-01-01</td>\n",
       "      <td>1</td>\n",
       "      <td>101</td>\n",
       "    </tr>\n",
       "    <tr>\n",
       "      <th>1</th>\n",
       "      <td>2020-01-02</td>\n",
       "      <td>1</td>\n",
       "      <td>101</td>\n",
       "    </tr>\n",
       "    <tr>\n",
       "      <th>2</th>\n",
       "      <td>2020-01-03</td>\n",
       "      <td>1</td>\n",
       "      <td>101</td>\n",
       "    </tr>\n",
       "    <tr>\n",
       "      <th>3</th>\n",
       "      <td>2020-01-04</td>\n",
       "      <td>1</td>\n",
       "      <td>101</td>\n",
       "    </tr>\n",
       "    <tr>\n",
       "      <th>4</th>\n",
       "      <td>2020-01-05</td>\n",
       "      <td>1</td>\n",
       "      <td>101</td>\n",
       "    </tr>\n",
       "    <tr>\n",
       "      <th>5</th>\n",
       "      <td>2020-01-06</td>\n",
       "      <td>1</td>\n",
       "      <td>101</td>\n",
       "    </tr>\n",
       "    <tr>\n",
       "      <th>6</th>\n",
       "      <td>2020-01-07</td>\n",
       "      <td>1</td>\n",
       "      <td>101</td>\n",
       "    </tr>\n",
       "  </tbody>\n",
       "</table>\n",
       "</div>"
      ],
      "text/plain": [
       "          日期  用户  访问量\n",
       "0 2020-01-01   1  101\n",
       "1 2020-01-02   1  101\n",
       "2 2020-01-03   1  101\n",
       "3 2020-01-04   1  101\n",
       "4 2020-01-05   1  101\n",
       "5 2020-01-06   1  101\n",
       "6 2020-01-07   1  101"
      ]
     },
     "execution_count": 27,
     "metadata": {},
     "output_type": "execute_result"
    }
   ],
   "source": [
    "filepath = \"./data/pv.xlsx\"\n",
    "pd.read_excel(filepath)"
   ]
  },
  {
   "cell_type": "markdown",
   "id": "383fbfef",
   "metadata": {},
   "source": [
    "### Pandas 的数据结构\n",
    "##### DataFraome\n",
    "\n",
    "二位数据，整个表格, 是一个表格型的数据结构\n",
    "- 每列可以是不同的值类型\n",
    "- 既有行所以index，也有列索引columns\n",
    "- 可以看做是由Series组成的字典\n",
    "\n",
    "创建DataFrame 常用的方法就是读取数据。\n",
    "##### Series\n",
    "\n",
    "一维数据，一行或者一列"
   ]
  },
  {
   "cell_type": "code",
   "execution_count": 28,
   "id": "e5fab98b",
   "metadata": {},
   "outputs": [],
   "source": [
    "import pandas as pd \n",
    "import numpy as np "
   ]
  },
  {
   "cell_type": "markdown",
   "id": "4e9d60e4",
   "metadata": {},
   "source": [
    "#### 通过列表创建Series"
   ]
  },
  {
   "cell_type": "code",
   "execution_count": 32,
   "id": "b53467fa",
   "metadata": {},
   "outputs": [],
   "source": [
    "s1=pd.Series([1,'a',5,2,7])"
   ]
  },
  {
   "cell_type": "code",
   "execution_count": 33,
   "id": "1cf4aed3",
   "metadata": {},
   "outputs": [
    {
     "data": {
      "text/plain": [
       "0    1\n",
       "1    a\n",
       "2    5\n",
       "3    2\n",
       "4    7\n",
       "dtype: object"
      ]
     },
     "execution_count": 33,
     "metadata": {},
     "output_type": "execute_result"
    }
   ],
   "source": [
    "# 左侧为索引，右侧为数据\n",
    "s1"
   ]
  },
  {
   "cell_type": "code",
   "execution_count": 34,
   "id": "bfbc1729",
   "metadata": {},
   "outputs": [
    {
     "data": {
      "text/plain": [
       "RangeIndex(start=0, stop=5, step=1)"
      ]
     },
     "execution_count": 34,
     "metadata": {},
     "output_type": "execute_result"
    }
   ],
   "source": [
    "# 获取索引\n",
    "s1.index"
   ]
  },
  {
   "cell_type": "code",
   "execution_count": 35,
   "id": "b6cf6067",
   "metadata": {},
   "outputs": [
    {
     "data": {
      "text/plain": [
       "array([1, 'a', 5, 2, 7], dtype=object)"
      ]
     },
     "execution_count": 35,
     "metadata": {},
     "output_type": "execute_result"
    }
   ],
   "source": [
    "# 获取数据\n",
    "s1.values"
   ]
  },
  {
   "cell_type": "markdown",
   "id": "45cf54fb",
   "metadata": {},
   "source": [
    "#### 创建具有标签索引的Series"
   ]
  },
  {
   "cell_type": "code",
   "execution_count": 36,
   "id": "84ed31e3",
   "metadata": {},
   "outputs": [],
   "source": [
    "s2=pd.Series([1,'a',5,2,7],index=['a','b','c','d', 'e'])"
   ]
  },
  {
   "cell_type": "code",
   "execution_count": 37,
   "id": "775624ed",
   "metadata": {},
   "outputs": [
    {
     "data": {
      "text/plain": [
       "a    1\n",
       "b    a\n",
       "c    5\n",
       "d    2\n",
       "e    7\n",
       "dtype: object"
      ]
     },
     "execution_count": 37,
     "metadata": {},
     "output_type": "execute_result"
    }
   ],
   "source": [
    "s2"
   ]
  },
  {
   "cell_type": "markdown",
   "id": "f4fa9913",
   "metadata": {},
   "source": [
    "#### 通过python创建Series"
   ]
  },
  {
   "cell_type": "code",
   "execution_count": 40,
   "id": "57075d45",
   "metadata": {},
   "outputs": [],
   "source": [
    "sdata={\"Ohio\":1000,\"tezts\":2000,\"rOrengon\":3000}\n",
    "s3=pd.Series(sdata)"
   ]
  },
  {
   "cell_type": "code",
   "execution_count": 41,
   "id": "26db3da9",
   "metadata": {},
   "outputs": [
    {
     "data": {
      "text/plain": [
       "Ohio        1000\n",
       "tezts       2000\n",
       "rOrengon    3000\n",
       "dtype: int64"
      ]
     },
     "execution_count": 41,
     "metadata": {},
     "output_type": "execute_result"
    }
   ],
   "source": [
    "s3"
   ]
  },
  {
   "cell_type": "code",
   "execution_count": 42,
   "id": "7d908563",
   "metadata": {},
   "outputs": [
    {
     "data": {
      "text/plain": [
       "1000"
      ]
     },
     "execution_count": 42,
     "metadata": {},
     "output_type": "execute_result"
    }
   ],
   "source": [
    "# 获取索引的数据\n",
    "s3[\"Ohio\"]"
   ]
  },
  {
   "cell_type": "code",
   "execution_count": 46,
   "id": "8845311c",
   "metadata": {},
   "outputs": [
    {
     "data": {
      "text/plain": [
       "Ohio     1000\n",
       "tezts    2000\n",
       "dtype: int64"
      ]
     },
     "execution_count": 46,
     "metadata": {},
     "output_type": "execute_result"
    }
   ],
   "source": [
    "# 获取多个索引的值\n",
    "s3[[\"Ohio\", \"tezts\"]]"
   ]
  },
  {
   "cell_type": "markdown",
   "id": "5ab14479",
   "metadata": {},
   "source": [
    "#### DataFrame"
   ]
  },
  {
   "cell_type": "code",
   "execution_count": 50,
   "id": "9347c5db",
   "metadata": {},
   "outputs": [],
   "source": [
    "data={\n",
    "    \"state\": [\"Ohi\",\"Bjs\",\"Chi\"],\n",
    "    \"year\":[2020,2001,2031],\n",
    "    \"pop\":[1,2,3]\n",
    "}\n",
    "df=pd.DataFrame(data)"
   ]
  },
  {
   "cell_type": "code",
   "execution_count": 51,
   "id": "16631059",
   "metadata": {},
   "outputs": [
    {
     "data": {
      "text/html": [
       "<div>\n",
       "<style scoped>\n",
       "    .dataframe tbody tr th:only-of-type {\n",
       "        vertical-align: middle;\n",
       "    }\n",
       "\n",
       "    .dataframe tbody tr th {\n",
       "        vertical-align: top;\n",
       "    }\n",
       "\n",
       "    .dataframe thead th {\n",
       "        text-align: right;\n",
       "    }\n",
       "</style>\n",
       "<table border=\"1\" class=\"dataframe\">\n",
       "  <thead>\n",
       "    <tr style=\"text-align: right;\">\n",
       "      <th></th>\n",
       "      <th>state</th>\n",
       "      <th>year</th>\n",
       "      <th>pop</th>\n",
       "    </tr>\n",
       "  </thead>\n",
       "  <tbody>\n",
       "    <tr>\n",
       "      <th>0</th>\n",
       "      <td>Ohi</td>\n",
       "      <td>2020</td>\n",
       "      <td>1</td>\n",
       "    </tr>\n",
       "    <tr>\n",
       "      <th>1</th>\n",
       "      <td>Bjs</td>\n",
       "      <td>2001</td>\n",
       "      <td>2</td>\n",
       "    </tr>\n",
       "    <tr>\n",
       "      <th>2</th>\n",
       "      <td>Chi</td>\n",
       "      <td>2031</td>\n",
       "      <td>3</td>\n",
       "    </tr>\n",
       "  </tbody>\n",
       "</table>\n",
       "</div>"
      ],
      "text/plain": [
       "  state  year  pop\n",
       "0   Ohi  2020    1\n",
       "1   Bjs  2001    2\n",
       "2   Chi  2031    3"
      ]
     },
     "execution_count": 51,
     "metadata": {},
     "output_type": "execute_result"
    }
   ],
   "source": [
    "df"
   ]
  },
  {
   "cell_type": "code",
   "execution_count": 52,
   "id": "dca3b85c",
   "metadata": {},
   "outputs": [
    {
     "data": {
      "text/plain": [
       "state    object\n",
       "year      int64\n",
       "pop       int64\n",
       "dtype: object"
      ]
     },
     "execution_count": 52,
     "metadata": {},
     "output_type": "execute_result"
    }
   ],
   "source": [
    "df.dtypes"
   ]
  },
  {
   "cell_type": "code",
   "execution_count": 53,
   "id": "ba5c2036",
   "metadata": {},
   "outputs": [
    {
     "data": {
      "text/plain": [
       "Index(['state', 'year', 'pop'], dtype='object')"
      ]
     },
     "execution_count": 53,
     "metadata": {},
     "output_type": "execute_result"
    }
   ],
   "source": [
    "df.columns"
   ]
  },
  {
   "cell_type": "code",
   "execution_count": 54,
   "id": "34dcb8ca",
   "metadata": {},
   "outputs": [
    {
     "data": {
      "text/plain": [
       "RangeIndex(start=0, stop=3, step=1)"
      ]
     },
     "execution_count": 54,
     "metadata": {},
     "output_type": "execute_result"
    }
   ],
   "source": [
    "df.index"
   ]
  },
  {
   "cell_type": "markdown",
   "id": "3321daaf",
   "metadata": {},
   "source": [
    "#### DataFrame 和 Series 的交互\n",
    "- 如果查询的事一行、一列，查询出来的是pd.Series\n",
    "- 如果查询的事多行、多列，查询出来的是pd.DataFrame\n",
    "\n",
    "查询列直接用[]来获取, 查询行使用.loc[] 来获取"
   ]
  },
  {
   "cell_type": "code",
   "execution_count": 55,
   "id": "7711c7d5",
   "metadata": {},
   "outputs": [
    {
     "data": {
      "text/plain": [
       "0    2020\n",
       "1    2001\n",
       "2    2031\n",
       "Name: year, dtype: int64"
      ]
     },
     "execution_count": 55,
     "metadata": {},
     "output_type": "execute_result"
    }
   ],
   "source": [
    "df[\"year\"]"
   ]
  },
  {
   "cell_type": "code",
   "execution_count": 56,
   "id": "2b0b736b",
   "metadata": {},
   "outputs": [
    {
     "data": {
      "text/plain": [
       "pandas.core.series.Series"
      ]
     },
     "execution_count": 56,
     "metadata": {},
     "output_type": "execute_result"
    }
   ],
   "source": [
    "type(df[\"year\"])"
   ]
  },
  {
   "cell_type": "code",
   "execution_count": 60,
   "id": "e37ae51b",
   "metadata": {},
   "outputs": [
    {
     "data": {
      "text/html": [
       "<div>\n",
       "<style scoped>\n",
       "    .dataframe tbody tr th:only-of-type {\n",
       "        vertical-align: middle;\n",
       "    }\n",
       "\n",
       "    .dataframe tbody tr th {\n",
       "        vertical-align: top;\n",
       "    }\n",
       "\n",
       "    .dataframe thead th {\n",
       "        text-align: right;\n",
       "    }\n",
       "</style>\n",
       "<table border=\"1\" class=\"dataframe\">\n",
       "  <thead>\n",
       "    <tr style=\"text-align: right;\">\n",
       "      <th></th>\n",
       "      <th>year</th>\n",
       "      <th>pop</th>\n",
       "    </tr>\n",
       "  </thead>\n",
       "  <tbody>\n",
       "    <tr>\n",
       "      <th>0</th>\n",
       "      <td>2020</td>\n",
       "      <td>1</td>\n",
       "    </tr>\n",
       "    <tr>\n",
       "      <th>1</th>\n",
       "      <td>2001</td>\n",
       "      <td>2</td>\n",
       "    </tr>\n",
       "    <tr>\n",
       "      <th>2</th>\n",
       "      <td>2031</td>\n",
       "      <td>3</td>\n",
       "    </tr>\n",
       "  </tbody>\n",
       "</table>\n",
       "</div>"
      ],
      "text/plain": [
       "   year  pop\n",
       "0  2020    1\n",
       "1  2001    2\n",
       "2  2031    3"
      ]
     },
     "execution_count": 60,
     "metadata": {},
     "output_type": "execute_result"
    }
   ],
   "source": [
    "df[[\"year\",\"pop\"]]"
   ]
  },
  {
   "cell_type": "code",
   "execution_count": 61,
   "id": "3bc29ff4",
   "metadata": {},
   "outputs": [
    {
     "data": {
      "text/plain": [
       "pandas.core.frame.DataFrame"
      ]
     },
     "execution_count": 61,
     "metadata": {},
     "output_type": "execute_result"
    }
   ],
   "source": [
    "type(df[[\"year\",\"pop\"]])"
   ]
  },
  {
   "cell_type": "code",
   "execution_count": 63,
   "id": "a9411c29",
   "metadata": {},
   "outputs": [
    {
     "data": {
      "text/plain": [
       "state     Ohi\n",
       "year     2020\n",
       "pop         1\n",
       "Name: 0, dtype: object"
      ]
     },
     "execution_count": 63,
     "metadata": {},
     "output_type": "execute_result"
    }
   ],
   "source": [
    "# 查询行\n",
    "df.loc[0]"
   ]
  },
  {
   "cell_type": "code",
   "execution_count": 65,
   "id": "b89094d7",
   "metadata": {},
   "outputs": [
    {
     "data": {
      "text/html": [
       "<div>\n",
       "<style scoped>\n",
       "    .dataframe tbody tr th:only-of-type {\n",
       "        vertical-align: middle;\n",
       "    }\n",
       "\n",
       "    .dataframe tbody tr th {\n",
       "        vertical-align: top;\n",
       "    }\n",
       "\n",
       "    .dataframe thead th {\n",
       "        text-align: right;\n",
       "    }\n",
       "</style>\n",
       "<table border=\"1\" class=\"dataframe\">\n",
       "  <thead>\n",
       "    <tr style=\"text-align: right;\">\n",
       "      <th></th>\n",
       "      <th>state</th>\n",
       "      <th>year</th>\n",
       "      <th>pop</th>\n",
       "    </tr>\n",
       "  </thead>\n",
       "  <tbody>\n",
       "    <tr>\n",
       "      <th>0</th>\n",
       "      <td>Ohi</td>\n",
       "      <td>2020</td>\n",
       "      <td>1</td>\n",
       "    </tr>\n",
       "    <tr>\n",
       "      <th>1</th>\n",
       "      <td>Bjs</td>\n",
       "      <td>2001</td>\n",
       "      <td>2</td>\n",
       "    </tr>\n",
       "    <tr>\n",
       "      <th>2</th>\n",
       "      <td>Chi</td>\n",
       "      <td>2031</td>\n",
       "      <td>3</td>\n",
       "    </tr>\n",
       "  </tbody>\n",
       "</table>\n",
       "</div>"
      ],
      "text/plain": [
       "  state  year  pop\n",
       "0   Ohi  2020    1\n",
       "1   Bjs  2001    2\n",
       "2   Chi  2031    3"
      ]
     },
     "execution_count": 65,
     "metadata": {},
     "output_type": "execute_result"
    }
   ],
   "source": [
    "# 查询多行， 注意，此处包含了末尾元素\n",
    "df.loc[0:2]"
   ]
  },
  {
   "cell_type": "markdown",
   "id": "62a4c0ef",
   "metadata": {},
   "source": [
    "### Pandas查询数据的方法\n",
    "1. df.loc方法\n",
    "2. df.iloc方法\n",
    "3. df.where方法\n",
    "4. df.query方法"
   ]
  },
  {
   "cell_type": "code",
   "execution_count": 144,
   "id": "24325542",
   "metadata": {},
   "outputs": [],
   "source": [
    "df = pd.read_csv(\"./data/beijing_weather.csv\")"
   ]
  },
  {
   "cell_type": "code",
   "execution_count": 145,
   "id": "0004be3a",
   "metadata": {},
   "outputs": [
    {
     "data": {
      "text/html": [
       "<div>\n",
       "<style scoped>\n",
       "    .dataframe tbody tr th:only-of-type {\n",
       "        vertical-align: middle;\n",
       "    }\n",
       "\n",
       "    .dataframe tbody tr th {\n",
       "        vertical-align: top;\n",
       "    }\n",
       "\n",
       "    .dataframe thead th {\n",
       "        text-align: right;\n",
       "    }\n",
       "</style>\n",
       "<table border=\"1\" class=\"dataframe\">\n",
       "  <thead>\n",
       "    <tr style=\"text-align: right;\">\n",
       "      <th></th>\n",
       "      <th>城市</th>\n",
       "      <th>时间</th>\n",
       "      <th>天气</th>\n",
       "      <th>温度</th>\n",
       "      <th>风向</th>\n",
       "    </tr>\n",
       "  </thead>\n",
       "  <tbody>\n",
       "    <tr>\n",
       "      <th>0</th>\n",
       "      <td>北京</td>\n",
       "      <td>2018/6/30</td>\n",
       "      <td>雷阵雨转多云</td>\n",
       "      <td>37℃～23℃</td>\n",
       "      <td>西南风转东南风 &lt;3级</td>\n",
       "    </tr>\n",
       "    <tr>\n",
       "      <th>1</th>\n",
       "      <td>北京</td>\n",
       "      <td>2018/6/29</td>\n",
       "      <td>多云</td>\n",
       "      <td>39℃～25℃</td>\n",
       "      <td>西南风转南风 3-4级转3-4级</td>\n",
       "    </tr>\n",
       "    <tr>\n",
       "      <th>2</th>\n",
       "      <td>北京</td>\n",
       "      <td>2018/6/28</td>\n",
       "      <td>晴</td>\n",
       "      <td>35℃～24℃</td>\n",
       "      <td>北风转西南风 3-4级转3-4级</td>\n",
       "    </tr>\n",
       "    <tr>\n",
       "      <th>3</th>\n",
       "      <td>北京</td>\n",
       "      <td>2018/6/27</td>\n",
       "      <td>多云转晴</td>\n",
       "      <td>38℃～25℃</td>\n",
       "      <td>西北风转微风 3-4级转3-4级</td>\n",
       "    </tr>\n",
       "    <tr>\n",
       "      <th>4</th>\n",
       "      <td>北京</td>\n",
       "      <td>2018/6/26</td>\n",
       "      <td>晴</td>\n",
       "      <td>36℃～25℃</td>\n",
       "      <td>西南风转南风 3-4级转3-4级</td>\n",
       "    </tr>\n",
       "  </tbody>\n",
       "</table>\n",
       "</div>"
      ],
      "text/plain": [
       "   城市         时间      天气       温度                风向\n",
       "0  北京  2018/6/30  雷阵雨转多云  37℃～23℃       西南风转东南风 <3级\n",
       "1  北京  2018/6/29      多云  39℃～25℃  西南风转南风 3-4级转3-4级\n",
       "2  北京  2018/6/28       晴  35℃～24℃  北风转西南风 3-4级转3-4级\n",
       "3  北京  2018/6/27    多云转晴  38℃～25℃  西北风转微风 3-4级转3-4级\n",
       "4  北京  2018/6/26       晴  36℃～25℃  西南风转南风 3-4级转3-4级"
      ]
     },
     "execution_count": 145,
     "metadata": {},
     "output_type": "execute_result"
    }
   ],
   "source": [
    "df.head()"
   ]
  },
  {
   "cell_type": "code",
   "execution_count": 151,
   "id": "56b19473",
   "metadata": {},
   "outputs": [],
   "source": [
    "# 设置索引为日期\n",
    "df.set_index(\"时间\", inplace=True)"
   ]
  },
  {
   "cell_type": "code",
   "execution_count": 146,
   "id": "02a16c1a",
   "metadata": {},
   "outputs": [
    {
     "data": {
      "text/html": [
       "<div>\n",
       "<style scoped>\n",
       "    .dataframe tbody tr th:only-of-type {\n",
       "        vertical-align: middle;\n",
       "    }\n",
       "\n",
       "    .dataframe tbody tr th {\n",
       "        vertical-align: top;\n",
       "    }\n",
       "\n",
       "    .dataframe thead th {\n",
       "        text-align: right;\n",
       "    }\n",
       "</style>\n",
       "<table border=\"1\" class=\"dataframe\">\n",
       "  <thead>\n",
       "    <tr style=\"text-align: right;\">\n",
       "      <th></th>\n",
       "      <th>城市</th>\n",
       "      <th>时间</th>\n",
       "      <th>天气</th>\n",
       "      <th>温度</th>\n",
       "      <th>风向</th>\n",
       "    </tr>\n",
       "  </thead>\n",
       "  <tbody>\n",
       "    <tr>\n",
       "      <th>0</th>\n",
       "      <td>北京</td>\n",
       "      <td>2018/6/30</td>\n",
       "      <td>雷阵雨转多云</td>\n",
       "      <td>37℃～23℃</td>\n",
       "      <td>西南风转东南风 &lt;3级</td>\n",
       "    </tr>\n",
       "    <tr>\n",
       "      <th>1</th>\n",
       "      <td>北京</td>\n",
       "      <td>2018/6/29</td>\n",
       "      <td>多云</td>\n",
       "      <td>39℃～25℃</td>\n",
       "      <td>西南风转南风 3-4级转3-4级</td>\n",
       "    </tr>\n",
       "    <tr>\n",
       "      <th>2</th>\n",
       "      <td>北京</td>\n",
       "      <td>2018/6/28</td>\n",
       "      <td>晴</td>\n",
       "      <td>35℃～24℃</td>\n",
       "      <td>北风转西南风 3-4级转3-4级</td>\n",
       "    </tr>\n",
       "    <tr>\n",
       "      <th>3</th>\n",
       "      <td>北京</td>\n",
       "      <td>2018/6/27</td>\n",
       "      <td>多云转晴</td>\n",
       "      <td>38℃～25℃</td>\n",
       "      <td>西北风转微风 3-4级转3-4级</td>\n",
       "    </tr>\n",
       "    <tr>\n",
       "      <th>4</th>\n",
       "      <td>北京</td>\n",
       "      <td>2018/6/26</td>\n",
       "      <td>晴</td>\n",
       "      <td>36℃～25℃</td>\n",
       "      <td>西南风转南风 3-4级转3-4级</td>\n",
       "    </tr>\n",
       "  </tbody>\n",
       "</table>\n",
       "</div>"
      ],
      "text/plain": [
       "   城市         时间      天气       温度                风向\n",
       "0  北京  2018/6/30  雷阵雨转多云  37℃～23℃       西南风转东南风 <3级\n",
       "1  北京  2018/6/29      多云  39℃～25℃  西南风转南风 3-4级转3-4级\n",
       "2  北京  2018/6/28       晴  35℃～24℃  北风转西南风 3-4级转3-4级\n",
       "3  北京  2018/6/27    多云转晴  38℃～25℃  西北风转微风 3-4级转3-4级\n",
       "4  北京  2018/6/26       晴  36℃～25℃  西南风转南风 3-4级转3-4级"
      ]
     },
     "execution_count": 146,
     "metadata": {},
     "output_type": "execute_result"
    }
   ],
   "source": [
    "df.head()"
   ]
  },
  {
   "cell_type": "code",
   "execution_count": 147,
   "id": "99446ef1",
   "metadata": {},
   "outputs": [],
   "source": [
    "# 将温度这一列中的摄氏度删除\n",
    "df.loc[:,\"温度\"]=df[\"温度\"].str.replace(\"℃\",\"\")"
   ]
  },
  {
   "cell_type": "code",
   "execution_count": 148,
   "id": "d8a355bd",
   "metadata": {},
   "outputs": [
    {
     "data": {
      "text/html": [
       "<div>\n",
       "<style scoped>\n",
       "    .dataframe tbody tr th:only-of-type {\n",
       "        vertical-align: middle;\n",
       "    }\n",
       "\n",
       "    .dataframe tbody tr th {\n",
       "        vertical-align: top;\n",
       "    }\n",
       "\n",
       "    .dataframe thead th {\n",
       "        text-align: right;\n",
       "    }\n",
       "</style>\n",
       "<table border=\"1\" class=\"dataframe\">\n",
       "  <thead>\n",
       "    <tr style=\"text-align: right;\">\n",
       "      <th></th>\n",
       "      <th>城市</th>\n",
       "      <th>时间</th>\n",
       "      <th>天气</th>\n",
       "      <th>温度</th>\n",
       "      <th>风向</th>\n",
       "    </tr>\n",
       "  </thead>\n",
       "  <tbody>\n",
       "    <tr>\n",
       "      <th>0</th>\n",
       "      <td>北京</td>\n",
       "      <td>2018/6/30</td>\n",
       "      <td>雷阵雨转多云</td>\n",
       "      <td>37～23</td>\n",
       "      <td>西南风转东南风 &lt;3级</td>\n",
       "    </tr>\n",
       "    <tr>\n",
       "      <th>1</th>\n",
       "      <td>北京</td>\n",
       "      <td>2018/6/29</td>\n",
       "      <td>多云</td>\n",
       "      <td>39～25</td>\n",
       "      <td>西南风转南风 3-4级转3-4级</td>\n",
       "    </tr>\n",
       "    <tr>\n",
       "      <th>2</th>\n",
       "      <td>北京</td>\n",
       "      <td>2018/6/28</td>\n",
       "      <td>晴</td>\n",
       "      <td>35～24</td>\n",
       "      <td>北风转西南风 3-4级转3-4级</td>\n",
       "    </tr>\n",
       "    <tr>\n",
       "      <th>3</th>\n",
       "      <td>北京</td>\n",
       "      <td>2018/6/27</td>\n",
       "      <td>多云转晴</td>\n",
       "      <td>38～25</td>\n",
       "      <td>西北风转微风 3-4级转3-4级</td>\n",
       "    </tr>\n",
       "  </tbody>\n",
       "</table>\n",
       "</div>"
      ],
      "text/plain": [
       "   城市         时间      天气     温度                风向\n",
       "0  北京  2018/6/30  雷阵雨转多云  37～23       西南风转东南风 <3级\n",
       "1  北京  2018/6/29      多云  39～25  西南风转南风 3-4级转3-4级\n",
       "2  北京  2018/6/28       晴  35～24  北风转西南风 3-4级转3-4级\n",
       "3  北京  2018/6/27    多云转晴  38～25  西北风转微风 3-4级转3-4级"
      ]
     },
     "execution_count": 148,
     "metadata": {},
     "output_type": "execute_result"
    }
   ],
   "source": [
    "df.head(4)"
   ]
  },
  {
   "cell_type": "markdown",
   "id": "8b5889c1",
   "metadata": {},
   "source": [
    "##### 1. 使用单个label值查询数据\n",
    "\n",
    "对于行或者列，可以传入单个值实现精确匹配"
   ]
  },
  {
   "cell_type": "code",
   "execution_count": 91,
   "id": "752752fe",
   "metadata": {},
   "outputs": [
    {
     "data": {
      "text/plain": [
       "'39～25'"
      ]
     },
     "execution_count": 91,
     "metadata": {},
     "output_type": "execute_result"
    }
   ],
   "source": [
    "df.loc[\"2018/6/29\",\"温度\"]"
   ]
  },
  {
   "cell_type": "code",
   "execution_count": 92,
   "id": "48de806f",
   "metadata": {},
   "outputs": [
    {
     "data": {
      "text/plain": [
       "温度               39～25\n",
       "风向    西南风转南风 3-4级转3-4级\n",
       "Name: 2018/6/29, dtype: object"
      ]
     },
     "execution_count": 92,
     "metadata": {},
     "output_type": "execute_result"
    }
   ],
   "source": [
    "df.loc[\"2018/6/29\",[\"温度\",\"风向\"]]"
   ]
  },
  {
   "cell_type": "markdown",
   "id": "59a648b6",
   "metadata": {},
   "source": [
    "##### 2. 使用列表批量查询"
   ]
  },
  {
   "cell_type": "code",
   "execution_count": 98,
   "id": "27247ffb",
   "metadata": {},
   "outputs": [
    {
     "data": {
      "text/plain": [
       "时间\n",
       "2018/6/29    39～25\n",
       "2018/6/30    37～23\n",
       "Name: 温度, dtype: object"
      ]
     },
     "execution_count": 98,
     "metadata": {},
     "output_type": "execute_result"
    }
   ],
   "source": [
    "df.loc[[\"2018/6/29\",\"2018/6/30\"],\"温度\"]"
   ]
  },
  {
   "cell_type": "markdown",
   "id": "13629bc5",
   "metadata": {},
   "source": [
    "##### 3. 使用区间查询(注意: 这里是包含结束的)"
   ]
  },
  {
   "cell_type": "code",
   "execution_count": 152,
   "id": "9d629622",
   "metadata": {},
   "outputs": [
    {
     "data": {
      "text/plain": [
       "时间\n",
       "2018/6/29    39～25\n",
       "2018/6/28    35～24\n",
       "2018/6/27    38～25\n",
       "2018/6/26    36～25\n",
       "Name: 温度, dtype: object"
      ]
     },
     "execution_count": 152,
     "metadata": {},
     "output_type": "execute_result"
    }
   ],
   "source": [
    "df.loc[\"2018/6/29\":\"2018/6/26\",\"温度\"]"
   ]
  },
  {
   "cell_type": "markdown",
   "id": "5b54fdf3",
   "metadata": {},
   "source": [
    "##### 4. 使用条件表达式查询"
   ]
  },
  {
   "cell_type": "code",
   "execution_count": 153,
   "id": "1925d40d",
   "metadata": {},
   "outputs": [
    {
     "data": {
      "text/html": [
       "<div>\n",
       "<style scoped>\n",
       "    .dataframe tbody tr th:only-of-type {\n",
       "        vertical-align: middle;\n",
       "    }\n",
       "\n",
       "    .dataframe tbody tr th {\n",
       "        vertical-align: top;\n",
       "    }\n",
       "\n",
       "    .dataframe thead th {\n",
       "        text-align: right;\n",
       "    }\n",
       "</style>\n",
       "<table border=\"1\" class=\"dataframe\">\n",
       "  <thead>\n",
       "    <tr style=\"text-align: right;\">\n",
       "      <th></th>\n",
       "      <th>城市</th>\n",
       "      <th>天气</th>\n",
       "      <th>温度</th>\n",
       "      <th>风向</th>\n",
       "    </tr>\n",
       "    <tr>\n",
       "      <th>时间</th>\n",
       "      <th></th>\n",
       "      <th></th>\n",
       "      <th></th>\n",
       "      <th></th>\n",
       "    </tr>\n",
       "  </thead>\n",
       "  <tbody>\n",
       "    <tr>\n",
       "      <th>2018/6/30</th>\n",
       "      <td>北京</td>\n",
       "      <td>雷阵雨转多云</td>\n",
       "      <td>37～23</td>\n",
       "      <td>西南风转东南风 &lt;3级</td>\n",
       "    </tr>\n",
       "    <tr>\n",
       "      <th>2018/6/29</th>\n",
       "      <td>北京</td>\n",
       "      <td>多云</td>\n",
       "      <td>39～25</td>\n",
       "      <td>西南风转南风 3-4级转3-4级</td>\n",
       "    </tr>\n",
       "    <tr>\n",
       "      <th>2018/6/28</th>\n",
       "      <td>北京</td>\n",
       "      <td>晴</td>\n",
       "      <td>35～24</td>\n",
       "      <td>北风转西南风 3-4级转3-4级</td>\n",
       "    </tr>\n",
       "    <tr>\n",
       "      <th>2018/6/9</th>\n",
       "      <td>北京</td>\n",
       "      <td>阴</td>\n",
       "      <td>22～17</td>\n",
       "      <td>西风转东风 3-4级转3-4级</td>\n",
       "    </tr>\n",
       "    <tr>\n",
       "      <th>2018/6/8</th>\n",
       "      <td>北京</td>\n",
       "      <td>阴转小雨</td>\n",
       "      <td>31～20</td>\n",
       "      <td>北风转西南风 3-4级</td>\n",
       "    </tr>\n",
       "    <tr>\n",
       "      <th>2018/6/7</th>\n",
       "      <td>北京</td>\n",
       "      <td>多云</td>\n",
       "      <td>32～20</td>\n",
       "      <td>西风转微风 3-4级转3-4级</td>\n",
       "    </tr>\n",
       "    <tr>\n",
       "      <th>2018/6/6</th>\n",
       "      <td>北京</td>\n",
       "      <td>阴转多云</td>\n",
       "      <td>32～25</td>\n",
       "      <td>东风转东北风 3-4级转3-4级</td>\n",
       "    </tr>\n",
       "    <tr>\n",
       "      <th>2018/6/5</th>\n",
       "      <td>北京</td>\n",
       "      <td>多云</td>\n",
       "      <td>38C～25C</td>\n",
       "      <td>西南风 3-4级转3-4级</td>\n",
       "    </tr>\n",
       "    <tr>\n",
       "      <th>2018/6/4</th>\n",
       "      <td>北京</td>\n",
       "      <td>晴</td>\n",
       "      <td>34C～21C</td>\n",
       "      <td>南风转西南风 4-5级</td>\n",
       "    </tr>\n",
       "    <tr>\n",
       "      <th>2018/6/3</th>\n",
       "      <td>北京</td>\n",
       "      <td>阴转多云</td>\n",
       "      <td>30C～18C</td>\n",
       "      <td>南风转西风 3-4级转3-4级</td>\n",
       "    </tr>\n",
       "  </tbody>\n",
       "</table>\n",
       "</div>"
      ],
      "text/plain": [
       "           城市      天气       温度                风向\n",
       "时间                                              \n",
       "2018/6/30  北京  雷阵雨转多云    37～23       西南风转东南风 <3级\n",
       "2018/6/29  北京      多云    39～25  西南风转南风 3-4级转3-4级\n",
       "2018/6/28  北京       晴    35～24  北风转西南风 3-4级转3-4级\n",
       "2018/6/9   北京       阴    22～17   西风转东风 3-4级转3-4级\n",
       "2018/6/8   北京    阴转小雨    31～20       北风转西南风 3-4级\n",
       "2018/6/7   北京      多云    32～20   西风转微风 3-4级转3-4级\n",
       "2018/6/6   北京    阴转多云    32～25  东风转东北风 3-4级转3-4级\n",
       "2018/6/5   北京      多云  38C～25C     西南风 3-4级转3-4级\n",
       "2018/6/4   北京       晴  34C～21C       南风转西南风 4-5级\n",
       "2018/6/3   北京    阴转多云  30C～18C   南风转西风 3-4级转3-4级"
      ]
     },
     "execution_count": 153,
     "metadata": {},
     "output_type": "execute_result"
    }
   ],
   "source": [
    "df.loc[df.index >\"2018/6/27\",:]\n"
   ]
  },
  {
   "cell_type": "code",
   "execution_count": 154,
   "id": "c99938f6",
   "metadata": {},
   "outputs": [
    {
     "data": {
      "text/html": [
       "<div>\n",
       "<style scoped>\n",
       "    .dataframe tbody tr th:only-of-type {\n",
       "        vertical-align: middle;\n",
       "    }\n",
       "\n",
       "    .dataframe tbody tr th {\n",
       "        vertical-align: top;\n",
       "    }\n",
       "\n",
       "    .dataframe thead th {\n",
       "        text-align: right;\n",
       "    }\n",
       "</style>\n",
       "<table border=\"1\" class=\"dataframe\">\n",
       "  <thead>\n",
       "    <tr style=\"text-align: right;\">\n",
       "      <th></th>\n",
       "      <th>城市</th>\n",
       "      <th>天气</th>\n",
       "      <th>温度</th>\n",
       "      <th>风向</th>\n",
       "    </tr>\n",
       "    <tr>\n",
       "      <th>时间</th>\n",
       "      <th></th>\n",
       "      <th></th>\n",
       "      <th></th>\n",
       "      <th></th>\n",
       "    </tr>\n",
       "  </thead>\n",
       "  <tbody>\n",
       "    <tr>\n",
       "      <th>2018/6/28</th>\n",
       "      <td>北京</td>\n",
       "      <td>晴</td>\n",
       "      <td>35～24</td>\n",
       "      <td>北风转西南风 3-4级转3-4级</td>\n",
       "    </tr>\n",
       "    <tr>\n",
       "      <th>2018/6/26</th>\n",
       "      <td>北京</td>\n",
       "      <td>晴</td>\n",
       "      <td>36～25</td>\n",
       "      <td>西南风转南风 3-4级转3-4级</td>\n",
       "    </tr>\n",
       "    <tr>\n",
       "      <th>2018/6/23</th>\n",
       "      <td>北京</td>\n",
       "      <td>晴</td>\n",
       "      <td>35～25</td>\n",
       "      <td>南风转西南风 3-4级转3-4级</td>\n",
       "    </tr>\n",
       "    <tr>\n",
       "      <th>2018/6/20</th>\n",
       "      <td>北京</td>\n",
       "      <td>晴</td>\n",
       "      <td>36～21</td>\n",
       "      <td>西风转南风 3-4级转3-4级</td>\n",
       "    </tr>\n",
       "    <tr>\n",
       "      <th>2018/6/4</th>\n",
       "      <td>北京</td>\n",
       "      <td>晴</td>\n",
       "      <td>34C～21C</td>\n",
       "      <td>南风转西南风 4-5级</td>\n",
       "    </tr>\n",
       "    <tr>\n",
       "      <th>2018/6/1</th>\n",
       "      <td>北京</td>\n",
       "      <td>晴</td>\n",
       "      <td>35C～21C</td>\n",
       "      <td>西南风 3-4级转3-4级</td>\n",
       "    </tr>\n",
       "  </tbody>\n",
       "</table>\n",
       "</div>"
      ],
      "text/plain": [
       "           城市 天气       温度                风向\n",
       "时间                                         \n",
       "2018/6/28  北京  晴    35～24  北风转西南风 3-4级转3-4级\n",
       "2018/6/26  北京  晴    36～25  西南风转南风 3-4级转3-4级\n",
       "2018/6/23  北京  晴    35～25  南风转西南风 3-4级转3-4级\n",
       "2018/6/20  北京  晴    36～21   西风转南风 3-4级转3-4级\n",
       "2018/6/4   北京  晴  34C～21C       南风转西南风 4-5级\n",
       "2018/6/1   北京  晴  35C～21C     西南风 3-4级转3-4级"
      ]
     },
     "execution_count": 154,
     "metadata": {},
     "output_type": "execute_result"
    }
   ],
   "source": [
    "df.loc[df[\"天气\"] == \"晴\",:]"
   ]
  },
  {
   "cell_type": "markdown",
   "id": "4e9af78c",
   "metadata": {},
   "source": [
    "##### 5. 使用函数查询"
   ]
  },
  {
   "cell_type": "code",
   "execution_count": 161,
   "id": "48b255bf",
   "metadata": {},
   "outputs": [
    {
     "data": {
      "text/html": [
       "<div>\n",
       "<style scoped>\n",
       "    .dataframe tbody tr th:only-of-type {\n",
       "        vertical-align: middle;\n",
       "    }\n",
       "\n",
       "    .dataframe tbody tr th {\n",
       "        vertical-align: top;\n",
       "    }\n",
       "\n",
       "    .dataframe thead th {\n",
       "        text-align: right;\n",
       "    }\n",
       "</style>\n",
       "<table border=\"1\" class=\"dataframe\">\n",
       "  <thead>\n",
       "    <tr style=\"text-align: right;\">\n",
       "      <th></th>\n",
       "      <th>城市</th>\n",
       "      <th>天气</th>\n",
       "      <th>温度</th>\n",
       "      <th>风向</th>\n",
       "    </tr>\n",
       "    <tr>\n",
       "      <th>时间</th>\n",
       "      <th></th>\n",
       "      <th></th>\n",
       "      <th></th>\n",
       "      <th></th>\n",
       "    </tr>\n",
       "  </thead>\n",
       "  <tbody>\n",
       "    <tr>\n",
       "      <th>2018/6/28</th>\n",
       "      <td>北京</td>\n",
       "      <td>晴</td>\n",
       "      <td>35～24</td>\n",
       "      <td>北风转西南风 3-4级转3-4级</td>\n",
       "    </tr>\n",
       "    <tr>\n",
       "      <th>2018/6/26</th>\n",
       "      <td>北京</td>\n",
       "      <td>晴</td>\n",
       "      <td>36～25</td>\n",
       "      <td>西南风转南风 3-4级转3-4级</td>\n",
       "    </tr>\n",
       "    <tr>\n",
       "      <th>2018/6/23</th>\n",
       "      <td>北京</td>\n",
       "      <td>晴</td>\n",
       "      <td>35～25</td>\n",
       "      <td>南风转西南风 3-4级转3-4级</td>\n",
       "    </tr>\n",
       "    <tr>\n",
       "      <th>2018/6/20</th>\n",
       "      <td>北京</td>\n",
       "      <td>晴</td>\n",
       "      <td>36～21</td>\n",
       "      <td>西风转南风 3-4级转3-4级</td>\n",
       "    </tr>\n",
       "    <tr>\n",
       "      <th>2018/6/4</th>\n",
       "      <td>北京</td>\n",
       "      <td>晴</td>\n",
       "      <td>34C～21C</td>\n",
       "      <td>南风转西南风 4-5级</td>\n",
       "    </tr>\n",
       "    <tr>\n",
       "      <th>2018/6/1</th>\n",
       "      <td>北京</td>\n",
       "      <td>晴</td>\n",
       "      <td>35C～21C</td>\n",
       "      <td>西南风 3-4级转3-4级</td>\n",
       "    </tr>\n",
       "  </tbody>\n",
       "</table>\n",
       "</div>"
      ],
      "text/plain": [
       "           城市 天气       温度                风向\n",
       "时间                                         \n",
       "2018/6/28  北京  晴    35～24  北风转西南风 3-4级转3-4级\n",
       "2018/6/26  北京  晴    36～25  西南风转南风 3-4级转3-4级\n",
       "2018/6/23  北京  晴    35～25  南风转西南风 3-4级转3-4级\n",
       "2018/6/20  北京  晴    36～21   西风转南风 3-4级转3-4级\n",
       "2018/6/4   北京  晴  34C～21C       南风转西南风 4-5级\n",
       "2018/6/1   北京  晴  35C～21C     西南风 3-4级转3-4级"
      ]
     },
     "execution_count": 161,
     "metadata": {},
     "output_type": "execute_result"
    }
   ],
   "source": [
    "def query_sunday(df):\n",
    "    return df[\"天气\"] == \"晴\"\n",
    "df.loc[query_sunday, :]"
   ]
  },
  {
   "cell_type": "markdown",
   "id": "1831b969",
   "metadata": {},
   "source": [
    "### pandas新增列\n",
    "1. 直接复制\n",
    "2. df.apply\n",
    "3. df.assign()\n",
    "4. 按条件分组分别复制"
   ]
  },
  {
   "cell_type": "code",
   "execution_count": 1,
   "id": "fe3ce97d",
   "metadata": {},
   "outputs": [],
   "source": [
    "import pandas as pd"
   ]
  },
  {
   "cell_type": "code",
   "execution_count": 2,
   "id": "062558a0",
   "metadata": {},
   "outputs": [],
   "source": [
    "df=pd.read_csv(\"./data/beijing_weather.csv\")"
   ]
  },
  {
   "cell_type": "code",
   "execution_count": 5,
   "id": "8718c17e",
   "metadata": {},
   "outputs": [
    {
     "data": {
      "text/html": [
       "<div>\n",
       "<style scoped>\n",
       "    .dataframe tbody tr th:only-of-type {\n",
       "        vertical-align: middle;\n",
       "    }\n",
       "\n",
       "    .dataframe tbody tr th {\n",
       "        vertical-align: top;\n",
       "    }\n",
       "\n",
       "    .dataframe thead th {\n",
       "        text-align: right;\n",
       "    }\n",
       "</style>\n",
       "<table border=\"1\" class=\"dataframe\">\n",
       "  <thead>\n",
       "    <tr style=\"text-align: right;\">\n",
       "      <th></th>\n",
       "      <th>城市</th>\n",
       "      <th>时间</th>\n",
       "      <th>天气</th>\n",
       "      <th>温度</th>\n",
       "      <th>风向</th>\n",
       "    </tr>\n",
       "  </thead>\n",
       "  <tbody>\n",
       "    <tr>\n",
       "      <th>0</th>\n",
       "      <td>北京</td>\n",
       "      <td>2018/6/30</td>\n",
       "      <td>雷阵雨转多云</td>\n",
       "      <td>37℃～23℃</td>\n",
       "      <td>西南风转东南风 &lt;3级</td>\n",
       "    </tr>\n",
       "    <tr>\n",
       "      <th>1</th>\n",
       "      <td>北京</td>\n",
       "      <td>2018/6/29</td>\n",
       "      <td>多云</td>\n",
       "      <td>39℃～25℃</td>\n",
       "      <td>西南风转南风 3-4级转3-4级</td>\n",
       "    </tr>\n",
       "  </tbody>\n",
       "</table>\n",
       "</div>"
      ],
      "text/plain": [
       "   城市         时间      天气       温度                风向\n",
       "0  北京  2018/6/30  雷阵雨转多云  37℃～23℃       西南风转东南风 <3级\n",
       "1  北京  2018/6/29      多云  39℃～25℃  西南风转南风 3-4级转3-4级"
      ]
     },
     "execution_count": 5,
     "metadata": {},
     "output_type": "execute_result"
    }
   ],
   "source": [
    "df.head(2)"
   ]
  },
  {
   "cell_type": "code",
   "execution_count": 6,
   "id": "a5d9f89b",
   "metadata": {},
   "outputs": [],
   "source": [
    "# 1. 直接赋值\n",
    "df.loc[:,\"好天气\"]=\"是\""
   ]
  },
  {
   "cell_type": "code",
   "execution_count": 7,
   "id": "45fa70eb",
   "metadata": {},
   "outputs": [
    {
     "data": {
      "text/html": [
       "<div>\n",
       "<style scoped>\n",
       "    .dataframe tbody tr th:only-of-type {\n",
       "        vertical-align: middle;\n",
       "    }\n",
       "\n",
       "    .dataframe tbody tr th {\n",
       "        vertical-align: top;\n",
       "    }\n",
       "\n",
       "    .dataframe thead th {\n",
       "        text-align: right;\n",
       "    }\n",
       "</style>\n",
       "<table border=\"1\" class=\"dataframe\">\n",
       "  <thead>\n",
       "    <tr style=\"text-align: right;\">\n",
       "      <th></th>\n",
       "      <th>城市</th>\n",
       "      <th>时间</th>\n",
       "      <th>天气</th>\n",
       "      <th>温度</th>\n",
       "      <th>风向</th>\n",
       "      <th>好天气</th>\n",
       "    </tr>\n",
       "  </thead>\n",
       "  <tbody>\n",
       "    <tr>\n",
       "      <th>0</th>\n",
       "      <td>北京</td>\n",
       "      <td>2018/6/30</td>\n",
       "      <td>雷阵雨转多云</td>\n",
       "      <td>37℃～23℃</td>\n",
       "      <td>西南风转东南风 &lt;3级</td>\n",
       "      <td>是</td>\n",
       "    </tr>\n",
       "    <tr>\n",
       "      <th>1</th>\n",
       "      <td>北京</td>\n",
       "      <td>2018/6/29</td>\n",
       "      <td>多云</td>\n",
       "      <td>39℃～25℃</td>\n",
       "      <td>西南风转南风 3-4级转3-4级</td>\n",
       "      <td>是</td>\n",
       "    </tr>\n",
       "  </tbody>\n",
       "</table>\n",
       "</div>"
      ],
      "text/plain": [
       "   城市         时间      天气       温度                风向 好天气\n",
       "0  北京  2018/6/30  雷阵雨转多云  37℃～23℃       西南风转东南风 <3级   是\n",
       "1  北京  2018/6/29      多云  39℃～25℃  西南风转南风 3-4级转3-4级   是"
      ]
     },
     "execution_count": 7,
     "metadata": {},
     "output_type": "execute_result"
    }
   ],
   "source": [
    "df.head(2)"
   ]
  },
  {
   "cell_type": "code",
   "execution_count": 16,
   "id": "194462bb",
   "metadata": {},
   "outputs": [],
   "source": [
    "# 2. df.apply()\n",
    "def get_weather(df):\n",
    "    if df[\"天气\"] == \"晴\":\n",
    "        return \"是\"\n",
    "    return \"否\"\n",
    "# axis 0: 对每一列数据应用函数, 1: 对每一行数据应用函数\n",
    "df.loc[:,\"是否天晴\"]=df.apply(get_weather,axis=1)"
   ]
  },
  {
   "cell_type": "code",
   "execution_count": 19,
   "id": "009f0a44",
   "metadata": {},
   "outputs": [
    {
     "data": {
      "text/plain": [
       "是否天晴\n",
       "否    24\n",
       "是     6\n",
       "Name: count, dtype: int64"
      ]
     },
     "execution_count": 19,
     "metadata": {},
     "output_type": "execute_result"
    }
   ],
   "source": [
    "# 查看某个字段类型的统计\n",
    "df['是否天晴'].value_counts()"
   ]
  },
  {
   "cell_type": "code",
   "execution_count": 37,
   "id": "0aed5473",
   "metadata": {},
   "outputs": [
    {
     "data": {
      "text/html": [
       "<div>\n",
       "<style scoped>\n",
       "    .dataframe tbody tr th:only-of-type {\n",
       "        vertical-align: middle;\n",
       "    }\n",
       "\n",
       "    .dataframe tbody tr th {\n",
       "        vertical-align: top;\n",
       "    }\n",
       "\n",
       "    .dataframe thead th {\n",
       "        text-align: right;\n",
       "    }\n",
       "</style>\n",
       "<table border=\"1\" class=\"dataframe\">\n",
       "  <thead>\n",
       "    <tr style=\"text-align: right;\">\n",
       "      <th></th>\n",
       "      <th>城市</th>\n",
       "      <th>时间</th>\n",
       "      <th>天气</th>\n",
       "      <th>温度</th>\n",
       "      <th>风向</th>\n",
       "      <th>好天气</th>\n",
       "      <th>是否天晴</th>\n",
       "      <th>col2</th>\n",
       "    </tr>\n",
       "  </thead>\n",
       "  <tbody>\n",
       "    <tr>\n",
       "      <th>0</th>\n",
       "      <td>北京</td>\n",
       "      <td>2018/6/30</td>\n",
       "      <td>雷阵雨转多云</td>\n",
       "      <td>37℃～23℃</td>\n",
       "      <td>西南风转东南风 &lt;3级</td>\n",
       "      <td>是</td>\n",
       "      <td>否</td>\n",
       "      <td>列two</td>\n",
       "    </tr>\n",
       "  </tbody>\n",
       "</table>\n",
       "</div>"
      ],
      "text/plain": [
       "   城市         时间      天气       温度           风向 好天气 是否天晴  col2\n",
       "0  北京  2018/6/30  雷阵雨转多云  37℃～23℃  西南风转东南风 <3级   是    否  列two"
      ]
     },
     "execution_count": 37,
     "metadata": {},
     "output_type": "execute_result"
    }
   ],
   "source": [
    "# 3. df.assign(): 同时增加多个列\n",
    "df.assign(\n",
    "    # 注意事项: 此处的col1 不要用引号\n",
    "    col1 = lambda x: \"列1\",\n",
    "    col3 = lambda x: \"列3\",\n",
    ")\n",
    "df.head(1)"
   ]
  },
  {
   "cell_type": "code",
   "execution_count": 34,
   "id": "4ec25f99",
   "metadata": {},
   "outputs": [],
   "source": [
    "# 4. 按照分组: 该方法其实就是直接赋值\n",
    "df[\"col2\"] = \"\"\n",
    "df.loc[df[\"天气\"]==\"晴\",\"col2\"] = \"列2\"\n",
    "df.loc[df[\"天气\"]!=\"晴\",\"col2\"] = \"列two\""
   ]
  },
  {
   "cell_type": "code",
   "execution_count": 36,
   "id": "7bc3cb3d",
   "metadata": {},
   "outputs": [
    {
     "data": {
      "text/html": [
       "<div>\n",
       "<style scoped>\n",
       "    .dataframe tbody tr th:only-of-type {\n",
       "        vertical-align: middle;\n",
       "    }\n",
       "\n",
       "    .dataframe tbody tr th {\n",
       "        vertical-align: top;\n",
       "    }\n",
       "\n",
       "    .dataframe thead th {\n",
       "        text-align: right;\n",
       "    }\n",
       "</style>\n",
       "<table border=\"1\" class=\"dataframe\">\n",
       "  <thead>\n",
       "    <tr style=\"text-align: right;\">\n",
       "      <th></th>\n",
       "      <th>城市</th>\n",
       "      <th>时间</th>\n",
       "      <th>天气</th>\n",
       "      <th>温度</th>\n",
       "      <th>风向</th>\n",
       "      <th>好天气</th>\n",
       "      <th>是否天晴</th>\n",
       "      <th>col2</th>\n",
       "    </tr>\n",
       "  </thead>\n",
       "  <tbody>\n",
       "    <tr>\n",
       "      <th>0</th>\n",
       "      <td>北京</td>\n",
       "      <td>2018/6/30</td>\n",
       "      <td>雷阵雨转多云</td>\n",
       "      <td>37℃～23℃</td>\n",
       "      <td>西南风转东南风 &lt;3级</td>\n",
       "      <td>是</td>\n",
       "      <td>否</td>\n",
       "      <td>列two</td>\n",
       "    </tr>\n",
       "  </tbody>\n",
       "</table>\n",
       "</div>"
      ],
      "text/plain": [
       "   城市         时间      天气       温度           风向 好天气 是否天晴  col2\n",
       "0  北京  2018/6/30  雷阵雨转多云  37℃～23℃  西南风转东南风 <3级   是    否  列two"
      ]
     },
     "execution_count": 36,
     "metadata": {},
     "output_type": "execute_result"
    }
   ],
   "source": [
    "df.head(1)"
   ]
  },
  {
   "cell_type": "code",
   "execution_count": 38,
   "id": "25a14c62",
   "metadata": {},
   "outputs": [
    {
     "data": {
      "text/plain": [
       "col2\n",
       "列two    24\n",
       "列2       6\n",
       "Name: count, dtype: int64"
      ]
     },
     "execution_count": 38,
     "metadata": {},
     "output_type": "execute_result"
    }
   ],
   "source": [
    "df[\"col2\"].value_counts()"
   ]
  },
  {
   "cell_type": "markdown",
   "id": "b6ac2474",
   "metadata": {},
   "source": [
    "### 数据统计函数"
   ]
  },
  {
   "cell_type": "code",
   "execution_count": 109,
   "id": "fa9b6b5c",
   "metadata": {},
   "outputs": [],
   "source": [
    "import pandas as pd\n",
    "df=pd.read_csv('./data/beijing_weather.csv')"
   ]
  },
  {
   "cell_type": "code",
   "execution_count": 110,
   "id": "2a6d5520",
   "metadata": {},
   "outputs": [
    {
     "data": {
      "text/html": [
       "<div>\n",
       "<style scoped>\n",
       "    .dataframe tbody tr th:only-of-type {\n",
       "        vertical-align: middle;\n",
       "    }\n",
       "\n",
       "    .dataframe tbody tr th {\n",
       "        vertical-align: top;\n",
       "    }\n",
       "\n",
       "    .dataframe thead th {\n",
       "        text-align: right;\n",
       "    }\n",
       "</style>\n",
       "<table border=\"1\" class=\"dataframe\">\n",
       "  <thead>\n",
       "    <tr style=\"text-align: right;\">\n",
       "      <th></th>\n",
       "      <th>城市</th>\n",
       "      <th>时间</th>\n",
       "      <th>天气</th>\n",
       "      <th>温度</th>\n",
       "      <th>风向</th>\n",
       "    </tr>\n",
       "  </thead>\n",
       "  <tbody>\n",
       "    <tr>\n",
       "      <th>0</th>\n",
       "      <td>北京</td>\n",
       "      <td>2018/6/30</td>\n",
       "      <td>雷阵雨转多云</td>\n",
       "      <td>37℃～23℃</td>\n",
       "      <td>西南风转东南风 &lt;3级</td>\n",
       "    </tr>\n",
       "  </tbody>\n",
       "</table>\n",
       "</div>"
      ],
      "text/plain": [
       "   城市         时间      天气       温度           风向\n",
       "0  北京  2018/6/30  雷阵雨转多云  37℃～23℃  西南风转东南风 <3级"
      ]
     },
     "execution_count": 110,
     "metadata": {},
     "output_type": "execute_result"
    }
   ],
   "source": [
    "# 数据准备\n",
    "df.head(1)"
   ]
  },
  {
   "cell_type": "code",
   "execution_count": 111,
   "id": "df12448a",
   "metadata": {},
   "outputs": [],
   "source": [
    "# split() 函数的使用\n",
    "df[[\"最高温度\",\"最低温度\"]] = df[\"温度\"].str.split(\"～\",expand=True)\n"
   ]
  },
  {
   "cell_type": "code",
   "execution_count": 112,
   "id": "d5509668",
   "metadata": {},
   "outputs": [],
   "source": [
    "# drop(): 删除某一列, axis: 表示列; inplace = True: 表示是否原地修改\n",
    "df.drop([\"温度\"],axis=1, inplace=True)"
   ]
  },
  {
   "cell_type": "code",
   "execution_count": 113,
   "id": "48edae4e",
   "metadata": {},
   "outputs": [],
   "source": [
    "df[\"最高温度\"]=df[\"最高温度\"].str.replace(\"℃\",\"\")\n",
    "df[\"最高温度\"]=df[\"最高温度\"].str.replace(\"C\",\"\")\n",
    "df[\"最低温度\"]=df[\"最低温度\"].str.replace(\"℃\",\"\")\n",
    "df[\"最低温度\"]=df[\"最低温度\"].str.replace(\"C\",\"\")\n",
    "df[\"最低温度\"] = df[\"最低温度\"].astype('int32')"
   ]
  },
  {
   "cell_type": "code",
   "execution_count": 151,
   "id": "0cfd8671",
   "metadata": {},
   "outputs": [
    {
     "data": {
      "text/html": [
       "<div>\n",
       "<style scoped>\n",
       "    .dataframe tbody tr th:only-of-type {\n",
       "        vertical-align: middle;\n",
       "    }\n",
       "\n",
       "    .dataframe tbody tr th {\n",
       "        vertical-align: top;\n",
       "    }\n",
       "\n",
       "    .dataframe thead th {\n",
       "        text-align: right;\n",
       "    }\n",
       "</style>\n",
       "<table border=\"1\" class=\"dataframe\">\n",
       "  <thead>\n",
       "    <tr style=\"text-align: right;\">\n",
       "      <th></th>\n",
       "      <th>最低温度</th>\n",
       "    </tr>\n",
       "  </thead>\n",
       "  <tbody>\n",
       "    <tr>\n",
       "      <th>count</th>\n",
       "      <td>30.000000</td>\n",
       "    </tr>\n",
       "    <tr>\n",
       "      <th>mean</th>\n",
       "      <td>21.533333</td>\n",
       "    </tr>\n",
       "    <tr>\n",
       "      <th>std</th>\n",
       "      <td>2.687562</td>\n",
       "    </tr>\n",
       "    <tr>\n",
       "      <th>min</th>\n",
       "      <td>17.000000</td>\n",
       "    </tr>\n",
       "    <tr>\n",
       "      <th>25%</th>\n",
       "      <td>20.000000</td>\n",
       "    </tr>\n",
       "    <tr>\n",
       "      <th>50%</th>\n",
       "      <td>21.000000</td>\n",
       "    </tr>\n",
       "    <tr>\n",
       "      <th>75%</th>\n",
       "      <td>24.750000</td>\n",
       "    </tr>\n",
       "    <tr>\n",
       "      <th>max</th>\n",
       "      <td>25.000000</td>\n",
       "    </tr>\n",
       "  </tbody>\n",
       "</table>\n",
       "</div>"
      ],
      "text/plain": [
       "            最低温度\n",
       "count  30.000000\n",
       "mean   21.533333\n",
       "std     2.687562\n",
       "min    17.000000\n",
       "25%    20.000000\n",
       "50%    21.000000\n",
       "75%    24.750000\n",
       "max    25.000000"
      ]
     },
     "execution_count": 151,
     "metadata": {},
     "output_type": "execute_result"
    }
   ],
   "source": [
    "df.describe()"
   ]
  },
  {
   "cell_type": "code",
   "execution_count": 115,
   "id": "039ecc44",
   "metadata": {},
   "outputs": [
    {
     "data": {
      "text/html": [
       "<div>\n",
       "<style scoped>\n",
       "    .dataframe tbody tr th:only-of-type {\n",
       "        vertical-align: middle;\n",
       "    }\n",
       "\n",
       "    .dataframe tbody tr th {\n",
       "        vertical-align: top;\n",
       "    }\n",
       "\n",
       "    .dataframe thead th {\n",
       "        text-align: right;\n",
       "    }\n",
       "</style>\n",
       "<table border=\"1\" class=\"dataframe\">\n",
       "  <thead>\n",
       "    <tr style=\"text-align: right;\">\n",
       "      <th></th>\n",
       "      <th>城市</th>\n",
       "      <th>时间</th>\n",
       "      <th>天气</th>\n",
       "      <th>风向</th>\n",
       "      <th>最高温度</th>\n",
       "      <th>最低温度</th>\n",
       "    </tr>\n",
       "  </thead>\n",
       "  <tbody>\n",
       "    <tr>\n",
       "      <th>0</th>\n",
       "      <td>北京</td>\n",
       "      <td>2018/6/30</td>\n",
       "      <td>雷阵雨转多云</td>\n",
       "      <td>西南风转东南风 &lt;3级</td>\n",
       "      <td>37</td>\n",
       "      <td>23</td>\n",
       "    </tr>\n",
       "  </tbody>\n",
       "</table>\n",
       "</div>"
      ],
      "text/plain": [
       "   城市         时间      天气           风向 最高温度  最低温度\n",
       "0  北京  2018/6/30  雷阵雨转多云  西南风转东南风 <3级   37    23"
      ]
     },
     "execution_count": 115,
     "metadata": {},
     "output_type": "execute_result"
    }
   ],
   "source": [
    "df.head(1)"
   ]
  },
  {
   "cell_type": "markdown",
   "id": "56174afb",
   "metadata": {},
   "source": [
    "#### 唯一去重和按值计算"
   ]
  },
  {
   "cell_type": "code",
   "execution_count": 119,
   "id": "5e5809cb",
   "metadata": {},
   "outputs": [
    {
     "data": {
      "text/plain": [
       "array(['37', '39', '35', '38', '36', '30', '31', '34', '32', '27', '29',\n",
       "       '22', '26', '25'], dtype=object)"
      ]
     },
     "execution_count": 119,
     "metadata": {},
     "output_type": "execute_result"
    }
   ],
   "source": [
    "# 唯一去重\n",
    "df[\"最高温度\"].unique()"
   ]
  },
  {
   "cell_type": "code",
   "execution_count": 136,
   "id": "35b0207b",
   "metadata": {},
   "outputs": [
    {
     "data": {
      "text/plain": [
       "0     23\n",
       "1     25\n",
       "2     24\n",
       "3     25\n",
       "4     25\n",
       "5     25\n",
       "6     25\n",
       "7     25\n",
       "8     22\n",
       "9     23\n",
       "10    21\n",
       "11    20\n",
       "12    21\n",
       "13    22\n",
       "14    21\n",
       "15    20\n",
       "16    19\n",
       "17    18\n",
       "18    18\n",
       "19    19\n",
       "20    17\n",
       "21    17\n",
       "22    20\n",
       "23    20\n",
       "24    25\n",
       "25    25\n",
       "26    21\n",
       "27    18\n",
       "28    21\n",
       "29    21\n",
       "Name: 最低温度, dtype: int32"
      ]
     },
     "execution_count": 136,
     "metadata": {},
     "output_type": "execute_result"
    }
   ],
   "source": [
    "\n",
    "df[\"最低温度\"].astype('int32')"
   ]
  },
  {
   "cell_type": "code",
   "execution_count": 152,
   "id": "1c5a0aa7",
   "metadata": {},
   "outputs": [
    {
     "data": {
      "text/plain": [
       "0     37\n",
       "1     39\n",
       "2     35\n",
       "3     38\n",
       "4     36\n",
       "5     30\n",
       "6     35\n",
       "7     35\n",
       "8     31\n",
       "9     35\n",
       "10    36\n",
       "11    34\n",
       "12    32\n",
       "13    27\n",
       "14    29\n",
       "15    29\n",
       "16    30\n",
       "17    22\n",
       "18    31\n",
       "19    26\n",
       "20    25\n",
       "21    22\n",
       "22    31\n",
       "23    32\n",
       "24    32\n",
       "25    38\n",
       "26    34\n",
       "27    30\n",
       "28    35\n",
       "29    35\n",
       "Name: 最高温度, dtype: int32"
      ]
     },
     "execution_count": 152,
     "metadata": {},
     "output_type": "execute_result"
    }
   ],
   "source": [
    "df[\"最高温度\"].astype('int32')"
   ]
  },
  {
   "cell_type": "code",
   "execution_count": 163,
   "id": "fd54a845",
   "metadata": {},
   "outputs": [
    {
     "data": {
      "text/plain": [
       "array([37, 39, 35, 38, 36, 30, 31, 34, 32, 27, 29, 22, 26, 25],\n",
       "      dtype=int32)"
      ]
     },
     "execution_count": 163,
     "metadata": {},
     "output_type": "execute_result"
    }
   ],
   "source": [
    "# 按值计算\n",
    "df[\"最高温度\"]= df[\"最高温度\"].astype(\"int32\")\n",
    "df[\"最高温度\"].unique()"
   ]
  },
  {
   "cell_type": "markdown",
   "id": "85abd19d",
   "metadata": {},
   "source": [
    "#### 相关系数和协方差"
   ]
  },
  {
   "cell_type": "code",
   "execution_count": 164,
   "id": "be1b69d2",
   "metadata": {},
   "outputs": [
    {
     "data": {
      "text/plain": [
       "8.671264367816091"
      ]
     },
     "execution_count": 164,
     "metadata": {},
     "output_type": "execute_result"
    }
   ],
   "source": [
    "# 协方差矩阵\n",
    "df[\"最高温度\"].cov(df[\"最低温度\"])\n",
    "# df['最高温度'].unique()"
   ]
  },
  {
   "cell_type": "code",
   "execution_count": null,
   "id": "dbd76ed8",
   "metadata": {},
   "outputs": [],
   "source": [
    "# 相关系数矩阵\n",
    "df.corr()"
   ]
  }
 ],
 "metadata": {
  "kernelspec": {
   "display_name": "Python 3 (ipykernel)",
   "language": "python",
   "name": "python3"
  },
  "language_info": {
   "codemirror_mode": {
    "name": "ipython",
    "version": 3
   },
   "file_extension": ".py",
   "mimetype": "text/x-python",
   "name": "python",
   "nbconvert_exporter": "python",
   "pygments_lexer": "ipython3",
   "version": "3.11.5"
  },
  "toc": {
   "base_numbering": 1,
   "nav_menu": {},
   "number_sections": true,
   "sideBar": true,
   "skip_h1_title": false,
   "title_cell": "Table of Contents",
   "title_sidebar": "Contents",
   "toc_cell": false,
   "toc_position": {},
   "toc_section_display": true,
   "toc_window_display": false
  }
 },
 "nbformat": 4,
 "nbformat_minor": 5
}
