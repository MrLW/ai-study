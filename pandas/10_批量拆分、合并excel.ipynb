{
 "cells": [
  {
   "cell_type": "code",
   "execution_count": 54,
   "id": "9cfe60b5",
   "metadata": {},
   "outputs": [],
   "source": [
    "import os\n",
    "work_dir=\"./data/10_split\"\n",
    "split_dir=f\"{work_dir}/splits\"\n",
    "if not os.path.exists(split_dir):\n",
    "    os.makedirs(split_dir)"
   ]
  },
  {
   "cell_type": "code",
   "execution_count": 55,
   "id": "a2da417b",
   "metadata": {},
   "outputs": [],
   "source": [
    "import pandas as pd\n",
    "df=pd.read_csv('./data/10_split/movies.csv')"
   ]
  },
  {
   "cell_type": "code",
   "execution_count": 56,
   "id": "17e44e2f",
   "metadata": {},
   "outputs": [
    {
     "data": {
      "text/html": [
       "<div>\n",
       "<style scoped>\n",
       "    .dataframe tbody tr th:only-of-type {\n",
       "        vertical-align: middle;\n",
       "    }\n",
       "\n",
       "    .dataframe tbody tr th {\n",
       "        vertical-align: top;\n",
       "    }\n",
       "\n",
       "    .dataframe thead th {\n",
       "        text-align: right;\n",
       "    }\n",
       "</style>\n",
       "<table border=\"1\" class=\"dataframe\">\n",
       "  <thead>\n",
       "    <tr style=\"text-align: right;\">\n",
       "      <th></th>\n",
       "      <th>movieId</th>\n",
       "      <th>title</th>\n",
       "      <th>genres</th>\n",
       "    </tr>\n",
       "  </thead>\n",
       "  <tbody>\n",
       "    <tr>\n",
       "      <th>0</th>\n",
       "      <td>1</td>\n",
       "      <td>Toy Story (1995)</td>\n",
       "      <td>Adventure|Animation|Children|Comedy|Fantasy</td>\n",
       "    </tr>\n",
       "    <tr>\n",
       "      <th>1</th>\n",
       "      <td>2</td>\n",
       "      <td>Jumanji (1995)</td>\n",
       "      <td>Adventure|Children|Fantasy</td>\n",
       "    </tr>\n",
       "    <tr>\n",
       "      <th>2</th>\n",
       "      <td>3</td>\n",
       "      <td>Grumpier Old Men (1995)</td>\n",
       "      <td>Comedy|Romance</td>\n",
       "    </tr>\n",
       "    <tr>\n",
       "      <th>3</th>\n",
       "      <td>4</td>\n",
       "      <td>Waiting to Exhale (1995)</td>\n",
       "      <td>Comedy|Drama|Romance</td>\n",
       "    </tr>\n",
       "    <tr>\n",
       "      <th>4</th>\n",
       "      <td>5</td>\n",
       "      <td>Father of the Bride Part II (1995)</td>\n",
       "      <td>Comedy</td>\n",
       "    </tr>\n",
       "  </tbody>\n",
       "</table>\n",
       "</div>"
      ],
      "text/plain": [
       "   movieId  ...                                       genres\n",
       "0        1  ...  Adventure|Animation|Children|Comedy|Fantasy\n",
       "1        2  ...                   Adventure|Children|Fantasy\n",
       "2        3  ...                               Comedy|Romance\n",
       "3        4  ...                         Comedy|Drama|Romance\n",
       "4        5  ...                                       Comedy\n",
       "\n",
       "[5 rows x 3 columns]"
      ]
     },
     "execution_count": 56,
     "metadata": {},
     "output_type": "execute_result"
    }
   ],
   "source": [
    "df.head()"
   ]
  },
  {
   "cell_type": "code",
   "execution_count": 57,
   "id": "6bc23f0c",
   "metadata": {},
   "outputs": [],
   "source": [
    "row_count=df.shape[0]"
   ]
  },
  {
   "cell_type": "code",
   "execution_count": 58,
   "id": "ef72bd9d",
   "metadata": {},
   "outputs": [
    {
     "data": {
      "text/plain": [
       "62423"
      ]
     },
     "execution_count": 58,
     "metadata": {},
     "output_type": "execute_result"
    }
   ],
   "source": [
    "row_count"
   ]
  },
  {
   "cell_type": "markdown",
   "id": "49295a7f",
   "metadata": {},
   "source": [
    "#### 将excel文件拆分成100份小文件"
   ]
  },
  {
   "cell_type": "code",
   "execution_count": 59,
   "id": "a671cbbd",
   "metadata": {},
   "outputs": [],
   "source": [
    "size=row_count // 6\n",
    "usernames=[\"aa\",\"bb\",\"cc\",\"dd\",\"ee\",\"ff\"]\n",
    "if row_count % 6 != 0:\n",
    "    size+=1\n"
   ]
  },
  {
   "cell_type": "code",
   "execution_count": 60,
   "id": "f0309874",
   "metadata": {},
   "outputs": [
    {
     "data": {
      "text/plain": [
       "10404"
      ]
     },
     "execution_count": 60,
     "metadata": {},
     "output_type": "execute_result"
    }
   ],
   "source": [
    "size"
   ]
  },
  {
   "cell_type": "code",
   "execution_count": 61,
   "id": "ed823eff",
   "metadata": {},
   "outputs": [],
   "source": [
    "df_subs=[]\n",
    "for idx,name in enumerate(usernames):\n",
    "    begin=idx*size\n",
    "    end=begin+size\n",
    "    df_sub=df.iloc[begin:end]\n",
    "    df_subs.append((idx,name,df_sub))\n"
   ]
  },
  {
   "cell_type": "code",
   "execution_count": 62,
   "id": "4b74983d",
   "metadata": {},
   "outputs": [],
   "source": [
    "# df_subs\n",
    "for idx,name,df_sub in df_subs:\n",
    "    filename=f\"./data/10_split/splits/{idx}-{name}.xlsx\"\n",
    "    df_sub.to_excel(filename,index=False)\n"
   ]
  },
  {
   "cell_type": "markdown",
   "id": "1d90d049",
   "metadata": {},
   "source": [
    "#### 合并excel"
   ]
  },
  {
   "cell_type": "code",
   "execution_count": 63,
   "id": "21f3d140",
   "metadata": {},
   "outputs": [],
   "source": [
    "files_dir='./data/10_split/splits/'\n",
    "files=os.listdir(files_dir)\n"
   ]
  },
  {
   "cell_type": "code",
   "execution_count": 69,
   "id": "e5f12b61",
   "metadata": {},
   "outputs": [
    {
     "name": "stdout",
     "output_type": "stream",
     "text": [
      "0-aa.xlsx\n",
      "4-ee.xlsx\n",
      "3-dd.xlsx\n",
      "1-bb.xlsx\n",
      "2-cc.xlsx\n",
      "5-ff.xlsx\n"
     ]
    }
   ],
   "source": [
    "df_list=[]\n",
    "for filename in files:\n",
    "    if filename == \".DS_Store\":\n",
    "        continue\n",
    "    idx,username=filename.replace(\".xlsx\",\"\").split(\"-\")\n",
    "    df = pd.read_excel(f\"{files_dir}/{filename}\")\n",
    "    # 为df新增列\n",
    "    df[\"username\"]=username\n",
    "    df_list.append(df)\n",
    "    "
   ]
  },
  {
   "cell_type": "code",
   "execution_count": 70,
   "id": "850da617",
   "metadata": {},
   "outputs": [],
   "source": [
    "df_merge = pd.concat(df_list, ignore_index=True)"
   ]
  },
  {
   "cell_type": "code",
   "execution_count": 76,
   "id": "052b6b1c",
   "metadata": {},
   "outputs": [
    {
     "data": {
      "text/html": [
       "<div>\n",
       "<style scoped>\n",
       "    .dataframe tbody tr th:only-of-type {\n",
       "        vertical-align: middle;\n",
       "    }\n",
       "\n",
       "    .dataframe tbody tr th {\n",
       "        vertical-align: top;\n",
       "    }\n",
       "\n",
       "    .dataframe thead th {\n",
       "        text-align: right;\n",
       "    }\n",
       "</style>\n",
       "<table border=\"1\" class=\"dataframe\">\n",
       "  <thead>\n",
       "    <tr style=\"text-align: right;\">\n",
       "      <th></th>\n",
       "      <th>movieId</th>\n",
       "      <th>title</th>\n",
       "      <th>genres</th>\n",
       "      <th>username</th>\n",
       "    </tr>\n",
       "  </thead>\n",
       "  <tbody>\n",
       "    <tr>\n",
       "      <th>62418</th>\n",
       "      <td>209157</td>\n",
       "      <td>We (2018)</td>\n",
       "      <td>Drama</td>\n",
       "      <td>ff</td>\n",
       "    </tr>\n",
       "    <tr>\n",
       "      <th>62419</th>\n",
       "      <td>209159</td>\n",
       "      <td>Window of the Soul (2001)</td>\n",
       "      <td>Documentary</td>\n",
       "      <td>ff</td>\n",
       "    </tr>\n",
       "    <tr>\n",
       "      <th>62420</th>\n",
       "      <td>209163</td>\n",
       "      <td>Bad Poems (2018)</td>\n",
       "      <td>Comedy|Drama</td>\n",
       "      <td>ff</td>\n",
       "    </tr>\n",
       "    <tr>\n",
       "      <th>62421</th>\n",
       "      <td>209169</td>\n",
       "      <td>A Girl Thing (2001)</td>\n",
       "      <td>(no genres listed)</td>\n",
       "      <td>ff</td>\n",
       "    </tr>\n",
       "    <tr>\n",
       "      <th>62422</th>\n",
       "      <td>209171</td>\n",
       "      <td>Women of Devil's Island (1962)</td>\n",
       "      <td>Action|Adventure|Drama</td>\n",
       "      <td>ff</td>\n",
       "    </tr>\n",
       "  </tbody>\n",
       "</table>\n",
       "</div>"
      ],
      "text/plain": [
       "       movieId                           title                  genres username\n",
       "62418   209157                       We (2018)                   Drama       ff\n",
       "62419   209159       Window of the Soul (2001)             Documentary       ff\n",
       "62420   209163                Bad Poems (2018)            Comedy|Drama       ff\n",
       "62421   209169             A Girl Thing (2001)      (no genres listed)       ff\n",
       "62422   209171  Women of Devil's Island (1962)  Action|Adventure|Drama       ff"
      ]
     },
     "execution_count": 76,
     "metadata": {},
     "output_type": "execute_result"
    }
   ],
   "source": [
    "df_merge.tail()"
   ]
  },
  {
   "cell_type": "code",
   "execution_count": 75,
   "id": "8527da37",
   "metadata": {},
   "outputs": [],
   "source": [
    "df_merge.to_excel(f\"{files_dir}/movie_merged.xlsx\",index=False)"
   ]
  },
  {
   "cell_type": "code",
   "execution_count": null,
   "id": "78aa8e32",
   "metadata": {},
   "outputs": [],
   "source": []
  }
 ],
 "metadata": {
  "kernelspec": {
   "display_name": "Python 3 (ipykernel)",
   "language": "python",
   "name": "python3"
  },
  "language_info": {
   "codemirror_mode": {
    "name": "ipython",
    "version": 3
   },
   "file_extension": ".py",
   "mimetype": "text/x-python",
   "name": "python",
   "nbconvert_exporter": "python",
   "pygments_lexer": "ipython3",
   "version": "3.11.5"
  }
 },
 "nbformat": 4,
 "nbformat_minor": 5
}
