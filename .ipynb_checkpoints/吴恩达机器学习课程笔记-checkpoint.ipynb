{
 "cells": [
  {
   "cell_type": "markdown",
   "id": "31064c6a",
   "metadata": {},
   "source": [
    "### 机器学习算法的种类\n",
    "- supervised learning(监督学习)\n",
    "- unsupervised learning(非监督学习)\n",
    "- reinforcement learing(强化学习): 不常用\n",
    "\n",
    "##### 1、supervised learning(监督学习)\n",
    "###### what\n",
    "它是一种从x到y或者输入到输出映射的一种算法，它的关键特征是提供学习算法示例以供其学习\n",
    "* 回归：从无数可能得数字中预测一个数字，属于监督学习中的一个问题. 例如预测房价\n",
    "* 分类：对一个类别做出预测。例如：肿瘤患者的年龄和良性和恶性的关系\n",
    "\n",
    "##### 2、unsupervised learning(非监督学习)\n",
    "\n",
    "* 聚类算法\n",
    "获取没有标签的数据，并且自动将其分组到集群"
   ]
  },
  {
   "cell_type": "code",
   "execution_count": null,
   "id": "db100b0c",
   "metadata": {},
   "outputs": [],
   "source": []
  }
 ],
 "metadata": {
  "kernelspec": {
   "display_name": "Python 3 (ipykernel)",
   "language": "python",
   "name": "python3"
  },
  "language_info": {
   "codemirror_mode": {
    "name": "ipython",
    "version": 3
   },
   "file_extension": ".py",
   "mimetype": "text/x-python",
   "name": "python",
   "nbconvert_exporter": "python",
   "pygments_lexer": "ipython3",
   "version": "3.11.5"
  }
 },
 "nbformat": 4,
 "nbformat_minor": 5
}
