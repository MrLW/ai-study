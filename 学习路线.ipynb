{
 "cells": [
  {
   "cell_type": "markdown",
   "id": "02264ec0",
   "metadata": {},
   "source": [
    "### 第一阶段\n",
    "1. 坚定目标。既然重新选择了一条路，那就走下去，即使未来不会从事该方面的工作.\n",
    "2. 选择编程语言。就目前而言选择python，需要加强python功底.（《流畅的python》）\n",
    "3. 掌握pandas、numpy和Matplotlib的基本使用."
   ]
  }
 ],
 "metadata": {
  "kernelspec": {
   "display_name": "Python 3 (ipykernel)",
   "language": "python",
   "name": "python3"
  },
  "language_info": {
   "codemirror_mode": {
    "name": "ipython",
    "version": 3
   },
   "file_extension": ".py",
   "mimetype": "text/x-python",
   "name": "python",
   "nbconvert_exporter": "python",
   "pygments_lexer": "ipython3",
   "version": "3.11.5"
  }
 },
 "nbformat": 4,
 "nbformat_minor": 5
}
