{
 "cells": [
  {
   "cell_type": "markdown",
   "id": "62e8fb36",
   "metadata": {},
   "source": [
    "## python的奇淫技巧"
   ]
  },
  {
   "cell_type": "markdown",
   "id": "c5adc802",
   "metadata": {},
   "source": [
    "#### 1、lambda\n",
    "lambda 本质上是一个有输入、有返回的匿名函数。结构如：\n",
    "```\n",
    "lambda [arg1 [,arg2,.....argn]]:expression\n",
    "```"
   ]
  },
  {
   "cell_type": "code",
   "execution_count": 1,
   "id": "874ea75e",
   "metadata": {},
   "outputs": [],
   "source": [
    "# 定义一个求和运算\n",
    "total=lambda *args:sum(args)\n",
    "# 屏蔽内部的sleep函数\n",
    "time.sleep=lambda x: None\n"
   ]
  },
  {
   "cell_type": "code",
   "execution_count": null,
   "id": "b6b2b5f7",
   "metadata": {},
   "outputs": [],
   "source": []
  }
 ],
 "metadata": {
  "kernelspec": {
   "display_name": "Python 3 (ipykernel)",
   "language": "python",
   "name": "python3"
  },
  "language_info": {
   "codemirror_mode": {
    "name": "ipython",
    "version": 3
   },
   "file_extension": ".py",
   "mimetype": "text/x-python",
   "name": "python",
   "nbconvert_exporter": "python",
   "pygments_lexer": "ipython3",
   "version": "3.11.5"
  }
 },
 "nbformat": 4,
 "nbformat_minor": 5
}
