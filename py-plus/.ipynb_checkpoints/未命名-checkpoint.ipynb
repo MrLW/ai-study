{
 "cells": [
  {
   "cell_type": "markdown",
   "id": "73c9e185",
   "metadata": {},
   "source": [
    "## python的奇淫技巧"
   ]
  },
  {
   "cell_type": "markdown",
   "id": "8b9542e6",
   "metadata": {},
   "source": [
    "#### 1、lambda\n",
    "lambda 本质上是一个有输入、有返回的匿名函数。结构如：\n",
    "```\n",
    "lambda [arg1 [,arg2,.....argn]]:expression\n",
    "```"
   ]
  },
  {
   "cell_type": "code",
   "execution_count": null,
   "id": "85391cfc",
   "metadata": {},
   "outputs": [],
   "source": [
    "# 定义一个求和运算\n",
    "total=lambda *args:sum(args)"
   ]
  }
 ],
 "metadata": {
  "kernelspec": {
   "display_name": "Python 3 (ipykernel)",
   "language": "python",
   "name": "python3"
  },
  "language_info": {
   "codemirror_mode": {
    "name": "ipython",
    "version": 3
   },
   "file_extension": ".py",
   "mimetype": "text/x-python",
   "name": "python",
   "nbconvert_exporter": "python",
   "pygments_lexer": "ipython3",
   "version": "3.11.5"
  }
 },
 "nbformat": 4,
 "nbformat_minor": 5
}
