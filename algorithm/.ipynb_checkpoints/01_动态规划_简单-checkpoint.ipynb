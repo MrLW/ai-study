{
 "cells": [
  {
   "cell_type": "markdown",
   "id": "9a66ffb4",
   "metadata": {},
   "source": [
    "#### 动态规划算法\n",
    "\n",
    "**步骤**\n",
    "1. 建立状态方程\n",
    "2. \n"
   ]
  },
  {
   "cell_type": "markdown",
   "id": "080817f0",
   "metadata": {},
   "source": [
    "eg1:判断子序列(leetcode-392)\n",
    " \n",
    "给定字符串 s 和 t ，判断 s 是否为 t 的子序列。\n",
    "\n",
    "字符串的一个子序列是原始字符串删除一些（也可以不删除）字符而不改变剩余字符相对位置形成的新字符串。（例如，\"ace\"是\"abcde\"的一个子序列，而\"aec\"不是）。\n",
    "\n",
    "进阶：\n",
    "\n",
    "如果有大量输入的 S，称作 S1, S2, ... , Sk 其中 k >= 10亿，你需要依次检查它们是否为 T 的子序列。在这种情况下，你会怎样改变代码？"
   ]
  },
  {
   "cell_type": "code",
   "execution_count": 24,
   "id": "951c0c30",
   "metadata": {},
   "outputs": [
    {
     "data": {
      "text/plain": [
       "True"
      ]
     },
     "execution_count": 24,
     "metadata": {},
     "output_type": "execute_result"
    }
   ],
   "source": [
    "'''\n",
    "    使用双指针解决\n",
    "'''\n",
    "class Solution:\n",
    "    def isSubsequence(self, s: str, t: str) -> bool:\n",
    "        slen,tlen=len(s),len(t)\n",
    "        if s == \"\" or slen > tlen: return True\n",
    "        sp,tp = 0, 0\n",
    "        while sp < slen and tp < tlen:\n",
    "            if s[sp]!=t[tp]:\n",
    "                tp+=1\n",
    "            else :\n",
    "                sp+=1\n",
    "                tp+=1\n",
    "        if sp == slen and s[sp-1] == t[tp-1]:\n",
    "            return True\n",
    "        return False\n",
    "\n",
    "s=Solution()\n",
    "a,b=\"\",\"abcde\"\n",
    "s.isSubsequence(a,b)"
   ]
  },
  {
   "cell_type": "markdown",
   "id": "492b1a98",
   "metadata": {},
   "source": [
    "eg2: 给定一个非负整数 numRows，生成「杨辉三角」的前 numRows 行。(leetcode-392)\n",
    "\n",
    "在「杨辉三角」中，每个数是它左上方和右上方的数的和。"
   ]
  },
  {
   "cell_type": "code",
   "execution_count": 5,
   "id": "3ebd4d6e",
   "metadata": {},
   "outputs": [
    {
     "name": "stdout",
     "output_type": "stream",
     "text": [
      "[[1], [1, 1]]\n"
     ]
    }
   ],
   "source": [
    "from typing import List\n",
    "\n",
    "class Solution:\n",
    "    def generate(self, numRows: int) -> List[List[int]]:\n",
    "        '''\n",
    "            暴力法\n",
    "        '''\n",
    "        res=[\n",
    "            [1],\n",
    "            [1,1]\n",
    "        ]\n",
    "        if numRows <= 2: return res[0:numRows]\n",
    "        i=2\n",
    "        while i < numRows:\n",
    "            res.append([1])\n",
    "            for j in range(i-1):\n",
    "                res[i].append(res[i-1][j]+ res[i-1][j+1])\n",
    "            res[i].append(1)\n",
    "            i+=1\n",
    "        return res\n",
    "s=Solution()\n",
    "print(s.generate(2))\n"
   ]
  },
  {
   "cell_type": "code",
   "execution_count": 6,
   "id": "d581e0fd",
   "metadata": {},
   "outputs": [],
   "source": [
    "from typing import List\n",
    "\n",
    "class Solution:\n",
    "    def generate(self, numRows: int) -> List[List[int]]:\n",
    "        '''\n",
    "            错位相加法: 利用规律, dp[n] 等于前一行最左边加0，和最右边加0，然后相加\n",
    "        '''\n",
    "        if numRows == 0: return []\n",
    "        res=[[1]]\n",
    "        while len(res) < numRows:\n",
    "            newRow=[a+b for a,b in zip([0] + res[-1], res[-1] + [0])]\n",
    "            res.append(newRow)\n",
    "        return res"
   ]
  },
  {
   "cell_type": "markdown",
   "id": "865e4ad9",
   "metadata": {},
   "source": [
    "eg3: "
   ]
  },
  {
   "cell_type": "code",
   "execution_count": 11,
   "id": "96d36529",
   "metadata": {},
   "outputs": [
    {
     "ename": "SyntaxError",
     "evalue": "invalid syntax (2486153548.py, line 8)",
     "output_type": "error",
     "traceback": [
      "\u001b[0;36m  Cell \u001b[0;32mIn[11], line 8\u001b[0;36m\u001b[0m\n\u001b[0;31m    item=a + b for a, b in zip(res.insert(0, 0), res.append(0))\u001b[0m\n\u001b[0m               ^\u001b[0m\n\u001b[0;31mSyntaxError\u001b[0m\u001b[0;31m:\u001b[0m invalid syntax\n"
     ]
    }
   ],
   "source": [
    "from typing import List\n",
    "\n",
    "class Solution:\n",
    "    def getRow(self, rowIndex: int) -> List[int]:\n",
    "        if rowIndex == 0: return []\n",
    "        res=[1]\n",
    "        while len(res) < rowIndex:\n",
    "            item=[a + b for a, b in zip(res.insert(0, 0), res.append(0))]\n",
    "            print(item)\n",
    "        return res\n",
    "s = Solution()\n",
    "print(s.getRow(2))"
   ]
  },
  {
   "cell_type": "code",
   "execution_count": null,
   "id": "909a2e1c",
   "metadata": {},
   "outputs": [],
   "source": []
  }
 ],
 "metadata": {
  "kernelspec": {
   "display_name": "Python 3 (ipykernel)",
   "language": "python",
   "name": "python3"
  },
  "language_info": {
   "codemirror_mode": {
    "name": "ipython",
    "version": 3
   },
   "file_extension": ".py",
   "mimetype": "text/x-python",
   "name": "python",
   "nbconvert_exporter": "python",
   "pygments_lexer": "ipython3",
   "version": "3.11.5"
  }
 },
 "nbformat": 4,
 "nbformat_minor": 5
}
