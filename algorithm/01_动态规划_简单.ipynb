{
 "cells": [
  {
   "cell_type": "markdown",
   "id": "9a66ffb4",
   "metadata": {},
   "source": [
    "#### 动态规划算法\n",
    "\n",
    "**步骤**\n",
    "1. 建立状态方程\n",
    "2. \n"
   ]
  },
  {
   "cell_type": "markdown",
   "id": "080817f0",
   "metadata": {},
   "source": [
    "eg1:判断子序列(leetcode-392)\n",
    " \n",
    "给定字符串 s 和 t ，判断 s 是否为 t 的子序列。\n",
    "\n",
    "字符串的一个子序列是原始字符串删除一些（也可以不删除）字符而不改变剩余字符相对位置形成的新字符串。（例如，\"ace\"是\"abcde\"的一个子序列，而\"aec\"不是）。\n",
    "\n",
    "进阶：\n",
    "\n",
    "如果有大量输入的 S，称作 S1, S2, ... , Sk 其中 k >= 10亿，你需要依次检查它们是否为 T 的子序列。在这种情况下，你会怎样改变代码？"
   ]
  },
  {
   "cell_type": "code",
   "execution_count": 24,
   "id": "951c0c30",
   "metadata": {},
   "outputs": [
    {
     "data": {
      "text/plain": [
       "True"
      ]
     },
     "execution_count": 24,
     "metadata": {},
     "output_type": "execute_result"
    }
   ],
   "source": [
    "'''\n",
    "    使用双指针解决\n",
    "'''\n",
    "class Solution:\n",
    "    def isSubsequence(self, s: str, t: str) -> bool:\n",
    "        slen,tlen=len(s),len(t)\n",
    "        if s == \"\" or slen > tlen: return True\n",
    "        sp,tp = 0, 0\n",
    "        while sp < slen and tp < tlen:\n",
    "            if s[sp]!=t[tp]:\n",
    "                tp+=1\n",
    "            else :\n",
    "                sp+=1\n",
    "                tp+=1\n",
    "        if sp == slen and s[sp-1] == t[tp-1]:\n",
    "            return True\n",
    "        return False\n",
    "\n",
    "s=Solution()\n",
    "a,b=\"\",\"abcde\"\n",
    "s.isSubsequence(a,b)"
   ]
  },
  {
   "cell_type": "code",
   "execution_count": null,
   "id": "084dec12",
   "metadata": {},
   "outputs": [],
   "source": []
  }
 ],
 "metadata": {
  "kernelspec": {
   "display_name": "Python 3 (ipykernel)",
   "language": "python",
   "name": "python3"
  },
  "language_info": {
   "codemirror_mode": {
    "name": "ipython",
    "version": 3
   },
   "file_extension": ".py",
   "mimetype": "text/x-python",
   "name": "python",
   "nbconvert_exporter": "python",
   "pygments_lexer": "ipython3",
   "version": "3.11.5"
  }
 },
 "nbformat": 4,
 "nbformat_minor": 5
}
